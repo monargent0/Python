{
 "cells": [
  {
   "cell_type": "markdown",
   "metadata": {},
   "source": [
    "### 순차 데이터\n",
    "- 텍스트 데이터(ex: I am a boy) : 순서가 의미가 있다.\n",
    "- 시게열 데이터(ex: 1일 10도, 2일 8도)"
   ]
  },
  {
   "cell_type": "markdown",
   "metadata": {},
   "source": [
    "# RNN (Recurrent Neural Network, 순환신경망 )\n",
    "- 순환데이터, 순환신경망 \n",
    "- 텍스트 데이터(ex: I am a boy) : 순서가 의미가 있다. \n",
    "- 시계열 데이터(ex: 1일 10도, 2일 8도)"
   ]
  },
  {
   "cell_type": "markdown",
   "metadata": {},
   "source": [
    "\n",
    "---"
   ]
  },
  {
   "cell_type": "markdown",
   "metadata": {},
   "source": [
    "# 순환 신경망 (RNN : Recurrent Neural Network)"
   ]
  },
  {
   "cell_type": "markdown",
   "metadata": {},
   "source": [
    "- IMDB - Internet Movie Database\n",
    "- IMDB구성 : Train Data (25000개중 긍정 12500개, 부정 12500개) , Test Data (25000개중 긍정 12500개, 부정 12500개)\n",
    "- NLP : Natural Language Processing(자연어 처리)\n",
    "- 말뭉치 : 하나의 데이터셋을 말뭉치라고 표현\n",
    "- 토큰 : 하나의 단어를 토큰이라고 표현 \n",
    "- 어휘사전 : 번호로 구분된 유일한 단어들의 집단\n",
    "- 머신러닝 이나 딥러닝 에서는 데이터가 숫자로 구성되어 있어야 함으로 이런 단어들을 고유한 번호로 할당하여 사용"
   ]
  },
  {
   "cell_type": "code",
   "execution_count": 2,
   "metadata": {},
   "outputs": [
    {
     "name": "stdout",
     "output_type": "stream",
     "text": [
      "Downloading data from https://storage.googleapis.com/tensorflow/tf-keras-datasets/imdb.npz\n",
      "17464789/17464789 [==============================] - 173s 10us/step\n"
     ]
    }
   ],
   "source": [
    "from tensorflow.keras.datasets import imdb\n",
    "(train_input, train_target) , (test_input, test_target) = imdb.load_data(num_words= 500) # 500개 단어\n",
    "# 25000개 문장 중에서 500개 단어만 사용한다"
   ]
  },
  {
   "cell_type": "code",
   "execution_count": 3,
   "metadata": {},
   "outputs": [
    {
     "name": "stdout",
     "output_type": "stream",
     "text": [
      "(25000,) (25000,)\n"
     ]
    }
   ],
   "source": [
    "print(train_input.shape , test_input.shape)"
   ]
  },
  {
   "cell_type": "code",
   "execution_count": 4,
   "metadata": {},
   "outputs": [
    {
     "data": {
      "text/plain": [
       "218"
      ]
     },
     "execution_count": 4,
     "metadata": {},
     "output_type": "execute_result"
    }
   ],
   "source": [
    "# train의 첫번째 문장의 Token 갯수\n",
    "len(train_input[0])"
   ]
  },
  {
   "cell_type": "code",
   "execution_count": 5,
   "metadata": {},
   "outputs": [
    {
     "data": {
      "text/plain": [
       "189"
      ]
     },
     "execution_count": 5,
     "metadata": {},
     "output_type": "execute_result"
    }
   ],
   "source": [
    "len(train_input[1])"
   ]
  },
  {
   "cell_type": "code",
   "execution_count": 6,
   "metadata": {},
   "outputs": [
    {
     "name": "stdout",
     "output_type": "stream",
     "text": [
      "[1, 14, 22, 16, 43, 2, 2, 2, 2, 65, 458, 2, 66, 2, 4, 173, 36, 256, 5, 25, 100, 43, 2, 112, 50, 2, 2, 9, 35, 480, 284, 5, 150, 4, 172, 112, 167, 2, 336, 385, 39, 4, 172, 2, 2, 17, 2, 38, 13, 447, 4, 192, 50, 16, 6, 147, 2, 19, 14, 22, 4, 2, 2, 469, 4, 22, 71, 87, 12, 16, 43, 2, 38, 76, 15, 13, 2, 4, 22, 17, 2, 17, 12, 16, 2, 18, 2, 5, 62, 386, 12, 8, 316, 8, 106, 5, 4, 2, 2, 16, 480, 66, 2, 33, 4, 130, 12, 16, 38, 2, 5, 25, 124, 51, 36, 135, 48, 25, 2, 33, 6, 22, 12, 215, 28, 77, 52, 5, 14, 407, 16, 82, 2, 8, 4, 107, 117, 2, 15, 256, 4, 2, 7, 2, 5, 2, 36, 71, 43, 2, 476, 26, 400, 317, 46, 7, 4, 2, 2, 13, 104, 88, 4, 381, 15, 297, 98, 32, 2, 56, 26, 141, 6, 194, 2, 18, 4, 226, 22, 21, 134, 476, 26, 480, 5, 144, 30, 2, 18, 51, 36, 28, 224, 92, 25, 104, 4, 226, 65, 16, 38, 2, 88, 12, 16, 283, 5, 16, 2, 113, 103, 32, 15, 16, 2, 19, 178, 32]\n"
     ]
    }
   ],
   "source": [
    "# 첫번쨰 댓글의 출력\n",
    "print(train_input[0]) \n",
    "#단어 가 문자가 아니라 숫자로 되어있다."
   ]
  },
  {
   "cell_type": "markdown",
   "metadata": {},
   "source": [
    "- 샘플의 시작부분 토큰은 1을 사용한다. (1이 단어는 아니다. 시작이라는 표시)\n",
    "- 2는 선정한 단어 갯수에 포함되지 않는 단어를 표현한다.\n",
    "- train_input 자체는 numpy 배열이나 댓글에 사용된 토큰 수가 다르기 때문에 numpy 배열을 사용 못하고 python list를 사용한다."
   ]
  },
  {
   "cell_type": "code",
   "execution_count": 7,
   "metadata": {},
   "outputs": [
    {
     "name": "stdout",
     "output_type": "stream",
     "text": [
      "[1 0 0 1 0 0 1 0 1 0]\n"
     ]
    }
   ],
   "source": [
    "# train의 target 출력\n",
    "print(train_target[:10])\n",
    "# 1 : 긍정 , 0 : 부정"
   ]
  },
  {
   "cell_type": "code",
   "execution_count": 8,
   "metadata": {},
   "outputs": [],
   "source": [
    "# 훈련세트 준비\n",
    "from sklearn.model_selection import train_test_split\n",
    "train_input , val_input, train_target, val_target = train_test_split(train_input , train_target , test_size= 0.2, random_state=42)"
   ]
  },
  {
   "cell_type": "code",
   "execution_count": 9,
   "metadata": {},
   "outputs": [
    {
     "name": "stdout",
     "output_type": "stream",
     "text": [
      "239.00925 178.0\n"
     ]
    }
   ],
   "source": [
    "# 각 리뷰마다 문장 길이를 시각화\n",
    "import numpy as np\n",
    "lengths = np.array([len(x) for x in train_input])\n",
    "print(np.mean(lengths) , np.median(lengths))"
   ]
  },
  {
   "cell_type": "markdown",
   "metadata": {},
   "source": [
    "> 오른쪽 쏠림 현상. 예상치 못하게 긴 댓글들이 있다"
   ]
  },
  {
   "cell_type": "code",
   "execution_count": 10,
   "metadata": {},
   "outputs": [
    {
     "data": {
      "image/png": "[encoded data removed]",
      "text/plain": [
       "<Figure size 432x288 with 1 Axes>"
      ]
     },
     "metadata": {
      "needs_background": "light"
     },
     "output_type": "display_data"
    }
   ],
   "source": [
    "import matplotlib.pyplot as plt\n",
    "plt.hist(lengths)\n",
    "plt.xlabel('length')\n",
    "plt.ylabel('frequency')\n",
    "plt.show()"
   ]
  },
  {
   "cell_type": "markdown",
   "metadata": {},
   "source": [
    "---\n",
    "### Sequence Padding\n",
    "- 전체 자릿수를 100으로 가정했을 경우 한문장에 3개 토큰만 있을 경우 나머지 97개는 비워지고 이를 0으로 채우는 과정"
   ]
  },
  {
   "cell_type": "code",
   "execution_count": 11,
   "metadata": {},
   "outputs": [],
   "source": [
    "from tensorflow.keras.preprocessing.sequence import pad_sequences\n",
    "train_seq = pad_sequences(train_input , maxlen = 100) # 위의 차트에서 100개 부분이 제일 많은것 같아 100개의 토큰만 사용\n",
    "val_seq = pad_sequences(val_input, maxlen = 100) # 검증 데이터"
   ]
  },
  {
   "cell_type": "code",
   "execution_count": 12,
   "metadata": {},
   "outputs": [
    {
     "name": "stdout",
     "output_type": "stream",
     "text": [
      "(20000, 100)\n"
     ]
    }
   ],
   "source": [
    "# 크기 확인\n",
    "print(train_seq.shape)"
   ]
  },
  {
   "cell_type": "markdown",
   "metadata": {},
   "source": [
    "> 25000개의 훈련 세트중 500개는 검증세트로 빠짐"
   ]
  },
  {
   "cell_type": "code",
   "execution_count": 13,
   "metadata": {},
   "outputs": [
    {
     "name": "stdout",
     "output_type": "stream",
     "text": [
      "[ 10   4  20   9   2 364 352   5  45   6   2   2  33 269   8   2 142   2\n",
      "   5   2  17  73  17 204   5   2  19  55   2   2  92  66 104  14  20  93\n",
      "  76   2 151  33   4  58  12 188   2 151  12 215  69 224 142  73 237   6\n",
      "   2   7   2   2 188   2 103  14  31  10  10 451   7   2   5   2  80  91\n",
      "   2  30   2  34  14  20 151  50  26 131  49   2  84  46  50  37  80  79\n",
      "   6   2  46   7  14  20  10  10 470 158]\n"
     ]
    }
   ],
   "source": [
    "# 첫번째 댓글 확인\n",
    "print(train_seq[0])"
   ]
  },
  {
   "cell_type": "code",
   "execution_count": 14,
   "metadata": {},
   "outputs": [
    {
     "name": "stdout",
     "output_type": "stream",
     "text": [
      "[6, 2, 46, 7, 14, 20, 10, 10, 470, 158]\n"
     ]
    }
   ],
   "source": [
    "# 원본의 첫번째 댓글의 마지막 10개만 출력\n",
    "print(train_input[0][-10:])"
   ]
  },
  {
   "cell_type": "code",
   "execution_count": 42,
   "metadata": {},
   "outputs": [
    {
     "name": "stdout",
     "output_type": "stream",
     "text": [
      "[  0   0   0   0   1   2 195  19  49   2   2 190   4   2 352   2 183  10\n",
      "  10  13  82  79   4   2  36  71 269   8   2  25  19  49   7   4   2   2\n",
      "   2   2   2  10  10  48  25  40   2  11   2   2  40   2   2   5   4   2\n",
      "   2  95  14 238  56 129   2  10  10  21   2  94 364 352   2   2  11 190\n",
      "  24 484   2   7  94 205 405  10  10  87   2  34  49   2   7   2   2   2\n",
      "   2   2 290   2  46  48  64  18   4   2]\n",
      "[  7  58   4  20  16   2   5   2  45   2   4   2  78   2   2  15 297   2\n",
      "   2   2 247  74 149  14  20  13 144  28  69   6   2   2   4   2 354  71\n",
      "   2   2  34   2   2  14  20  69   2   2   8   4   2   2  15   9   2  34\n",
      "   2  54  36 297   2   2   2 190  88  45   2   2   4 283   2   7   4   2\n",
      " 100  24  30   2   8  22   4 116   9   2  19   4   2   7   2   2   5   2\n",
      "   2   2   2   2  11   4  22  16 340   2]\n"
     ]
    }
   ],
   "source": [
    "print(train_seq[5])\n",
    "print(train_seq[3])"
   ]
  },
  {
   "cell_type": "markdown",
   "metadata": {},
   "source": [
    "---\n",
    "# 순환 신경망 모델 만들기"
   ]
  },
  {
   "cell_type": "code",
   "execution_count": 16,
   "metadata": {},
   "outputs": [],
   "source": [
    "from tensorflow import keras"
   ]
  },
  {
   "cell_type": "code",
   "execution_count": 30,
   "metadata": {},
   "outputs": [],
   "source": [
    "model = keras.Sequential()\n",
    "model.add(keras.layers.SimpleRNN( 8, input_shape = [100, 500]) ) # 8 : cell 갯수  # 500 : One Hot Encoding \n",
    "model.add(keras.layers.Dense(1 , activation = \"sigmoid\")) # sigmoid 는 0,1 일경우 1개만 가지고도 할 수 있다 (... ?)"
   ]
  },
  {
   "cell_type": "code",
   "execution_count": 31,
   "metadata": {},
   "outputs": [
    {
     "name": "stdout",
     "output_type": "stream",
     "text": [
      "(20000, 100, 500)\n"
     ]
    }
   ],
   "source": [
    "# One Hot Encoding\n",
    "train_oh = keras.utils.to_categorical(train_seq)\n",
    "print(train_oh.shape)"
   ]
  },
  {
   "cell_type": "code",
   "execution_count": 32,
   "metadata": {},
   "outputs": [
    {
     "name": "stdout",
     "output_type": "stream",
     "text": [
      "1.0\n"
     ]
    }
   ],
   "source": [
    "# One hot encoding 확인하기 (1이 하나밖에 없는지)\n",
    "print(np.sum(train_oh[0][0]))"
   ]
  },
  {
   "cell_type": "code",
   "execution_count": 33,
   "metadata": {},
   "outputs": [
    {
     "data": {
      "text/plain": [
       "(5000, 100, 500)"
      ]
     },
     "execution_count": 33,
     "metadata": {},
     "output_type": "execute_result"
    }
   ],
   "source": [
    "val_oh = keras.utils.to_categorical(val_seq)\n",
    "val_oh.shape"
   ]
  },
  {
   "cell_type": "code",
   "execution_count": 34,
   "metadata": {},
   "outputs": [
    {
     "name": "stdout",
     "output_type": "stream",
     "text": [
      "Model: \"sequential_2\"\n",
      "_________________________________________________________________\n",
      " Layer (type)                Output Shape              Param #   \n",
      "=================================================================\n",
      " simple_rnn_1 (SimpleRNN)    (None, 8)                 4072      \n",
      "                                                                 \n",
      " dense_2 (Dense)             (None, 1)                 9         \n",
      "                                                                 \n",
      "=================================================================\n",
      "Total params: 4,081\n",
      "Trainable params: 4,081\n",
      "Non-trainable params: 0\n",
      "_________________________________________________________________\n"
     ]
    }
   ],
   "source": [
    "model.summary()"
   ]
  },
  {
   "cell_type": "markdown",
   "metadata": {},
   "source": [
    "500 * 8 + (8 * 8)(cell 8개가 8번씩 반복한다) + 8(절편) = 4072\n",
    "> cell 8 : 단어를 8개 썻을 것이다 라고 추측. cell 갯수 : token 갯수"
   ]
  },
  {
   "cell_type": "code",
   "execution_count": 35,
   "metadata": {},
   "outputs": [
    {
     "name": "stdout",
     "output_type": "stream",
     "text": [
      "Epoch 1/100\n",
      "313/313 [==============================] - 17s 51ms/step - loss: 0.7009 - accuracy: 0.5012 - val_loss: 0.6982 - val_accuracy: 0.5068\n",
      "Epoch 2/100\n",
      "313/313 [==============================] - 15s 48ms/step - loss: 0.6953 - accuracy: 0.5131 - val_loss: 0.6950 - val_accuracy: 0.5074\n",
      "Epoch 3/100\n",
      "313/313 [==============================] - 14s 45ms/step - loss: 0.6920 - accuracy: 0.5233 - val_loss: 0.6931 - val_accuracy: 0.5190\n",
      "Epoch 4/100\n",
      "313/313 [==============================] - 14s 45ms/step - loss: 0.6896 - accuracy: 0.5350 - val_loss: 0.6919 - val_accuracy: 0.5232\n",
      "Epoch 5/100\n",
      "313/313 [==============================] - 14s 46ms/step - loss: 0.6875 - accuracy: 0.5441 - val_loss: 0.6909 - val_accuracy: 0.5302\n",
      "Epoch 6/100\n",
      "313/313 [==============================] - 14s 44ms/step - loss: 0.6852 - accuracy: 0.5543 - val_loss: 0.6891 - val_accuracy: 0.5418\n",
      "Epoch 7/100\n",
      "313/313 [==============================] - 16s 51ms/step - loss: 0.6799 - accuracy: 0.5714 - val_loss: 0.6776 - val_accuracy: 0.5838\n",
      "Epoch 8/100\n",
      "313/313 [==============================] - 15s 47ms/step - loss: 0.6665 - accuracy: 0.6119 - val_loss: 0.6658 - val_accuracy: 0.6134\n",
      "Epoch 9/100\n",
      "313/313 [==============================] - 14s 45ms/step - loss: 0.6526 - accuracy: 0.6378 - val_loss: 0.6526 - val_accuracy: 0.6368\n",
      "Epoch 10/100\n",
      "313/313 [==============================] - 14s 44ms/step - loss: 0.6356 - accuracy: 0.6654 - val_loss: 0.6355 - val_accuracy: 0.6592\n",
      "Epoch 11/100\n",
      "313/313 [==============================] - 14s 44ms/step - loss: 0.6152 - accuracy: 0.6939 - val_loss: 0.6149 - val_accuracy: 0.6894\n",
      "Epoch 12/100\n",
      "313/313 [==============================] - 14s 45ms/step - loss: 0.5948 - accuracy: 0.7140 - val_loss: 0.5990 - val_accuracy: 0.7012\n",
      "Epoch 13/100\n",
      "313/313 [==============================] - 13s 42ms/step - loss: 0.5757 - accuracy: 0.7313 - val_loss: 0.5808 - val_accuracy: 0.7192\n",
      "Epoch 14/100\n",
      "313/313 [==============================] - 14s 46ms/step - loss: 0.5577 - accuracy: 0.7467 - val_loss: 0.5626 - val_accuracy: 0.7392\n",
      "Epoch 15/100\n",
      "313/313 [==============================] - 14s 44ms/step - loss: 0.5416 - accuracy: 0.7602 - val_loss: 0.5474 - val_accuracy: 0.7456\n",
      "Epoch 16/100\n",
      "313/313 [==============================] - 14s 44ms/step - loss: 0.5271 - accuracy: 0.7674 - val_loss: 0.5360 - val_accuracy: 0.7612\n",
      "Epoch 17/100\n",
      "313/313 [==============================] - 15s 48ms/step - loss: 0.5141 - accuracy: 0.7743 - val_loss: 0.5242 - val_accuracy: 0.7634\n",
      "Epoch 18/100\n",
      "313/313 [==============================] - 15s 48ms/step - loss: 0.5029 - accuracy: 0.7796 - val_loss: 0.5160 - val_accuracy: 0.7652\n",
      "Epoch 19/100\n",
      "313/313 [==============================] - 14s 44ms/step - loss: 0.4924 - accuracy: 0.7847 - val_loss: 0.5080 - val_accuracy: 0.7712\n",
      "Epoch 20/100\n",
      "313/313 [==============================] - 13s 43ms/step - loss: 0.4840 - accuracy: 0.7890 - val_loss: 0.5013 - val_accuracy: 0.7742\n",
      "Epoch 21/100\n",
      "313/313 [==============================] - 13s 41ms/step - loss: 0.4754 - accuracy: 0.7932 - val_loss: 0.4939 - val_accuracy: 0.7770\n",
      "Epoch 22/100\n",
      "313/313 [==============================] - 13s 42ms/step - loss: 0.4683 - accuracy: 0.7958 - val_loss: 0.4893 - val_accuracy: 0.7776\n",
      "Epoch 23/100\n",
      "313/313 [==============================] - 13s 41ms/step - loss: 0.4608 - accuracy: 0.7998 - val_loss: 0.4852 - val_accuracy: 0.7780\n",
      "Epoch 24/100\n",
      "313/313 [==============================] - 13s 41ms/step - loss: 0.4552 - accuracy: 0.8019 - val_loss: 0.4809 - val_accuracy: 0.7806\n",
      "Epoch 25/100\n",
      "313/313 [==============================] - 13s 40ms/step - loss: 0.4498 - accuracy: 0.8037 - val_loss: 0.4771 - val_accuracy: 0.7814\n",
      "Epoch 26/100\n",
      "313/313 [==============================] - 13s 41ms/step - loss: 0.4448 - accuracy: 0.8065 - val_loss: 0.4754 - val_accuracy: 0.7802\n",
      "Epoch 27/100\n",
      "313/313 [==============================] - 13s 41ms/step - loss: 0.4402 - accuracy: 0.8084 - val_loss: 0.4719 - val_accuracy: 0.7828\n",
      "Epoch 28/100\n",
      "313/313 [==============================] - 13s 40ms/step - loss: 0.4364 - accuracy: 0.8095 - val_loss: 0.4762 - val_accuracy: 0.7784\n",
      "Epoch 29/100\n",
      "313/313 [==============================] - 13s 43ms/step - loss: 0.4328 - accuracy: 0.8104 - val_loss: 0.4684 - val_accuracy: 0.7820\n",
      "Epoch 30/100\n",
      "313/313 [==============================] - 13s 41ms/step - loss: 0.4290 - accuracy: 0.8135 - val_loss: 0.4660 - val_accuracy: 0.7858\n",
      "Epoch 31/100\n",
      "313/313 [==============================] - 13s 42ms/step - loss: 0.4262 - accuracy: 0.8139 - val_loss: 0.4665 - val_accuracy: 0.7814\n",
      "Epoch 32/100\n",
      "313/313 [==============================] - 13s 41ms/step - loss: 0.4237 - accuracy: 0.8161 - val_loss: 0.4675 - val_accuracy: 0.7814\n",
      "Epoch 33/100\n",
      "313/313 [==============================] - 13s 42ms/step - loss: 0.4213 - accuracy: 0.8160 - val_loss: 0.4634 - val_accuracy: 0.7838\n",
      "Epoch 34/100\n",
      "313/313 [==============================] - 13s 41ms/step - loss: 0.4189 - accuracy: 0.8172 - val_loss: 0.4614 - val_accuracy: 0.7856\n",
      "Epoch 35/100\n",
      "313/313 [==============================] - 13s 42ms/step - loss: 0.4173 - accuracy: 0.8184 - val_loss: 0.4614 - val_accuracy: 0.7838\n",
      "Epoch 36/100\n",
      "313/313 [==============================] - 14s 43ms/step - loss: 0.4152 - accuracy: 0.8197 - val_loss: 0.4608 - val_accuracy: 0.7848\n",
      "Epoch 37/100\n",
      "313/313 [==============================] - 13s 43ms/step - loss: 0.4132 - accuracy: 0.8206 - val_loss: 0.4632 - val_accuracy: 0.7834\n",
      "Epoch 38/100\n",
      "313/313 [==============================] - 13s 41ms/step - loss: 0.4116 - accuracy: 0.8192 - val_loss: 0.4622 - val_accuracy: 0.7834\n",
      "Epoch 39/100\n",
      "313/313 [==============================] - 13s 42ms/step - loss: 0.4102 - accuracy: 0.8215 - val_loss: 0.4593 - val_accuracy: 0.7856\n",
      "Epoch 40/100\n",
      "313/313 [==============================] - 13s 42ms/step - loss: 0.4082 - accuracy: 0.8228 - val_loss: 0.4623 - val_accuracy: 0.7842\n",
      "Epoch 41/100\n",
      "313/313 [==============================] - 13s 42ms/step - loss: 0.4069 - accuracy: 0.8231 - val_loss: 0.4629 - val_accuracy: 0.7854\n",
      "Epoch 42/100\n",
      "313/313 [==============================] - 13s 43ms/step - loss: 0.4057 - accuracy: 0.8235 - val_loss: 0.4685 - val_accuracy: 0.7820\n"
     ]
    }
   ],
   "source": [
    "# 훈련하기\n",
    "rmsprop = keras.optimizers.RMSprop(learning_rate= 1e-4 ) # learning rate : optimizer , 1e-4 : 0.0001\n",
    "model.compile(\n",
    "    optimizer = rmsprop,\n",
    "    loss = 'binary_crossentropy',\n",
    "    metrics = 'accuracy'\n",
    "    )\n",
    "checkpoint_cb = keras.callbacks.ModelCheckpoint('../Data/best_simplernn_model.h5')\n",
    "early_stopping_cb = keras.callbacks.EarlyStopping(\n",
    "    patience = 3,\n",
    "    restore_best_weights = True\n",
    ")\n",
    "history = model.fit(\n",
    "    train_oh,\n",
    "    train_target,\n",
    "    epochs = 100 , # RNN에서는 제일 작은게 100이다.\n",
    "    batch_size = 64, # mini_batch 경사 하강법 / (8*8)에서 나왔다. / all batch: 4072 \n",
    "    validation_data = (val_oh , val_target),\n",
    "    callbacks = [checkpoint_cb , early_stopping_cb]\n",
    ")"
   ]
  },
  {
   "cell_type": "code",
   "execution_count": 38,
   "metadata": {},
   "outputs": [
    {
     "data": {
      "image/png": "[encoded data removed]",
      "text/plain": [
       "<Figure size 432x288 with 1 Axes>"
      ]
     },
     "metadata": {
      "needs_background": "light"
     },
     "output_type": "display_data"
    }
   ],
   "source": [
    "# 시각화 해보기\n",
    "plt.plot(history.history['loss'])\n",
    "plt.plot(history.history['val_loss'])\n",
    "plt.xlabel('epoch')\n",
    "plt.ylabel('loss')\n",
    "plt.legend(['train' , 'val'])\n",
    "plt.show()"
   ]
  },
  {
   "cell_type": "code",
   "execution_count": 39,
   "metadata": {},
   "outputs": [
    {
     "name": "stdout",
     "output_type": "stream",
     "text": [
      "157/157 [==============================] - 2s 15ms/step - loss: 0.4593 - accuracy: 0.7856\n"
     ]
    },
    {
     "data": {
      "text/plain": [
       "[0.45929545164108276, 0.7856000065803528]"
      ]
     },
     "execution_count": 39,
     "metadata": {},
     "output_type": "execute_result"
    }
   ],
   "source": [
    "model.evaluate(val_oh , val_target)"
   ]
  },
  {
   "cell_type": "markdown",
   "metadata": {},
   "source": [
    "---\n",
    "### LSTM (Long Short Term Memory)\n",
    "- 순환신경망의 셀로 이전 타임스텝의 샘플을 기억하고 있음\n",
    "\n",
    "문장 기억?"
   ]
  },
  {
   "cell_type": "markdown",
   "metadata": {},
   "source": [
    "한 데이터가 들어가서 나온 값의 순서를 기억한다. \n",
    "ex 첫번째 셀에 데이터가 들어가서 0.7이 나왔다. 두번째 데이터가 들어가서 0.5가 나왔다. LSTM은 0.7 뒤에 0.5가 나올 수 있구나를 기억하는 것. "
   ]
  },
  {
   "cell_type": "code",
   "execution_count": 40,
   "metadata": {},
   "outputs": [
    {
     "name": "stdout",
     "output_type": "stream",
     "text": [
      "Model: \"sequential_3\"\n",
      "_________________________________________________________________\n",
      " Layer (type)                Output Shape              Param #   \n",
      "=================================================================\n",
      " embedding_1 (Embedding)     (None, 100, 16)           8000      \n",
      "                                                                 \n",
      " lstm_1 (LSTM)               (None, 8)                 800       \n",
      "                                                                 \n",
      " dense_3 (Dense)             (None, 1)                 9         \n",
      "                                                                 \n",
      "=================================================================\n",
      "Total params: 8,809\n",
      "Trainable params: 8,809\n",
      "Non-trainable params: 0\n",
      "_________________________________________________________________\n"
     ]
    }
   ],
   "source": [
    "model = keras.Sequential()\n",
    "model.add(keras.layers.Embedding(500 , 16, input_length = 100 )) # one-hot encoding , 16: hyperparameter\n",
    "model.add(keras.layers.LSTM(8)) # 8개의 Cell을 사용한다.\n",
    "model.add(keras.layers.Dense(1 , activation = 'sigmoid'))\n",
    "\n",
    "model.summary()"
   ]
  },
  {
   "cell_type": "code",
   "execution_count": 41,
   "metadata": {},
   "outputs": [
    {
     "name": "stdout",
     "output_type": "stream",
     "text": [
      "Epoch 1/100\n",
      "313/313 [==============================] - 15s 39ms/step - loss: 0.6918 - accuracy: 0.5595 - val_loss: 0.6906 - val_accuracy: 0.5918\n",
      "Epoch 2/100\n",
      "313/313 [==============================] - 10s 31ms/step - loss: 0.6873 - accuracy: 0.6320 - val_loss: 0.6840 - val_accuracy: 0.6256\n",
      "Epoch 3/100\n",
      "313/313 [==============================] - 10s 32ms/step - loss: 0.6701 - accuracy: 0.6187 - val_loss: 0.6501 - val_accuracy: 0.6112\n",
      "Epoch 4/100\n",
      "313/313 [==============================] - 10s 33ms/step - loss: 0.6108 - accuracy: 0.7043 - val_loss: 0.5927 - val_accuracy: 0.7366\n",
      "Epoch 5/100\n",
      "313/313 [==============================] - 10s 32ms/step - loss: 0.5740 - accuracy: 0.7510 - val_loss: 0.5675 - val_accuracy: 0.7470\n",
      "Epoch 6/100\n",
      "313/313 [==============================] - 10s 31ms/step - loss: 0.5513 - accuracy: 0.7601 - val_loss: 0.5502 - val_accuracy: 0.7596\n",
      "Epoch 7/100\n",
      "313/313 [==============================] - 10s 32ms/step - loss: 0.5331 - accuracy: 0.7685 - val_loss: 0.5312 - val_accuracy: 0.7658\n",
      "Epoch 8/100\n",
      "313/313 [==============================] - 10s 32ms/step - loss: 0.5151 - accuracy: 0.7747 - val_loss: 0.5145 - val_accuracy: 0.7688\n",
      "Epoch 9/100\n",
      "313/313 [==============================] - 10s 32ms/step - loss: 0.4994 - accuracy: 0.7808 - val_loss: 0.5001 - val_accuracy: 0.7742\n",
      "Epoch 10/100\n",
      "313/313 [==============================] - 10s 31ms/step - loss: 0.4857 - accuracy: 0.7855 - val_loss: 0.4898 - val_accuracy: 0.7784\n",
      "Epoch 11/100\n",
      "313/313 [==============================] - 10s 31ms/step - loss: 0.4750 - accuracy: 0.7887 - val_loss: 0.4799 - val_accuracy: 0.7824\n",
      "Epoch 12/100\n",
      "313/313 [==============================] - 9s 30ms/step - loss: 0.4663 - accuracy: 0.7918 - val_loss: 0.4744 - val_accuracy: 0.7844\n",
      "Epoch 13/100\n",
      "313/313 [==============================] - 10s 32ms/step - loss: 0.4592 - accuracy: 0.7957 - val_loss: 0.4693 - val_accuracy: 0.7844\n",
      "Epoch 14/100\n",
      "313/313 [==============================] - 11s 34ms/step - loss: 0.4540 - accuracy: 0.7980 - val_loss: 0.4669 - val_accuracy: 0.7874\n",
      "Epoch 15/100\n",
      "313/313 [==============================] - 10s 31ms/step - loss: 0.4495 - accuracy: 0.8001 - val_loss: 0.4636 - val_accuracy: 0.7894\n",
      "Epoch 16/100\n",
      "313/313 [==============================] - 10s 31ms/step - loss: 0.4457 - accuracy: 0.8001 - val_loss: 0.4626 - val_accuracy: 0.7906\n",
      "Epoch 17/100\n",
      "313/313 [==============================] - 10s 31ms/step - loss: 0.4418 - accuracy: 0.8041 - val_loss: 0.4589 - val_accuracy: 0.7898\n",
      "Epoch 18/100\n",
      "313/313 [==============================] - 9s 30ms/step - loss: 0.4392 - accuracy: 0.8054 - val_loss: 0.4576 - val_accuracy: 0.7922\n",
      "Epoch 19/100\n",
      "313/313 [==============================] - 10s 31ms/step - loss: 0.4363 - accuracy: 0.8065 - val_loss: 0.4550 - val_accuracy: 0.7910\n",
      "Epoch 20/100\n",
      "313/313 [==============================] - 10s 31ms/step - loss: 0.4341 - accuracy: 0.8084 - val_loss: 0.4529 - val_accuracy: 0.7934\n",
      "Epoch 21/100\n",
      "313/313 [==============================] - 9s 30ms/step - loss: 0.4320 - accuracy: 0.8086 - val_loss: 0.4511 - val_accuracy: 0.7948\n",
      "Epoch 22/100\n",
      "313/313 [==============================] - 9s 30ms/step - loss: 0.4298 - accuracy: 0.8099 - val_loss: 0.4606 - val_accuracy: 0.7884\n",
      "Epoch 23/100\n",
      "313/313 [==============================] - 9s 30ms/step - loss: 0.4286 - accuracy: 0.8106 - val_loss: 0.4521 - val_accuracy: 0.7866\n",
      "Epoch 24/100\n",
      "313/313 [==============================] - 10s 31ms/step - loss: 0.4267 - accuracy: 0.8105 - val_loss: 0.4475 - val_accuracy: 0.7944\n",
      "Epoch 25/100\n",
      "313/313 [==============================] - 9s 30ms/step - loss: 0.4247 - accuracy: 0.8115 - val_loss: 0.4467 - val_accuracy: 0.7936\n",
      "Epoch 26/100\n",
      "313/313 [==============================] - 9s 29ms/step - loss: 0.4236 - accuracy: 0.8130 - val_loss: 0.4470 - val_accuracy: 0.7934\n",
      "Epoch 27/100\n",
      "313/313 [==============================] - 9s 30ms/step - loss: 0.4225 - accuracy: 0.8131 - val_loss: 0.4452 - val_accuracy: 0.7938\n",
      "Epoch 28/100\n",
      "313/313 [==============================] - 9s 29ms/step - loss: 0.4217 - accuracy: 0.8123 - val_loss: 0.4436 - val_accuracy: 0.7974\n",
      "Epoch 29/100\n",
      "313/313 [==============================] - 9s 29ms/step - loss: 0.4201 - accuracy: 0.8143 - val_loss: 0.4419 - val_accuracy: 0.7976\n",
      "Epoch 30/100\n",
      "313/313 [==============================] - 10s 31ms/step - loss: 0.4195 - accuracy: 0.8140 - val_loss: 0.4411 - val_accuracy: 0.7972\n",
      "Epoch 31/100\n",
      "313/313 [==============================] - 10s 31ms/step - loss: 0.4187 - accuracy: 0.8140 - val_loss: 0.4413 - val_accuracy: 0.7954\n",
      "Epoch 32/100\n",
      "313/313 [==============================] - 10s 32ms/step - loss: 0.4175 - accuracy: 0.8138 - val_loss: 0.4423 - val_accuracy: 0.7950\n",
      "Epoch 33/100\n",
      "313/313 [==============================] - 10s 32ms/step - loss: 0.4164 - accuracy: 0.8156 - val_loss: 0.4395 - val_accuracy: 0.7976\n",
      "Epoch 34/100\n",
      "313/313 [==============================] - 9s 29ms/step - loss: 0.4154 - accuracy: 0.8155 - val_loss: 0.4444 - val_accuracy: 0.7950\n",
      "Epoch 35/100\n",
      "313/313 [==============================] - 9s 29ms/step - loss: 0.4151 - accuracy: 0.8161 - val_loss: 0.4381 - val_accuracy: 0.8002\n",
      "Epoch 36/100\n",
      "313/313 [==============================] - 9s 30ms/step - loss: 0.4140 - accuracy: 0.8156 - val_loss: 0.4378 - val_accuracy: 0.7990\n",
      "Epoch 37/100\n",
      "313/313 [==============================] - 10s 31ms/step - loss: 0.4131 - accuracy: 0.8161 - val_loss: 0.4366 - val_accuracy: 0.7966\n",
      "Epoch 38/100\n",
      "313/313 [==============================] - 9s 30ms/step - loss: 0.4129 - accuracy: 0.8174 - val_loss: 0.4363 - val_accuracy: 0.7984\n",
      "Epoch 39/100\n",
      "313/313 [==============================] - 10s 30ms/step - loss: 0.4124 - accuracy: 0.8153 - val_loss: 0.4385 - val_accuracy: 0.7964\n",
      "Epoch 40/100\n",
      "313/313 [==============================] - 9s 30ms/step - loss: 0.4116 - accuracy: 0.8158 - val_loss: 0.4373 - val_accuracy: 0.7954\n",
      "Epoch 41/100\n",
      "313/313 [==============================] - 9s 29ms/step - loss: 0.4110 - accuracy: 0.8166 - val_loss: 0.4339 - val_accuracy: 0.8010\n",
      "Epoch 42/100\n",
      "313/313 [==============================] - 9s 30ms/step - loss: 0.4102 - accuracy: 0.8177 - val_loss: 0.4349 - val_accuracy: 0.7996\n",
      "Epoch 43/100\n",
      "313/313 [==============================] - 10s 31ms/step - loss: 0.4096 - accuracy: 0.8159 - val_loss: 0.4320 - val_accuracy: 0.8020\n",
      "Epoch 44/100\n",
      "313/313 [==============================] - 10s 31ms/step - loss: 0.4086 - accuracy: 0.8168 - val_loss: 0.4317 - val_accuracy: 0.8020\n",
      "Epoch 45/100\n",
      "313/313 [==============================] - 10s 31ms/step - loss: 0.4085 - accuracy: 0.8175 - val_loss: 0.4313 - val_accuracy: 0.8028\n",
      "Epoch 46/100\n",
      "313/313 [==============================] - 9s 30ms/step - loss: 0.4074 - accuracy: 0.8180 - val_loss: 0.4338 - val_accuracy: 0.8024\n",
      "Epoch 47/100\n",
      "313/313 [==============================] - 10s 32ms/step - loss: 0.4072 - accuracy: 0.8169 - val_loss: 0.4350 - val_accuracy: 0.7952\n",
      "Epoch 48/100\n",
      "313/313 [==============================] - 10s 30ms/step - loss: 0.4066 - accuracy: 0.8186 - val_loss: 0.4302 - val_accuracy: 0.8000\n",
      "Epoch 49/100\n",
      "313/313 [==============================] - 10s 31ms/step - loss: 0.4058 - accuracy: 0.8191 - val_loss: 0.4391 - val_accuracy: 0.8000\n",
      "Epoch 50/100\n",
      "313/313 [==============================] - 10s 32ms/step - loss: 0.4058 - accuracy: 0.8184 - val_loss: 0.4287 - val_accuracy: 0.8030\n",
      "Epoch 51/100\n",
      "313/313 [==============================] - 10s 32ms/step - loss: 0.4051 - accuracy: 0.8185 - val_loss: 0.4283 - val_accuracy: 0.8010\n",
      "Epoch 52/100\n",
      "313/313 [==============================] - 10s 33ms/step - loss: 0.4044 - accuracy: 0.8188 - val_loss: 0.4280 - val_accuracy: 0.8024\n",
      "Epoch 53/100\n",
      "313/313 [==============================] - 10s 32ms/step - loss: 0.4037 - accuracy: 0.8193 - val_loss: 0.4288 - val_accuracy: 0.8012\n",
      "Epoch 54/100\n",
      "313/313 [==============================] - 10s 33ms/step - loss: 0.4035 - accuracy: 0.8192 - val_loss: 0.4268 - val_accuracy: 0.8042\n",
      "Epoch 55/100\n",
      "313/313 [==============================] - 10s 32ms/step - loss: 0.4026 - accuracy: 0.8188 - val_loss: 0.4301 - val_accuracy: 0.8004\n",
      "Epoch 56/100\n",
      "313/313 [==============================] - 10s 34ms/step - loss: 0.4020 - accuracy: 0.8195 - val_loss: 0.4261 - val_accuracy: 0.8058\n",
      "Epoch 57/100\n",
      "313/313 [==============================] - 11s 34ms/step - loss: 0.4014 - accuracy: 0.8195 - val_loss: 0.4272 - val_accuracy: 0.8032\n",
      "Epoch 58/100\n",
      "313/313 [==============================] - 11s 34ms/step - loss: 0.4007 - accuracy: 0.8199 - val_loss: 0.4263 - val_accuracy: 0.8054\n",
      "Epoch 59/100\n",
      "313/313 [==============================] - 11s 34ms/step - loss: 0.4002 - accuracy: 0.8199 - val_loss: 0.4381 - val_accuracy: 0.7966\n"
     ]
    }
   ],
   "source": [
    "# 훈련하기\n",
    "rmsprop = keras.optimizers.RMSprop(learning_rate= 1e-4 ) # learning rate : optimizer , 1e-4 : 0.0001\n",
    "model.compile(\n",
    "    optimizer = rmsprop,\n",
    "    loss = 'binary_crossentropy',\n",
    "    metrics = 'accuracy'\n",
    "    )\n",
    "checkpoint_cb = keras.callbacks.ModelCheckpoint('../Data/best_lstm_model.h5')\n",
    "early_stopping_cb = keras.callbacks.EarlyStopping(\n",
    "    patience = 3,\n",
    "    restore_best_weights = True\n",
    ")\n",
    "history = model.fit(\n",
    "    train_seq, # Embedding에서 원핫인코딩 해주기 때문\n",
    "    train_target,\n",
    "    epochs = 100 , # RNN에서는 제일 작은게 100이다.\n",
    "    batch_size = 64, # mini_batch 경사 하강법 / (8*8)에서 나왔다. / all batch: 4072 \n",
    "    validation_data = (val_seq , val_target),\n",
    "    callbacks = [checkpoint_cb , early_stopping_cb]\n",
    ")"
   ]
  },
  {
   "cell_type": "code",
   "execution_count": 43,
   "metadata": {},
   "outputs": [
    {
     "data": {
      "image/png": "[encoded data removed]",
      "text/plain": [
       "<Figure size 432x288 with 1 Axes>"
      ]
     },
     "metadata": {
      "needs_background": "light"
     },
     "output_type": "display_data"
    }
   ],
   "source": [
    "# 시각화 해보기\n",
    "plt.plot(history.history['loss'])\n",
    "plt.plot(history.history['val_loss'])\n",
    "plt.xlabel('epoch')\n",
    "plt.ylabel('loss')\n",
    "plt.legend(['train' , 'val'])\n",
    "plt.show()"
   ]
  },
  {
   "cell_type": "code",
   "execution_count": null,
   "metadata": {},
   "outputs": [],
   "source": [
    "model.evaluate(val_seq , val_target)"
   ]
  },
  {
   "cell_type": "markdown",
   "metadata": {},
   "source": [
    "---\n",
    "# 순환층에 드롭아웃 적용하기"
   ]
  },
  {
   "cell_type": "code",
   "execution_count": 44,
   "metadata": {},
   "outputs": [
    {
     "name": "stdout",
     "output_type": "stream",
     "text": [
      "Model: \"sequential_4\"\n",
      "_________________________________________________________________\n",
      " Layer (type)                Output Shape              Param #   \n",
      "=================================================================\n",
      " embedding_2 (Embedding)     (None, 100, 16)           8000      \n",
      "                                                                 \n",
      " lstm_2 (LSTM)               (None, 8)                 800       \n",
      "                                                                 \n",
      " dense_4 (Dense)             (None, 1)                 9         \n",
      "                                                                 \n",
      "=================================================================\n",
      "Total params: 8,809\n",
      "Trainable params: 8,809\n",
      "Non-trainable params: 0\n",
      "_________________________________________________________________\n"
     ]
    }
   ],
   "source": [
    "model = keras.Sequential()\n",
    "\n",
    "model.add(keras.layers.Embedding(500 , 16, input_length = 100 )) # one-hot encoding , 16: hyperparameter\n",
    "model.add(keras.layers.LSTM(8 , dropout = 0.3 )) # 8개의 Cell을 사용한다. / 0.3 문장을 덜 가져오는 것 \n",
    "model.add(keras.layers.Dense(1 , activation = 'sigmoid'))\n",
    "\n",
    "model.summary()"
   ]
  },
  {
   "cell_type": "code",
   "execution_count": 45,
   "metadata": {},
   "outputs": [
    {
     "name": "stdout",
     "output_type": "stream",
     "text": [
      "Epoch 1/100\n",
      "313/313 [==============================] - 15s 40ms/step - loss: 0.6921 - accuracy: 0.5507 - val_loss: 0.6912 - val_accuracy: 0.5970\n",
      "Epoch 2/100\n",
      "313/313 [==============================] - 10s 31ms/step - loss: 0.6896 - accuracy: 0.6069 - val_loss: 0.6875 - val_accuracy: 0.6388\n",
      "Epoch 3/100\n",
      "313/313 [==============================] - 10s 32ms/step - loss: 0.6827 - accuracy: 0.6471 - val_loss: 0.6748 - val_accuracy: 0.6810\n",
      "Epoch 4/100\n",
      "313/313 [==============================] - 10s 33ms/step - loss: 0.6436 - accuracy: 0.6908 - val_loss: 0.6070 - val_accuracy: 0.7138\n",
      "Epoch 5/100\n",
      "313/313 [==============================] - 10s 33ms/step - loss: 0.5930 - accuracy: 0.7171 - val_loss: 0.5782 - val_accuracy: 0.7310\n",
      "Epoch 6/100\n",
      "313/313 [==============================] - 10s 33ms/step - loss: 0.5701 - accuracy: 0.7329 - val_loss: 0.5588 - val_accuracy: 0.7402\n",
      "Epoch 7/100\n",
      "313/313 [==============================] - 11s 34ms/step - loss: 0.5486 - accuracy: 0.7477 - val_loss: 0.5400 - val_accuracy: 0.7536\n",
      "Epoch 8/100\n",
      "313/313 [==============================] - 10s 34ms/step - loss: 0.5290 - accuracy: 0.7592 - val_loss: 0.5249 - val_accuracy: 0.7596\n",
      "Epoch 9/100\n",
      "313/313 [==============================] - 11s 34ms/step - loss: 0.5115 - accuracy: 0.7703 - val_loss: 0.5068 - val_accuracy: 0.7686\n",
      "Epoch 10/100\n",
      "313/313 [==============================] - 10s 33ms/step - loss: 0.4967 - accuracy: 0.7781 - val_loss: 0.4928 - val_accuracy: 0.7778\n",
      "Epoch 11/100\n",
      "313/313 [==============================] - 9s 30ms/step - loss: 0.4835 - accuracy: 0.7832 - val_loss: 0.4856 - val_accuracy: 0.7786\n",
      "Epoch 12/100\n",
      "313/313 [==============================] - 10s 33ms/step - loss: 0.4745 - accuracy: 0.7864 - val_loss: 0.4740 - val_accuracy: 0.7880\n",
      "Epoch 13/100\n",
      "313/313 [==============================] - 10s 32ms/step - loss: 0.4646 - accuracy: 0.7933 - val_loss: 0.4708 - val_accuracy: 0.7820\n",
      "Epoch 14/100\n",
      "313/313 [==============================] - 10s 31ms/step - loss: 0.4597 - accuracy: 0.7919 - val_loss: 0.4615 - val_accuracy: 0.7922\n",
      "Epoch 15/100\n",
      "313/313 [==============================] - 10s 31ms/step - loss: 0.4543 - accuracy: 0.7953 - val_loss: 0.4580 - val_accuracy: 0.7948\n",
      "Epoch 16/100\n",
      "313/313 [==============================] - 9s 30ms/step - loss: 0.4489 - accuracy: 0.7981 - val_loss: 0.4554 - val_accuracy: 0.7934\n",
      "Epoch 17/100\n",
      "313/313 [==============================] - 10s 33ms/step - loss: 0.4449 - accuracy: 0.7999 - val_loss: 0.4570 - val_accuracy: 0.7922\n",
      "Epoch 18/100\n",
      "313/313 [==============================] - 11s 34ms/step - loss: 0.4428 - accuracy: 0.7991 - val_loss: 0.4494 - val_accuracy: 0.7934\n",
      "Epoch 19/100\n",
      "313/313 [==============================] - 11s 34ms/step - loss: 0.4385 - accuracy: 0.8023 - val_loss: 0.4481 - val_accuracy: 0.7946\n",
      "Epoch 20/100\n",
      "313/313 [==============================] - 11s 34ms/step - loss: 0.4378 - accuracy: 0.8015 - val_loss: 0.4508 - val_accuracy: 0.7936\n",
      "Epoch 21/100\n",
      "313/313 [==============================] - 10s 33ms/step - loss: 0.4361 - accuracy: 0.8011 - val_loss: 0.4460 - val_accuracy: 0.7982\n",
      "Epoch 22/100\n",
      "313/313 [==============================] - 10s 31ms/step - loss: 0.4333 - accuracy: 0.8010 - val_loss: 0.4437 - val_accuracy: 0.7958\n",
      "Epoch 23/100\n",
      "313/313 [==============================] - 10s 30ms/step - loss: 0.4310 - accuracy: 0.8034 - val_loss: 0.4417 - val_accuracy: 0.7952\n",
      "Epoch 24/100\n",
      "313/313 [==============================] - 9s 30ms/step - loss: 0.4286 - accuracy: 0.8061 - val_loss: 0.4433 - val_accuracy: 0.7924\n",
      "Epoch 25/100\n",
      "313/313 [==============================] - 10s 30ms/step - loss: 0.4276 - accuracy: 0.8075 - val_loss: 0.4416 - val_accuracy: 0.7980\n",
      "Epoch 26/100\n",
      "313/313 [==============================] - 10s 32ms/step - loss: 0.4256 - accuracy: 0.8083 - val_loss: 0.4395 - val_accuracy: 0.7968\n",
      "Epoch 27/100\n",
      "313/313 [==============================] - 9s 30ms/step - loss: 0.4258 - accuracy: 0.8058 - val_loss: 0.4408 - val_accuracy: 0.7982\n",
      "Epoch 28/100\n",
      "313/313 [==============================] - 10s 31ms/step - loss: 0.4245 - accuracy: 0.8073 - val_loss: 0.4375 - val_accuracy: 0.7966\n",
      "Epoch 29/100\n",
      "313/313 [==============================] - 10s 31ms/step - loss: 0.4245 - accuracy: 0.8045 - val_loss: 0.4379 - val_accuracy: 0.7960\n",
      "Epoch 30/100\n",
      "313/313 [==============================] - 10s 32ms/step - loss: 0.4214 - accuracy: 0.8092 - val_loss: 0.4362 - val_accuracy: 0.7974\n",
      "Epoch 31/100\n",
      "313/313 [==============================] - 10s 31ms/step - loss: 0.4223 - accuracy: 0.8104 - val_loss: 0.4353 - val_accuracy: 0.7996\n",
      "Epoch 32/100\n",
      "313/313 [==============================] - 10s 32ms/step - loss: 0.4218 - accuracy: 0.8070 - val_loss: 0.4362 - val_accuracy: 0.8006\n",
      "Epoch 33/100\n",
      "313/313 [==============================] - 10s 31ms/step - loss: 0.4205 - accuracy: 0.8078 - val_loss: 0.4354 - val_accuracy: 0.7988\n",
      "Epoch 34/100\n",
      "313/313 [==============================] - 10s 31ms/step - loss: 0.4176 - accuracy: 0.8098 - val_loss: 0.4380 - val_accuracy: 0.7954\n"
     ]
    }
   ],
   "source": [
    "# 훈련하기\n",
    "rmsprop = keras.optimizers.RMSprop(learning_rate= 1e-4 ) # learning rate : optimizer , 1e-4 : 0.0001\n",
    "model.compile(\n",
    "    optimizer = rmsprop,\n",
    "    loss = 'binary_crossentropy',\n",
    "    metrics = 'accuracy'\n",
    "    )\n",
    "checkpoint_cb = keras.callbacks.ModelCheckpoint('../Data/best_dropout_model.h5')\n",
    "early_stopping_cb = keras.callbacks.EarlyStopping(\n",
    "    patience = 3,\n",
    "    restore_best_weights = True\n",
    ")\n",
    "history = model.fit(\n",
    "    train_seq, # Embedding에서 원핫인코딩 해주기 때문\n",
    "    train_target,\n",
    "    epochs = 100 , # RNN에서는 제일 작은게 100이다.\n",
    "    batch_size = 64, # mini_batch 경사 하강법 / (8*8)에서 나왔다. / all batch: 4072 \n",
    "    validation_data = (val_seq , val_target),\n",
    "    callbacks = [checkpoint_cb , early_stopping_cb]\n",
    ")"
   ]
  },
  {
   "cell_type": "code",
   "execution_count": 46,
   "metadata": {},
   "outputs": [
    {
     "data": {
      "image/png": "[encoded data removed]",
      "text/plain": [
       "<Figure size 432x288 with 1 Axes>"
      ]
     },
     "metadata": {
      "needs_background": "light"
     },
     "output_type": "display_data"
    }
   ],
   "source": [
    "# 시각화 해보기\n",
    "plt.plot(history.history['loss'])\n",
    "plt.plot(history.history['val_loss'])\n",
    "plt.xlabel('epoch')\n",
    "plt.ylabel('loss')\n",
    "plt.legend(['train' , 'val'])\n",
    "plt.show()"
   ]
  },
  {
   "cell_type": "code",
   "execution_count": 47,
   "metadata": {},
   "outputs": [
    {
     "name": "stdout",
     "output_type": "stream",
     "text": [
      "157/157 [==============================] - 1s 6ms/step - loss: 0.4353 - accuracy: 0.7996\n"
     ]
    },
    {
     "data": {
      "text/plain": [
       "[0.4352770447731018, 0.7996000051498413]"
      ]
     },
     "execution_count": 47,
     "metadata": {},
     "output_type": "execute_result"
    }
   ],
   "source": [
    "model.evaluate(val_seq , val_target)"
   ]
  },
  {
   "cell_type": "markdown",
   "metadata": {},
   "source": [
    "---\n",
    "# 2개 층을 연결하기"
   ]
  },
  {
   "cell_type": "code",
   "execution_count": 49,
   "metadata": {},
   "outputs": [
    {
     "name": "stdout",
     "output_type": "stream",
     "text": [
      "Model: \"sequential_6\"\n",
      "_________________________________________________________________\n",
      " Layer (type)                Output Shape              Param #   \n",
      "=================================================================\n",
      " embedding_4 (Embedding)     (None, 100, 16)           8000      \n",
      "                                                                 \n",
      " lstm_4 (LSTM)               (None, 100, 8)            800       \n",
      "                                                                 \n",
      " lstm_5 (LSTM)               (None, 8)                 544       \n",
      "                                                                 \n",
      " dense_5 (Dense)             (None, 1)                 9         \n",
      "                                                                 \n",
      "=================================================================\n",
      "Total params: 9,353\n",
      "Trainable params: 9,353\n",
      "Non-trainable params: 0\n",
      "_________________________________________________________________\n"
     ]
    }
   ],
   "source": [
    "model = keras.Sequential()\n",
    "\n",
    "model.add(keras.layers.Embedding(500 , 16, input_length = 100 )) # one-hot encoding , 16: hyperparameter\n",
    "model.add(keras.layers.LSTM(8 , dropout = 0.3 , return_sequences = True) ) # 8개의 Cell을 사용한다. / 0.3 문장을 덜 가져오는 것 \n",
    "model.add(keras.layers.LSTM(8 , dropout = 0.3 )) # return_sequences 옵션을 주어야 위에서 만들어진 데이터가 문장으로 두번째 LSTM에 들어온다.\n",
    "# 모든 타입스템의 은닉상태를 출력하려면 return_sequences = True 하여야 한다. \n",
    "model.add(keras.layers.Dense(1 , activation = 'sigmoid'))\n",
    "\n",
    "model.summary()"
   ]
  },
  {
   "cell_type": "code",
   "execution_count": 50,
   "metadata": {},
   "outputs": [
    {
     "name": "stdout",
     "output_type": "stream",
     "text": [
      "Epoch 1/100\n",
      "313/313 [==============================] - 25s 67ms/step - loss: 0.6929 - accuracy: 0.5106 - val_loss: 0.6924 - val_accuracy: 0.5310\n",
      "Epoch 2/100\n",
      "313/313 [==============================] - 20s 65ms/step - loss: 0.6908 - accuracy: 0.5889 - val_loss: 0.6886 - val_accuracy: 0.5860\n",
      "Epoch 3/100\n",
      "313/313 [==============================] - 20s 65ms/step - loss: 0.6750 - accuracy: 0.6212 - val_loss: 0.6477 - val_accuracy: 0.6714\n",
      "Epoch 4/100\n",
      "313/313 [==============================] - 20s 65ms/step - loss: 0.6177 - accuracy: 0.6988 - val_loss: 0.5992 - val_accuracy: 0.7236\n",
      "Epoch 5/100\n",
      "313/313 [==============================] - 21s 66ms/step - loss: 0.5854 - accuracy: 0.7272 - val_loss: 0.5727 - val_accuracy: 0.7354\n",
      "Epoch 6/100\n",
      "313/313 [==============================] - 21s 67ms/step - loss: 0.5645 - accuracy: 0.7351 - val_loss: 0.5497 - val_accuracy: 0.7474\n",
      "Epoch 7/100\n",
      "313/313 [==============================] - 21s 68ms/step - loss: 0.5402 - accuracy: 0.7521 - val_loss: 0.5304 - val_accuracy: 0.7548\n",
      "Epoch 8/100\n",
      "313/313 [==============================] - 21s 66ms/step - loss: 0.5200 - accuracy: 0.7628 - val_loss: 0.5144 - val_accuracy: 0.7640\n",
      "Epoch 9/100\n",
      "313/313 [==============================] - 21s 67ms/step - loss: 0.5090 - accuracy: 0.7650 - val_loss: 0.5056 - val_accuracy: 0.7600\n",
      "Epoch 10/100\n",
      "313/313 [==============================] - 21s 66ms/step - loss: 0.5009 - accuracy: 0.7696 - val_loss: 0.4956 - val_accuracy: 0.7686\n",
      "Epoch 11/100\n",
      "313/313 [==============================] - 21s 67ms/step - loss: 0.4919 - accuracy: 0.7723 - val_loss: 0.4947 - val_accuracy: 0.7628\n",
      "Epoch 12/100\n",
      "313/313 [==============================] - 21s 66ms/step - loss: 0.4880 - accuracy: 0.7753 - val_loss: 0.4842 - val_accuracy: 0.7744\n",
      "Epoch 13/100\n",
      "313/313 [==============================] - 21s 66ms/step - loss: 0.4815 - accuracy: 0.7793 - val_loss: 0.4813 - val_accuracy: 0.7752\n",
      "Epoch 14/100\n",
      "313/313 [==============================] - 21s 66ms/step - loss: 0.4775 - accuracy: 0.7795 - val_loss: 0.4767 - val_accuracy: 0.7768\n",
      "Epoch 15/100\n",
      "313/313 [==============================] - 21s 67ms/step - loss: 0.4727 - accuracy: 0.7839 - val_loss: 0.4716 - val_accuracy: 0.7838\n",
      "Epoch 16/100\n",
      "313/313 [==============================] - 21s 67ms/step - loss: 0.4676 - accuracy: 0.7857 - val_loss: 0.4688 - val_accuracy: 0.7848\n",
      "Epoch 17/100\n",
      "313/313 [==============================] - 21s 67ms/step - loss: 0.4666 - accuracy: 0.7857 - val_loss: 0.4656 - val_accuracy: 0.7870\n",
      "Epoch 18/100\n",
      "313/313 [==============================] - 21s 66ms/step - loss: 0.4615 - accuracy: 0.7891 - val_loss: 0.4727 - val_accuracy: 0.7776\n",
      "Epoch 19/100\n",
      "313/313 [==============================] - 21s 67ms/step - loss: 0.4577 - accuracy: 0.7912 - val_loss: 0.4665 - val_accuracy: 0.7816\n",
      "Epoch 20/100\n",
      "313/313 [==============================] - 21s 67ms/step - loss: 0.4568 - accuracy: 0.7916 - val_loss: 0.4589 - val_accuracy: 0.7892\n",
      "Epoch 21/100\n",
      "313/313 [==============================] - 21s 66ms/step - loss: 0.4543 - accuracy: 0.7957 - val_loss: 0.4563 - val_accuracy: 0.7908\n",
      "Epoch 22/100\n",
      "313/313 [==============================] - 21s 67ms/step - loss: 0.4507 - accuracy: 0.7919 - val_loss: 0.4546 - val_accuracy: 0.7914\n",
      "Epoch 23/100\n",
      "313/313 [==============================] - 21s 66ms/step - loss: 0.4491 - accuracy: 0.7965 - val_loss: 0.4553 - val_accuracy: 0.7884\n",
      "Epoch 24/100\n",
      "313/313 [==============================] - 21s 66ms/step - loss: 0.4485 - accuracy: 0.7955 - val_loss: 0.4530 - val_accuracy: 0.7912\n",
      "Epoch 25/100\n",
      "313/313 [==============================] - 21s 66ms/step - loss: 0.4463 - accuracy: 0.7971 - val_loss: 0.4511 - val_accuracy: 0.7922\n",
      "Epoch 26/100\n",
      "313/313 [==============================] - 21s 66ms/step - loss: 0.4421 - accuracy: 0.7966 - val_loss: 0.4503 - val_accuracy: 0.7902\n",
      "Epoch 27/100\n",
      "313/313 [==============================] - 21s 67ms/step - loss: 0.4421 - accuracy: 0.7994 - val_loss: 0.4498 - val_accuracy: 0.7904\n",
      "Epoch 28/100\n",
      "313/313 [==============================] - 21s 67ms/step - loss: 0.4410 - accuracy: 0.8005 - val_loss: 0.4536 - val_accuracy: 0.7922\n",
      "Epoch 29/100\n",
      "313/313 [==============================] - 21s 67ms/step - loss: 0.4408 - accuracy: 0.7988 - val_loss: 0.4481 - val_accuracy: 0.7946\n",
      "Epoch 30/100\n",
      "313/313 [==============================] - 20s 64ms/step - loss: 0.4412 - accuracy: 0.7983 - val_loss: 0.4469 - val_accuracy: 0.7912\n",
      "Epoch 31/100\n",
      "313/313 [==============================] - 20s 64ms/step - loss: 0.4409 - accuracy: 0.7986 - val_loss: 0.4458 - val_accuracy: 0.7934\n",
      "Epoch 32/100\n",
      "313/313 [==============================] - 20s 64ms/step - loss: 0.4398 - accuracy: 0.7981 - val_loss: 0.4453 - val_accuracy: 0.7964\n",
      "Epoch 33/100\n",
      "313/313 [==============================] - 20s 64ms/step - loss: 0.4370 - accuracy: 0.8008 - val_loss: 0.4441 - val_accuracy: 0.7946\n",
      "Epoch 34/100\n",
      "313/313 [==============================] - 20s 64ms/step - loss: 0.4354 - accuracy: 0.8005 - val_loss: 0.4447 - val_accuracy: 0.7960\n",
      "Epoch 35/100\n",
      "313/313 [==============================] - 20s 64ms/step - loss: 0.4349 - accuracy: 0.8015 - val_loss: 0.4450 - val_accuracy: 0.7920\n",
      "Epoch 36/100\n",
      "313/313 [==============================] - 20s 63ms/step - loss: 0.4323 - accuracy: 0.8036 - val_loss: 0.4432 - val_accuracy: 0.7964\n",
      "Epoch 37/100\n",
      "313/313 [==============================] - 20s 63ms/step - loss: 0.4327 - accuracy: 0.8020 - val_loss: 0.4425 - val_accuracy: 0.7950\n",
      "Epoch 38/100\n",
      "313/313 [==============================] - 20s 64ms/step - loss: 0.4341 - accuracy: 0.8036 - val_loss: 0.4415 - val_accuracy: 0.7964\n",
      "Epoch 39/100\n",
      "313/313 [==============================] - 20s 64ms/step - loss: 0.4300 - accuracy: 0.8030 - val_loss: 0.4410 - val_accuracy: 0.8000\n",
      "Epoch 40/100\n",
      "313/313 [==============================] - 21s 67ms/step - loss: 0.4327 - accuracy: 0.8014 - val_loss: 0.4430 - val_accuracy: 0.7944\n",
      "Epoch 41/100\n",
      "313/313 [==============================] - 21s 66ms/step - loss: 0.4299 - accuracy: 0.8012 - val_loss: 0.4400 - val_accuracy: 0.7980\n",
      "Epoch 42/100\n",
      "313/313 [==============================] - 21s 67ms/step - loss: 0.4305 - accuracy: 0.8029 - val_loss: 0.4417 - val_accuracy: 0.7968\n",
      "Epoch 43/100\n",
      "313/313 [==============================] - 21s 66ms/step - loss: 0.4277 - accuracy: 0.8066 - val_loss: 0.4394 - val_accuracy: 0.7992\n",
      "Epoch 44/100\n",
      "313/313 [==============================] - 20s 64ms/step - loss: 0.4294 - accuracy: 0.8030 - val_loss: 0.4392 - val_accuracy: 0.7986\n",
      "Epoch 45/100\n",
      "313/313 [==============================] - 20s 64ms/step - loss: 0.4283 - accuracy: 0.8030 - val_loss: 0.4407 - val_accuracy: 0.7940\n",
      "Epoch 46/100\n",
      "313/313 [==============================] - 22s 69ms/step - loss: 0.4268 - accuracy: 0.8016 - val_loss: 0.4395 - val_accuracy: 0.7978\n",
      "Epoch 47/100\n",
      "313/313 [==============================] - 21s 68ms/step - loss: 0.4289 - accuracy: 0.8033 - val_loss: 0.4377 - val_accuracy: 0.7984\n",
      "Epoch 48/100\n",
      "313/313 [==============================] - 21s 68ms/step - loss: 0.4265 - accuracy: 0.8048 - val_loss: 0.4417 - val_accuracy: 0.7932\n",
      "Epoch 49/100\n",
      "313/313 [==============================] - 21s 67ms/step - loss: 0.4264 - accuracy: 0.8046 - val_loss: 0.4449 - val_accuracy: 0.7982\n",
      "Epoch 50/100\n",
      "313/313 [==============================] - 21s 66ms/step - loss: 0.4283 - accuracy: 0.8041 - val_loss: 0.4367 - val_accuracy: 0.7996\n",
      "Epoch 51/100\n",
      "313/313 [==============================] - 20s 63ms/step - loss: 0.4258 - accuracy: 0.8038 - val_loss: 0.4386 - val_accuracy: 0.7966\n",
      "Epoch 52/100\n",
      "313/313 [==============================] - 20s 62ms/step - loss: 0.4247 - accuracy: 0.8041 - val_loss: 0.4397 - val_accuracy: 0.7972\n",
      "Epoch 53/100\n",
      "313/313 [==============================] - 21s 66ms/step - loss: 0.4243 - accuracy: 0.8055 - val_loss: 0.4372 - val_accuracy: 0.7968\n"
     ]
    }
   ],
   "source": [
    "# 훈련하기\n",
    "rmsprop = keras.optimizers.RMSprop(learning_rate= 1e-4 ) # learning rate : optimizer , 1e-4 : 0.0001\n",
    "model.compile(\n",
    "    optimizer = rmsprop,\n",
    "    loss = 'binary_crossentropy',\n",
    "    metrics = 'accuracy'\n",
    "    )\n",
    "checkpoint_cb = keras.callbacks.ModelCheckpoint('../Data/best_2rnn_model.h5')\n",
    "early_stopping_cb = keras.callbacks.EarlyStopping(\n",
    "    patience = 3,\n",
    "    restore_best_weights = True\n",
    ")\n",
    "history = model.fit(\n",
    "    train_seq, # Embedding에서 원핫인코딩 해주기 때문\n",
    "    train_target,\n",
    "    epochs = 100 , # RNN에서는 제일 작은게 100이다.\n",
    "    batch_size = 64, # mini_batch 경사 하강법 / (8*8)에서 나왔다. / all batch: 4072 \n",
    "    validation_data = (val_seq , val_target),\n",
    "    callbacks = [checkpoint_cb , early_stopping_cb]\n",
    ")"
   ]
  },
  {
   "cell_type": "code",
   "execution_count": 52,
   "metadata": {},
   "outputs": [
    {
     "data": {
      "image/png": "[encoded data removed]",
      "text/plain": [
       "<Figure size 432x288 with 1 Axes>"
      ]
     },
     "metadata": {
      "needs_background": "light"
     },
     "output_type": "display_data"
    }
   ],
   "source": [
    "# 시각화 해보기\n",
    "plt.plot(history.history['loss'])\n",
    "plt.plot(history.history['val_loss'])\n",
    "plt.xlabel('epoch')\n",
    "plt.ylabel('loss')\n",
    "plt.legend(['train' , 'val'])\n",
    "plt.show()"
   ]
  },
  {
   "cell_type": "code",
   "execution_count": 53,
   "metadata": {},
   "outputs": [
    {
     "ename": "RuntimeError",
     "evalue": "You must compile your model before training/testing. Use `model.compile(optimizer, loss)`.",
     "output_type": "error",
     "traceback": [
      "\u001b[0;31m---------------------------------------------------------------------------\u001b[0m",
      "\u001b[0;31mRuntimeError\u001b[0m                              Traceback (most recent call last)",
      "\u001b[0;32m/var/folders/r9/905wglgd76v1f_n1q9jw68rr0000gn/T/ipykernel_996/199982813.py\u001b[0m in \u001b[0;36m<module>\u001b[0;34m\u001b[0m\n\u001b[0;32m----> 1\u001b[0;31m \u001b[0mmodel\u001b[0m\u001b[0;34m.\u001b[0m\u001b[0mevaluate\u001b[0m\u001b[0;34m(\u001b[0m\u001b[0mval_seq\u001b[0m \u001b[0;34m,\u001b[0m \u001b[0mval_target\u001b[0m\u001b[0;34m)\u001b[0m\u001b[0;34m\u001b[0m\u001b[0;34m\u001b[0m\u001b[0m\n\u001b[0m",
      "\u001b[0;32m~/opt/anaconda3/lib/python3.9/site-packages/keras/utils/traceback_utils.py\u001b[0m in \u001b[0;36merror_handler\u001b[0;34m(*args, **kwargs)\u001b[0m\n\u001b[1;32m     65\u001b[0m     \u001b[0;32mexcept\u001b[0m \u001b[0mException\u001b[0m \u001b[0;32mas\u001b[0m \u001b[0me\u001b[0m\u001b[0;34m:\u001b[0m  \u001b[0;31m# pylint: disable=broad-except\u001b[0m\u001b[0;34m\u001b[0m\u001b[0;34m\u001b[0m\u001b[0m\n\u001b[1;32m     66\u001b[0m       \u001b[0mfiltered_tb\u001b[0m \u001b[0;34m=\u001b[0m \u001b[0m_process_traceback_frames\u001b[0m\u001b[0;34m(\u001b[0m\u001b[0me\u001b[0m\u001b[0;34m.\u001b[0m\u001b[0m__traceback__\u001b[0m\u001b[0;34m)\u001b[0m\u001b[0;34m\u001b[0m\u001b[0;34m\u001b[0m\u001b[0m\n\u001b[0;32m---> 67\u001b[0;31m       \u001b[0;32mraise\u001b[0m \u001b[0me\u001b[0m\u001b[0;34m.\u001b[0m\u001b[0mwith_traceback\u001b[0m\u001b[0;34m(\u001b[0m\u001b[0mfiltered_tb\u001b[0m\u001b[0;34m)\u001b[0m \u001b[0;32mfrom\u001b[0m \u001b[0;32mNone\u001b[0m\u001b[0;34m\u001b[0m\u001b[0;34m\u001b[0m\u001b[0m\n\u001b[0m\u001b[1;32m     68\u001b[0m     \u001b[0;32mfinally\u001b[0m\u001b[0;34m:\u001b[0m\u001b[0;34m\u001b[0m\u001b[0;34m\u001b[0m\u001b[0m\n\u001b[1;32m     69\u001b[0m       \u001b[0;32mdel\u001b[0m \u001b[0mfiltered_tb\u001b[0m\u001b[0;34m\u001b[0m\u001b[0;34m\u001b[0m\u001b[0m\n",
      "\u001b[0;32m~/opt/anaconda3/lib/python3.9/site-packages/keras/engine/training.py\u001b[0m in \u001b[0;36m_assert_compile_was_called\u001b[0;34m(self)\u001b[0m\n\u001b[1;32m   3158\u001b[0m     \u001b[0;31m# (i.e. whether the model is built and its inputs/outputs are set).\u001b[0m\u001b[0;34m\u001b[0m\u001b[0;34m\u001b[0m\u001b[0m\n\u001b[1;32m   3159\u001b[0m     \u001b[0;32mif\u001b[0m \u001b[0;32mnot\u001b[0m \u001b[0mself\u001b[0m\u001b[0;34m.\u001b[0m\u001b[0m_is_compiled\u001b[0m\u001b[0;34m:\u001b[0m\u001b[0;34m\u001b[0m\u001b[0;34m\u001b[0m\u001b[0m\n\u001b[0;32m-> 3160\u001b[0;31m       raise RuntimeError('You must compile your model before '\n\u001b[0m\u001b[1;32m   3161\u001b[0m                          \u001b[0;34m'training/testing. '\u001b[0m\u001b[0;34m\u001b[0m\u001b[0;34m\u001b[0m\u001b[0m\n\u001b[1;32m   3162\u001b[0m                          'Use `model.compile(optimizer, loss)`.')\n",
      "\u001b[0;31mRuntimeError\u001b[0m: You must compile your model before training/testing. Use `model.compile(optimizer, loss)`."
     ]
    }
   ],
   "source": [
    "model.evaluate(val_seq , val_target)"
   ]
  },
  {
   "cell_type": "markdown",
   "metadata": {},
   "source": [
    "---\n",
    "### GRU(Gated Recurrent Unit) 신경망\n",
    "- LSTM의 간소화 버전\n",
    "    \n",
    "LSTM은 첫번째 셀이 모든 토큰을 기억하는데 , GRU는 그 기억하는 갯수를 지정해준다. LSTM의 단점 개선           \n",
    "~ 자동 Dropout 이다 ~  ex) 최근 5년치만 기억한다"
   ]
  },
  {
   "cell_type": "code",
   "execution_count": 51,
   "metadata": {},
   "outputs": [
    {
     "name": "stdout",
     "output_type": "stream",
     "text": [
      "Model: \"sequential_7\"\n",
      "_________________________________________________________________\n",
      " Layer (type)                Output Shape              Param #   \n",
      "=================================================================\n",
      " embedding_5 (Embedding)     (None, 100, 16)           8000      \n",
      "                                                                 \n",
      " gru (GRU)                   (None, 8)                 624       \n",
      "                                                                 \n",
      " dense_6 (Dense)             (None, 1)                 9         \n",
      "                                                                 \n",
      "=================================================================\n",
      "Total params: 8,633\n",
      "Trainable params: 8,633\n",
      "Non-trainable params: 0\n",
      "_________________________________________________________________\n"
     ]
    }
   ],
   "source": [
    "model = keras.Sequential()\n",
    "\n",
    "model.add(keras.layers.Embedding(500 , 16, input_length = 100 )) # one-hot encoding , 16: hyperparameter\n",
    "model.add(keras.layers.GRU(8)) \n",
    "model.add(keras.layers.Dense(1 , activation = 'sigmoid'))\n",
    "\n",
    "model.summary()"
   ]
  },
  {
   "cell_type": "code",
   "execution_count": 54,
   "metadata": {},
   "outputs": [
    {
     "name": "stdout",
     "output_type": "stream",
     "text": [
      "Epoch 1/100\n",
      "313/313 [==============================] - 14s 38ms/step - loss: 0.6925 - accuracy: 0.5283 - val_loss: 0.6918 - val_accuracy: 0.5660\n",
      "Epoch 2/100\n",
      "313/313 [==============================] - 11s 35ms/step - loss: 0.6906 - accuracy: 0.5752 - val_loss: 0.6895 - val_accuracy: 0.5974\n",
      "Epoch 3/100\n",
      "313/313 [==============================] - 11s 34ms/step - loss: 0.6872 - accuracy: 0.6041 - val_loss: 0.6853 - val_accuracy: 0.6074\n",
      "Epoch 4/100\n",
      "313/313 [==============================] - 11s 34ms/step - loss: 0.6811 - accuracy: 0.6238 - val_loss: 0.6782 - val_accuracy: 0.6216\n",
      "Epoch 5/100\n",
      "313/313 [==============================] - 11s 35ms/step - loss: 0.6708 - accuracy: 0.6363 - val_loss: 0.6662 - val_accuracy: 0.6294\n",
      "Epoch 6/100\n",
      "313/313 [==============================] - 12s 37ms/step - loss: 0.6544 - accuracy: 0.6526 - val_loss: 0.6478 - val_accuracy: 0.6510\n",
      "Epoch 7/100\n",
      "313/313 [==============================] - 11s 35ms/step - loss: 0.6261 - accuracy: 0.6737 - val_loss: 0.6126 - val_accuracy: 0.6818\n",
      "Epoch 8/100\n",
      "313/313 [==============================] - 11s 35ms/step - loss: 0.5755 - accuracy: 0.7084 - val_loss: 0.5597 - val_accuracy: 0.7208\n",
      "Epoch 9/100\n",
      "313/313 [==============================] - 11s 36ms/step - loss: 0.5350 - accuracy: 0.7401 - val_loss: 0.5369 - val_accuracy: 0.7444\n",
      "Epoch 10/100\n",
      "313/313 [==============================] - 11s 35ms/step - loss: 0.5160 - accuracy: 0.7551 - val_loss: 0.5254 - val_accuracy: 0.7536\n",
      "Epoch 11/100\n",
      "313/313 [==============================] - 11s 36ms/step - loss: 0.5037 - accuracy: 0.7617 - val_loss: 0.5149 - val_accuracy: 0.7510\n",
      "Epoch 12/100\n",
      "313/313 [==============================] - 11s 35ms/step - loss: 0.4929 - accuracy: 0.7690 - val_loss: 0.5057 - val_accuracy: 0.7592\n",
      "Epoch 13/100\n",
      "313/313 [==============================] - 11s 35ms/step - loss: 0.4842 - accuracy: 0.7739 - val_loss: 0.4996 - val_accuracy: 0.7664\n",
      "Epoch 14/100\n",
      "313/313 [==============================] - 11s 35ms/step - loss: 0.4771 - accuracy: 0.7771 - val_loss: 0.4951 - val_accuracy: 0.7694\n",
      "Epoch 15/100\n",
      "313/313 [==============================] - 11s 35ms/step - loss: 0.4715 - accuracy: 0.7832 - val_loss: 0.4893 - val_accuracy: 0.7686\n",
      "Epoch 16/100\n",
      "313/313 [==============================] - 11s 35ms/step - loss: 0.4666 - accuracy: 0.7834 - val_loss: 0.4852 - val_accuracy: 0.7724\n",
      "Epoch 17/100\n",
      "313/313 [==============================] - 11s 35ms/step - loss: 0.4618 - accuracy: 0.7868 - val_loss: 0.4835 - val_accuracy: 0.7618\n",
      "Epoch 18/100\n",
      "313/313 [==============================] - 11s 35ms/step - loss: 0.4575 - accuracy: 0.7908 - val_loss: 0.4794 - val_accuracy: 0.7756\n",
      "Epoch 19/100\n",
      "313/313 [==============================] - 11s 35ms/step - loss: 0.4538 - accuracy: 0.7930 - val_loss: 0.4745 - val_accuracy: 0.7746\n",
      "Epoch 20/100\n",
      "313/313 [==============================] - 11s 35ms/step - loss: 0.4502 - accuracy: 0.7951 - val_loss: 0.4725 - val_accuracy: 0.7724\n",
      "Epoch 21/100\n",
      "313/313 [==============================] - 11s 35ms/step - loss: 0.4475 - accuracy: 0.7982 - val_loss: 0.4692 - val_accuracy: 0.7792\n",
      "Epoch 22/100\n",
      "313/313 [==============================] - 11s 35ms/step - loss: 0.4448 - accuracy: 0.7990 - val_loss: 0.4671 - val_accuracy: 0.7772\n",
      "Epoch 23/100\n",
      "313/313 [==============================] - 11s 35ms/step - loss: 0.4426 - accuracy: 0.8011 - val_loss: 0.4648 - val_accuracy: 0.7782\n",
      "Epoch 24/100\n",
      "313/313 [==============================] - 11s 35ms/step - loss: 0.4403 - accuracy: 0.8023 - val_loss: 0.4646 - val_accuracy: 0.7800\n",
      "Epoch 25/100\n",
      "313/313 [==============================] - 11s 36ms/step - loss: 0.4375 - accuracy: 0.8033 - val_loss: 0.4618 - val_accuracy: 0.7798\n",
      "Epoch 26/100\n",
      "313/313 [==============================] - 11s 35ms/step - loss: 0.4358 - accuracy: 0.8042 - val_loss: 0.4617 - val_accuracy: 0.7866\n",
      "Epoch 27/100\n",
      "313/313 [==============================] - 11s 35ms/step - loss: 0.4343 - accuracy: 0.8051 - val_loss: 0.4595 - val_accuracy: 0.7838\n",
      "Epoch 28/100\n",
      "313/313 [==============================] - 11s 35ms/step - loss: 0.4327 - accuracy: 0.8059 - val_loss: 0.4598 - val_accuracy: 0.7880\n",
      "Epoch 29/100\n",
      "313/313 [==============================] - 11s 35ms/step - loss: 0.4312 - accuracy: 0.8074 - val_loss: 0.4575 - val_accuracy: 0.7892\n",
      "Epoch 30/100\n",
      "313/313 [==============================] - 11s 35ms/step - loss: 0.4296 - accuracy: 0.8081 - val_loss: 0.4567 - val_accuracy: 0.7904\n",
      "Epoch 31/100\n",
      "313/313 [==============================] - 11s 35ms/step - loss: 0.4283 - accuracy: 0.8091 - val_loss: 0.4578 - val_accuracy: 0.7822\n",
      "Epoch 32/100\n",
      "313/313 [==============================] - 11s 35ms/step - loss: 0.4271 - accuracy: 0.8091 - val_loss: 0.4545 - val_accuracy: 0.7900\n",
      "Epoch 33/100\n",
      "313/313 [==============================] - 11s 35ms/step - loss: 0.4260 - accuracy: 0.8105 - val_loss: 0.4534 - val_accuracy: 0.7904\n",
      "Epoch 34/100\n",
      "313/313 [==============================] - 11s 35ms/step - loss: 0.4247 - accuracy: 0.8121 - val_loss: 0.4587 - val_accuracy: 0.7888\n",
      "Epoch 35/100\n",
      "313/313 [==============================] - 11s 34ms/step - loss: 0.4239 - accuracy: 0.8123 - val_loss: 0.4550 - val_accuracy: 0.7858\n",
      "Epoch 36/100\n",
      "313/313 [==============================] - 11s 34ms/step - loss: 0.4232 - accuracy: 0.8128 - val_loss: 0.4534 - val_accuracy: 0.7864\n"
     ]
    }
   ],
   "source": [
    "# 훈련하기\n",
    "rmsprop = keras.optimizers.RMSprop(learning_rate= 1e-4 ) # learning rate : optimizer , 1e-4 : 0.0001\n",
    "model.compile(\n",
    "    optimizer = rmsprop,\n",
    "    loss = 'binary_crossentropy',\n",
    "    metrics = 'accuracy'\n",
    "    )\n",
    "checkpoint_cb = keras.callbacks.ModelCheckpoint('../Data/best_gru_model.h5')\n",
    "early_stopping_cb = keras.callbacks.EarlyStopping(\n",
    "    patience = 3,\n",
    "    restore_best_weights = True\n",
    ")\n",
    "history = model.fit(\n",
    "    train_seq, # Embedding에서 원핫인코딩 해주기 때문\n",
    "    train_target,\n",
    "    epochs = 100 , # RNN에서는 제일 작은게 100이다.\n",
    "    batch_size = 64, # mini_batch 경사 하강법 / (8*8)에서 나왔다. / all batch: 4072 \n",
    "    validation_data = (val_seq , val_target),\n",
    "    callbacks = [checkpoint_cb , early_stopping_cb]\n",
    ")"
   ]
  },
  {
   "cell_type": "code",
   "execution_count": 55,
   "metadata": {},
   "outputs": [
    {
     "data": {
      "image/png": "[encoded data removed]",
      "text/plain": [
       "<Figure size 432x288 with 1 Axes>"
      ]
     },
     "metadata": {
      "needs_background": "light"
     },
     "output_type": "display_data"
    }
   ],
   "source": [
    "# 시각화 해보기\n",
    "plt.plot(history.history['loss'])\n",
    "plt.plot(history.history['val_loss'])\n",
    "plt.xlabel('epoch')\n",
    "plt.ylabel('loss')\n",
    "plt.legend(['train' , 'val'])\n",
    "plt.show()"
   ]
  },
  {
   "cell_type": "code",
   "execution_count": 56,
   "metadata": {},
   "outputs": [
    {
     "name": "stdout",
     "output_type": "stream",
     "text": [
      "157/157 [==============================] - 1s 6ms/step - loss: 0.4534 - accuracy: 0.7904\n"
     ]
    },
    {
     "data": {
      "text/plain": [
       "[0.45336484909057617, 0.7904000282287598]"
      ]
     },
     "execution_count": 56,
     "metadata": {},
     "output_type": "execute_result"
    }
   ],
   "source": [
    "model.evaluate(val_seq , val_target)"
   ]
  },
  {
   "cell_type": "markdown",
   "metadata": {},
   "source": [
    "---"
   ]
  }
 ],
 "metadata": {
  "kernelspec": {
   "display_name": "Python 3.9.7 ('base')",
   "language": "python",
   "name": "python3"
  },
  "language_info": {
   "codemirror_mode": {
    "name": "ipython",
    "version": 3
   },
   "file_extension": ".py",
   "mimetype": "text/x-python",
   "name": "python",
   "nbconvert_exporter": "python",
   "pygments_lexer": "ipython3",
   "version": "3.9.7"
  },
  "orig_nbformat": 4,
  "vscode": {
   "interpreter": {
    "hash": "c34e8390e776d2ee205b71ed5a6130fee3cef8da5e87e926ce18e14f4a070d72"
   }
  }
 },
 "nbformat": 4,
 "nbformat_minor": 2
}
