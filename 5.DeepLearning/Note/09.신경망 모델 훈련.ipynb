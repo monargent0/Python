{
 "cells": [
  {
   "cell_type": "code",
   "execution_count": 56,
   "metadata": {},
   "outputs": [],
   "source": [
    "import warnings\n",
    "warnings.filterwarnings('ignore')\n",
    "\n",
    "import os # M1은 노필요\n",
    "os.environ[\"TF_CPP_MIN_LOG_LEVEL\"] = '2'"
   ]
  },
  {
   "cell_type": "code",
   "execution_count": 57,
   "metadata": {},
   "outputs": [],
   "source": [
    "from tensorflow import keras\n",
    "from sklearn.model_selection import train_test_split\n",
    "\n",
    "(train_input, train_target) , (test_input, test_target) = keras.datasets.fashion_mnist.load_data()\n",
    "\n",
    "train_scaled = train_input / 255.0\n",
    "\n",
    "train_scaled , val_scaled, train_target, val_target = train_test_split(\n",
    "    train_scaled , train_target , test_size= 0.2, random_state=42\n",
    ")"
   ]
  },
  {
   "cell_type": "code",
   "execution_count": 58,
   "metadata": {},
   "outputs": [],
   "source": [
    "# Model 함수 구현\n",
    "def model_fn(a_layer = None):\n",
    "    model = keras.Sequential()\n",
    "    model.add(keras.layers.Flatten(input_shape = (28, 28)))\n",
    "    model.add(keras.layers.Dense(100, activation = \"relu\"))\n",
    "    if a_layer:\n",
    "        model.add(a_layer)\n",
    "    model.add(keras.layers.Dense(10, activation = \"softmax\"))\n",
    "    return model"
   ]
  },
  {
   "cell_type": "code",
   "execution_count": 59,
   "metadata": {},
   "outputs": [
    {
     "name": "stdout",
     "output_type": "stream",
     "text": [
      "Model: \"sequential_16\"\n",
      "_________________________________________________________________\n",
      " Layer (type)                Output Shape              Param #   \n",
      "=================================================================\n",
      " flatten_16 (Flatten)        (None, 784)               0         \n",
      "                                                                 \n",
      " dense_28 (Dense)            (None, 100)               78500     \n",
      "                                                                 \n",
      " dense_29 (Dense)            (None, 10)                1010      \n",
      "                                                                 \n",
      "=================================================================\n",
      "Total params: 79,510\n",
      "Trainable params: 79,510\n",
      "Non-trainable params: 0\n",
      "_________________________________________________________________\n"
     ]
    }
   ],
   "source": [
    "model = model_fn()\n",
    "model.summary()"
   ]
  },
  {
   "cell_type": "code",
   "execution_count": 60,
   "metadata": {},
   "outputs": [
    {
     "name": "stdout",
     "output_type": "stream",
     "text": [
      "Epoch 1/5\n",
      "1500/1500 [==============================] - 4s 2ms/step - loss: 0.5385 - accuracy: 0.8105\n",
      "Epoch 2/5\n",
      "1500/1500 [==============================] - 3s 2ms/step - loss: 0.3952 - accuracy: 0.8587\n",
      "Epoch 3/5\n",
      "1500/1500 [==============================] - 3s 2ms/step - loss: 0.3571 - accuracy: 0.8713\n",
      "Epoch 4/5\n",
      "1500/1500 [==============================] - 3s 2ms/step - loss: 0.3350 - accuracy: 0.8805\n",
      "Epoch 5/5\n",
      "1500/1500 [==============================] - 4s 2ms/step - loss: 0.3225 - accuracy: 0.8861\n"
     ]
    }
   ],
   "source": [
    "model.compile(loss = 'sparse_categorical_crossentropy', metrics = 'accuracy')\n",
    "history = model.fit(train_scaled , train_target , epochs = 5)"
   ]
  },
  {
   "cell_type": "code",
   "execution_count": 61,
   "metadata": {},
   "outputs": [
    {
     "data": {
      "text/plain": [
       "dict_keys(['loss', 'accuracy'])"
      ]
     },
     "execution_count": 61,
     "metadata": {},
     "output_type": "execute_result"
    }
   ],
   "source": [
    "history.history.keys()"
   ]
  },
  {
   "cell_type": "markdown",
   "metadata": {},
   "source": [
    "### 손실 곡선"
   ]
  },
  {
   "cell_type": "code",
   "execution_count": 62,
   "metadata": {},
   "outputs": [
    {
     "data": {
      "image/png": "[encoded data removed]",
      "text/plain": [
       "<Figure size 432x288 with 1 Axes>"
      ]
     },
     "metadata": {
      "needs_background": "light"
     },
     "output_type": "display_data"
    }
   ],
   "source": [
    "# 손실곡선 시각화 loss\n",
    "import matplotlib.pyplot as plt\n",
    "plt.plot(history.history['loss'])\n",
    "plt.xlabel('epoch') # epochs 5번\n",
    "plt.ylabel('loss')\n",
    "plt.show()"
   ]
  },
  {
   "cell_type": "code",
   "execution_count": 63,
   "metadata": {},
   "outputs": [
    {
     "data": {
      "image/png": "[encoded data removed]",
      "text/plain": [
       "<Figure size 432x288 with 1 Axes>"
      ]
     },
     "metadata": {
      "needs_background": "light"
     },
     "output_type": "display_data"
    }
   ],
   "source": [
    "# 손실곡선 시각화 accuracy\n",
    "import matplotlib.pyplot as plt\n",
    "plt.plot(history.history['accuracy'])\n",
    "plt.xlabel('epoch') # epochs 5번\n",
    "plt.ylabel('accuracy')\n",
    "plt.show()"
   ]
  },
  {
   "cell_type": "markdown",
   "metadata": {},
   "source": [
    "---\n",
    "### 반복 훈련의 증가"
   ]
  },
  {
   "cell_type": "code",
   "execution_count": null,
   "metadata": {},
   "outputs": [
    {
     "name": "stdout",
     "output_type": "stream",
     "text": [
      "Epoch 1/20\n",
      "1500/1500 [==============================] - 4s 2ms/step - loss: 0.5232 - accuracy: 0.8171\n",
      "Epoch 2/20\n",
      "1500/1500 [==============================] - 3s 2ms/step - loss: 0.3914 - accuracy: 0.8590\n",
      "Epoch 3/20\n",
      "1500/1500 [==============================] - 3s 2ms/step - loss: 0.3537 - accuracy: 0.8744\n",
      "Epoch 4/20\n",
      "1500/1500 [==============================] - 3s 2ms/step - loss: 0.3353 - accuracy: 0.8800\n",
      "Epoch 5/20\n",
      "1500/1500 [==============================] - 3s 2ms/step - loss: 0.3197 - accuracy: 0.8862\n",
      "Epoch 6/20\n",
      "1500/1500 [==============================] - 3s 2ms/step - loss: 0.3062 - accuracy: 0.8918\n",
      "Epoch 7/20\n",
      "1500/1500 [==============================] - 3s 2ms/step - loss: 0.2990 - accuracy: 0.8955\n",
      "Epoch 8/20\n",
      "1500/1500 [==============================] - 3s 2ms/step - loss: 0.2898 - accuracy: 0.8969\n",
      "Epoch 9/20\n",
      "1500/1500 [==============================] - 3s 2ms/step - loss: 0.2829 - accuracy: 0.8999\n",
      "Epoch 10/20\n",
      "1500/1500 [==============================] - 3s 2ms/step - loss: 0.2775 - accuracy: 0.9030\n",
      "Epoch 11/20\n",
      "1500/1500 [==============================] - 3s 2ms/step - loss: 0.2719 - accuracy: 0.9035\n",
      "Epoch 12/20\n",
      "1500/1500 [==============================] - 3s 2ms/step - loss: 0.2657 - accuracy: 0.9057\n",
      "Epoch 13/20\n",
      "1500/1500 [==============================] - 3s 2ms/step - loss: 0.2575 - accuracy: 0.9096\n",
      "Epoch 14/20\n",
      "1500/1500 [==============================] - 3s 2ms/step - loss: 0.2539 - accuracy: 0.9114\n",
      "Epoch 15/20\n",
      "1500/1500 [==============================] - 3s 2ms/step - loss: 0.2503 - accuracy: 0.9132\n",
      "Epoch 16/20\n",
      "1500/1500 [==============================] - 3s 2ms/step - loss: 0.2454 - accuracy: 0.9134\n",
      "Epoch 17/20\n",
      "1500/1500 [==============================] - 3s 2ms/step - loss: 0.2409 - accuracy: 0.9165\n",
      "Epoch 18/20\n",
      "1500/1500 [==============================] - 3s 2ms/step - loss: 0.2388 - accuracy: 0.9182\n",
      "Epoch 19/20\n",
      "1500/1500 [==============================] - 3s 2ms/step - loss: 0.2343 - accuracy: 0.9195\n",
      "Epoch 20/20\n",
      "1500/1500 [==============================] - 3s 2ms/step - loss: 0.2321 - accuracy: 0.9198\n"
     ]
    }
   ],
   "source": [
    "model = model_fn()\n",
    "model.compile(loss = 'sparse_categorical_crossentropy', metrics = 'accuracy')\n",
    "history = model.fit(train_scaled , train_target , epochs = 20)"
   ]
  },
  {
   "cell_type": "code",
   "execution_count": null,
   "metadata": {},
   "outputs": [
    {
     "data": {
      "image/png": "[encoded data removed]",
      "text/plain": [
       "<Figure size 432x288 with 1 Axes>"
      ]
     },
     "metadata": {
      "needs_background": "light"
     },
     "output_type": "display_data"
    }
   ],
   "source": [
    "# 손실곡선 시각화 loss\n",
    "plt.plot(history.history['loss'])\n",
    "plt.xlabel('epoch') # epochs 20번\n",
    "plt.ylabel('loss')\n",
    "plt.show()"
   ]
  },
  {
   "cell_type": "code",
   "execution_count": null,
   "metadata": {},
   "outputs": [
    {
     "data": {
      "image/png": "[encoded data removed]",
      "text/plain": [
       "<Figure size 432x288 with 1 Axes>"
      ]
     },
     "metadata": {
      "needs_background": "light"
     },
     "output_type": "display_data"
    }
   ],
   "source": [
    "# 손실곡선 시각화 accuracy\n",
    "plt.plot(history.history['accuracy'])\n",
    "plt.xlabel('epoch') # epochs 20번\n",
    "plt.ylabel('accuracy')\n",
    "plt.show()"
   ]
  },
  {
   "cell_type": "markdown",
   "metadata": {},
   "source": [
    "정확도가 왔다갔다 하는 모습도 보인다."
   ]
  },
  {
   "cell_type": "markdown",
   "metadata": {},
   "source": [
    "---\n",
    "### 검증 손실\n",
    ": 검증 세트에 대한 정확도를 파악하기 위해 validation data를 사용한다."
   ]
  },
  {
   "cell_type": "code",
   "execution_count": null,
   "metadata": {},
   "outputs": [
    {
     "name": "stdout",
     "output_type": "stream",
     "text": [
      "Epoch 1/20\n",
      "1500/1500 [==============================] - 5s 3ms/step - loss: 0.5326 - accuracy: 0.8124 - val_loss: 0.4375 - val_accuracy: 0.8392\n",
      "Epoch 2/20\n",
      "1500/1500 [==============================] - 4s 3ms/step - loss: 0.3902 - accuracy: 0.8605 - val_loss: 0.3921 - val_accuracy: 0.8576\n",
      "Epoch 3/20\n",
      "1500/1500 [==============================] - 4s 3ms/step - loss: 0.3534 - accuracy: 0.8727 - val_loss: 0.3859 - val_accuracy: 0.8691\n",
      "Epoch 4/20\n",
      "1500/1500 [==============================] - 4s 3ms/step - loss: 0.3325 - accuracy: 0.8801 - val_loss: 0.3601 - val_accuracy: 0.8776\n",
      "Epoch 5/20\n",
      "1500/1500 [==============================] - 4s 3ms/step - loss: 0.3171 - accuracy: 0.8849 - val_loss: 0.3570 - val_accuracy: 0.8756\n",
      "Epoch 6/20\n",
      "1500/1500 [==============================] - 4s 3ms/step - loss: 0.3078 - accuracy: 0.8907 - val_loss: 0.3753 - val_accuracy: 0.8777\n",
      "Epoch 7/20\n",
      "1500/1500 [==============================] - 4s 2ms/step - loss: 0.2991 - accuracy: 0.8941 - val_loss: 0.3663 - val_accuracy: 0.8809\n",
      "Epoch 8/20\n",
      "1500/1500 [==============================] - 4s 3ms/step - loss: 0.2906 - accuracy: 0.8974 - val_loss: 0.3615 - val_accuracy: 0.8816\n",
      "Epoch 9/20\n",
      "1500/1500 [==============================] - 4s 3ms/step - loss: 0.2829 - accuracy: 0.9017 - val_loss: 0.3784 - val_accuracy: 0.8838\n",
      "Epoch 10/20\n",
      "1500/1500 [==============================] - 4s 3ms/step - loss: 0.2737 - accuracy: 0.9049 - val_loss: 0.3755 - val_accuracy: 0.8817\n",
      "Epoch 11/20\n",
      "1500/1500 [==============================] - 4s 2ms/step - loss: 0.2670 - accuracy: 0.9065 - val_loss: 0.3966 - val_accuracy: 0.8806\n",
      "Epoch 12/20\n",
      "1500/1500 [==============================] - 4s 2ms/step - loss: 0.2631 - accuracy: 0.9088 - val_loss: 0.3733 - val_accuracy: 0.8869\n",
      "Epoch 13/20\n",
      "1500/1500 [==============================] - 4s 3ms/step - loss: 0.2557 - accuracy: 0.9120 - val_loss: 0.4158 - val_accuracy: 0.8784\n",
      "Epoch 14/20\n",
      "1500/1500 [==============================] - 4s 3ms/step - loss: 0.2534 - accuracy: 0.9124 - val_loss: 0.3939 - val_accuracy: 0.8827\n",
      "Epoch 15/20\n",
      "1500/1500 [==============================] - 4s 2ms/step - loss: 0.2467 - accuracy: 0.9135 - val_loss: 0.4104 - val_accuracy: 0.8857\n",
      "Epoch 16/20\n",
      "1500/1500 [==============================] - 4s 3ms/step - loss: 0.2428 - accuracy: 0.9166 - val_loss: 0.4144 - val_accuracy: 0.8884\n",
      "Epoch 17/20\n",
      "1500/1500 [==============================] - 4s 3ms/step - loss: 0.2372 - accuracy: 0.9185 - val_loss: 0.4071 - val_accuracy: 0.8844\n",
      "Epoch 18/20\n",
      "1500/1500 [==============================] - 4s 3ms/step - loss: 0.2331 - accuracy: 0.9188 - val_loss: 0.4659 - val_accuracy: 0.8767\n",
      "Epoch 19/20\n",
      "1500/1500 [==============================] - 4s 3ms/step - loss: 0.2310 - accuracy: 0.9207 - val_loss: 0.4662 - val_accuracy: 0.8819\n",
      "Epoch 20/20\n",
      "1500/1500 [==============================] - 4s 2ms/step - loss: 0.2277 - accuracy: 0.9221 - val_loss: 0.5001 - val_accuracy: 0.8755\n"
     ]
    }
   ],
   "source": [
    "model = model_fn()\n",
    "model.compile(loss='sparse_categorical_crossentropy', metrics = 'accuracy' )\n",
    "history = model.fit(\n",
    "    train_scaled , train_target, epochs = 20 , validation_data =(val_scaled , val_target)\n",
    ")"
   ]
  },
  {
   "cell_type": "code",
   "execution_count": null,
   "metadata": {},
   "outputs": [
    {
     "data": {
      "text/plain": [
       "dict_keys(['loss', 'accuracy', 'val_loss', 'val_accuracy'])"
      ]
     },
     "execution_count": 31,
     "metadata": {},
     "output_type": "execute_result"
    }
   ],
   "source": [
    "history.history.keys()"
   ]
  },
  {
   "cell_type": "code",
   "execution_count": null,
   "metadata": {},
   "outputs": [
    {
     "data": {
      "image/png": "[encoded data removed]",
      "text/plain": [
       "<Figure size 432x288 with 1 Axes>"
      ]
     },
     "metadata": {
      "needs_background": "light"
     },
     "output_type": "display_data"
    }
   ],
   "source": [
    "# 손실곡선 시각화 loss \n",
    "# 과대적합 볼 때 loss 로 자주 봄\n",
    "plt.plot(history.history['loss'])\n",
    "plt.plot(history.history['val_loss'])\n",
    "plt.xlabel('epoch') # epochs 20번\n",
    "plt.ylabel('loss')\n",
    "plt.legend(['train' , 'val'])\n",
    "plt.show()"
   ]
  },
  {
   "cell_type": "markdown",
   "metadata": {},
   "source": [
    "엄청난 과대적합 모델이다"
   ]
  },
  {
   "cell_type": "markdown",
   "metadata": {},
   "source": [
    "> 훈련 세트는 epoch가 증가함에 따라 손실이 떨어지고 있으나  \n",
    "> 검증세트는 epoch의 증가에 따라 초반에는 손실이 떨어지나 진행하면 할수록 손실율이 증가한다.\n",
    "> 이 모델은 훈련세트에는 정확도가 높아 좋지만, 검증세트에는 적합하지 않는 과대적합 모델이다."
   ]
  },
  {
   "cell_type": "code",
   "execution_count": null,
   "metadata": {},
   "outputs": [
    {
     "data": {
      "image/png": "[encoded data removed]",
      "text/plain": [
       "<Figure size 432x288 with 1 Axes>"
      ]
     },
     "metadata": {
      "needs_background": "light"
     },
     "output_type": "display_data"
    }
   ],
   "source": [
    "# 손실곡선 시각화 accuracy\n",
    "plt.plot(history.history['accuracy'])\n",
    "plt.plot(history.history['val_accuracy'])\n",
    "plt.xlabel('epoch') # epochs 20번\n",
    "plt.ylabel('accuracy')\n",
    "plt.legend(['train' , 'val'])\n",
    "plt.show()"
   ]
  },
  {
   "cell_type": "markdown",
   "metadata": {},
   "source": [
    "---\n",
    "# Optimizer 사용"
   ]
  },
  {
   "cell_type": "markdown",
   "metadata": {},
   "source": [
    "Adam"
   ]
  },
  {
   "cell_type": "code",
   "execution_count": null,
   "metadata": {},
   "outputs": [
    {
     "name": "stdout",
     "output_type": "stream",
     "text": [
      "Epoch 1/20\n",
      "1500/1500 [==============================] - 4s 2ms/step - loss: 0.5261 - accuracy: 0.8171 - val_loss: 0.4266 - val_accuracy: 0.8497\n",
      "Epoch 2/20\n",
      "1500/1500 [==============================] - 4s 2ms/step - loss: 0.3961 - accuracy: 0.8581 - val_loss: 0.3901 - val_accuracy: 0.8604\n",
      "Epoch 3/20\n",
      "1500/1500 [==============================] - 4s 2ms/step - loss: 0.3530 - accuracy: 0.8735 - val_loss: 0.3628 - val_accuracy: 0.8681\n",
      "Epoch 4/20\n",
      "1500/1500 [==============================] - 3s 2ms/step - loss: 0.3263 - accuracy: 0.8809 - val_loss: 0.3389 - val_accuracy: 0.8774\n",
      "Epoch 5/20\n",
      "1500/1500 [==============================] - 4s 2ms/step - loss: 0.3077 - accuracy: 0.8867 - val_loss: 0.3342 - val_accuracy: 0.8778\n",
      "Epoch 6/20\n",
      "1500/1500 [==============================] - 3s 2ms/step - loss: 0.2944 - accuracy: 0.8901 - val_loss: 0.3141 - val_accuracy: 0.8888\n",
      "Epoch 7/20\n",
      "1500/1500 [==============================] - 3s 2ms/step - loss: 0.2786 - accuracy: 0.8968 - val_loss: 0.3327 - val_accuracy: 0.8802\n",
      "Epoch 8/20\n",
      "1500/1500 [==============================] - 5s 3ms/step - loss: 0.2705 - accuracy: 0.8982 - val_loss: 0.3584 - val_accuracy: 0.8752\n",
      "Epoch 9/20\n",
      "1500/1500 [==============================] - 4s 3ms/step - loss: 0.2568 - accuracy: 0.9045 - val_loss: 0.3219 - val_accuracy: 0.8882\n",
      "Epoch 10/20\n",
      "1500/1500 [==============================] - 4s 2ms/step - loss: 0.2488 - accuracy: 0.9077 - val_loss: 0.3362 - val_accuracy: 0.8817\n",
      "Epoch 11/20\n",
      "1500/1500 [==============================] - 3s 2ms/step - loss: 0.2409 - accuracy: 0.9101 - val_loss: 0.3212 - val_accuracy: 0.8901\n",
      "Epoch 12/20\n",
      "1500/1500 [==============================] - 3s 2ms/step - loss: 0.2360 - accuracy: 0.9118 - val_loss: 0.3253 - val_accuracy: 0.8869\n",
      "Epoch 13/20\n",
      "1500/1500 [==============================] - 3s 2ms/step - loss: 0.2265 - accuracy: 0.9156 - val_loss: 0.3255 - val_accuracy: 0.8901\n",
      "Epoch 14/20\n",
      "1500/1500 [==============================] - 3s 2ms/step - loss: 0.2196 - accuracy: 0.9175 - val_loss: 0.3206 - val_accuracy: 0.8905\n",
      "Epoch 15/20\n",
      "1500/1500 [==============================] - 3s 2ms/step - loss: 0.2144 - accuracy: 0.9207 - val_loss: 0.3298 - val_accuracy: 0.8858\n",
      "Epoch 16/20\n",
      "1500/1500 [==============================] - 3s 2ms/step - loss: 0.2092 - accuracy: 0.9221 - val_loss: 0.3373 - val_accuracy: 0.8860\n",
      "Epoch 17/20\n",
      "1500/1500 [==============================] - 3s 2ms/step - loss: 0.2052 - accuracy: 0.9233 - val_loss: 0.3278 - val_accuracy: 0.8894\n",
      "Epoch 18/20\n",
      "1500/1500 [==============================] - 3s 2ms/step - loss: 0.1986 - accuracy: 0.9262 - val_loss: 0.3360 - val_accuracy: 0.8860\n",
      "Epoch 19/20\n",
      "1500/1500 [==============================] - 3s 2ms/step - loss: 0.1950 - accuracy: 0.9268 - val_loss: 0.3392 - val_accuracy: 0.8893\n",
      "Epoch 20/20\n",
      "1500/1500 [==============================] - 3s 2ms/step - loss: 0.1886 - accuracy: 0.9287 - val_loss: 0.3693 - val_accuracy: 0.8792\n"
     ]
    }
   ],
   "source": [
    "model = model_fn()\n",
    "model.compile(loss='sparse_categorical_crossentropy', metrics = 'accuracy' , optimizer = 'adam')\n",
    "history = model.fit(\n",
    "    train_scaled , train_target, epochs = 20 , validation_data =(val_scaled , val_target)\n",
    ")"
   ]
  },
  {
   "cell_type": "code",
   "execution_count": null,
   "metadata": {},
   "outputs": [
    {
     "data": {
      "image/png": "[encoded data removed]",
      "text/plain": [
       "<Figure size 432x288 with 1 Axes>"
      ]
     },
     "metadata": {
      "needs_background": "light"
     },
     "output_type": "display_data"
    }
   ],
   "source": [
    "# 손실곡선 시각화 loss\n",
    "plt.plot(history.history['loss'])\n",
    "plt.plot(history.history['val_loss'])\n",
    "plt.xlabel('epoch') # epochs 20번\n",
    "plt.ylabel('loss')\n",
    "plt.legend(['train' , 'val'])\n",
    "plt.show()"
   ]
  },
  {
   "cell_type": "markdown",
   "metadata": {},
   "source": [
    "아까보다는 나아졌지만 아직 과대적합이 해결되지 않았다."
   ]
  },
  {
   "cell_type": "markdown",
   "metadata": {},
   "source": [
    "> 훈련 세트는 epoch가 증가함에 따라 손실이 떨어지고 있으나  \n",
    "> 검증세트는 epoch의 증가에 따라 초반에는 손실이 떨어지나 진행하면 할수록 손실율이 증가한다.\n",
    "> 이 모델은 훈련세트에는 정확도가 높아 좋지만, 검증세트에는 적합하지 않는 과대적합 모델이다.        \n",
    "> Optimizer(최적화 알고리즘)을 사용한 것이 좀 더 나은 모델이나 검증 손실에 대한 부분 (과대적합)은 아직 해결이 안됨"
   ]
  },
  {
   "cell_type": "markdown",
   "metadata": {},
   "source": [
    "---\n",
    "# Dropout\n",
    "- 규제\n",
    "- 신경망 모델에만 있다.\n",
    "- 훈련시에만 각 sample을 처리할 때 은닉층의 임의의 node를 계산에 포함시키지 않는다."
   ]
  },
  {
   "cell_type": "code",
   "execution_count": null,
   "metadata": {},
   "outputs": [
    {
     "name": "stdout",
     "output_type": "stream",
     "text": [
      "Model: \"sequential_8\"\n",
      "_________________________________________________________________\n",
      " Layer (type)                Output Shape              Param #   \n",
      "=================================================================\n",
      " flatten_8 (Flatten)         (None, 784)               0         \n",
      "                                                                 \n",
      " dense_12 (Dense)            (None, 100)               78500     \n",
      "                                                                 \n",
      " dropout (Dropout)           (None, 100)               0         \n",
      "                                                                 \n",
      " dense_13 (Dense)            (None, 10)                1010      \n",
      "                                                                 \n",
      "=================================================================\n",
      "Total params: 79,510\n",
      "Trainable params: 79,510\n",
      "Non-trainable params: 0\n",
      "_________________________________________________________________\n"
     ]
    }
   ],
   "source": [
    "# model에 dropout을 추가\n",
    "model = model_fn(keras.layers.Dropout(0.3))\n",
    "model.summary()"
   ]
  },
  {
   "cell_type": "code",
   "execution_count": null,
   "metadata": {},
   "outputs": [
    {
     "name": "stdout",
     "output_type": "stream",
     "text": [
      "Epoch 1/20\n",
      "1500/1500 [==============================] - 4s 2ms/step - loss: 0.6015 - accuracy: 0.7904 - val_loss: 0.4302 - val_accuracy: 0.8442\n",
      "Epoch 2/20\n",
      "1500/1500 [==============================] - 4s 2ms/step - loss: 0.4425 - accuracy: 0.8413 - val_loss: 0.4118 - val_accuracy: 0.8513\n",
      "Epoch 3/20\n",
      "1500/1500 [==============================] - 3s 2ms/step - loss: 0.4048 - accuracy: 0.8535 - val_loss: 0.3701 - val_accuracy: 0.8645\n",
      "Epoch 4/20\n",
      "1500/1500 [==============================] - 3s 2ms/step - loss: 0.3860 - accuracy: 0.8605 - val_loss: 0.3552 - val_accuracy: 0.8699\n",
      "Epoch 5/20\n",
      "1500/1500 [==============================] - 3s 2ms/step - loss: 0.3667 - accuracy: 0.8666 - val_loss: 0.3530 - val_accuracy: 0.8723\n",
      "Epoch 6/20\n",
      "1500/1500 [==============================] - 3s 2ms/step - loss: 0.3545 - accuracy: 0.8700 - val_loss: 0.3529 - val_accuracy: 0.8713\n",
      "Epoch 7/20\n",
      "1500/1500 [==============================] - 3s 2ms/step - loss: 0.3442 - accuracy: 0.8736 - val_loss: 0.3360 - val_accuracy: 0.8773\n",
      "Epoch 8/20\n",
      "1500/1500 [==============================] - 3s 2ms/step - loss: 0.3334 - accuracy: 0.8767 - val_loss: 0.3288 - val_accuracy: 0.8814\n",
      "Epoch 9/20\n",
      "1500/1500 [==============================] - 3s 2ms/step - loss: 0.3273 - accuracy: 0.8805 - val_loss: 0.3485 - val_accuracy: 0.8734\n",
      "Epoch 10/20\n",
      "1500/1500 [==============================] - 3s 2ms/step - loss: 0.3181 - accuracy: 0.8810 - val_loss: 0.3300 - val_accuracy: 0.8799\n",
      "Epoch 11/20\n",
      "1500/1500 [==============================] - 3s 2ms/step - loss: 0.3135 - accuracy: 0.8827 - val_loss: 0.3338 - val_accuracy: 0.8792\n",
      "Epoch 12/20\n",
      "1500/1500 [==============================] - 3s 2ms/step - loss: 0.3074 - accuracy: 0.8859 - val_loss: 0.3225 - val_accuracy: 0.8844\n",
      "Epoch 13/20\n",
      "1500/1500 [==============================] - 3s 2ms/step - loss: 0.3044 - accuracy: 0.8876 - val_loss: 0.3206 - val_accuracy: 0.8839\n",
      "Epoch 14/20\n",
      "1500/1500 [==============================] - 3s 2ms/step - loss: 0.3021 - accuracy: 0.8895 - val_loss: 0.3168 - val_accuracy: 0.8854\n",
      "Epoch 15/20\n",
      "1500/1500 [==============================] - 3s 2ms/step - loss: 0.2916 - accuracy: 0.8905 - val_loss: 0.3262 - val_accuracy: 0.8816\n",
      "Epoch 16/20\n",
      "1500/1500 [==============================] - 3s 2ms/step - loss: 0.2928 - accuracy: 0.8916 - val_loss: 0.3256 - val_accuracy: 0.8849\n",
      "Epoch 17/20\n",
      "1500/1500 [==============================] - 3s 2ms/step - loss: 0.2874 - accuracy: 0.8911 - val_loss: 0.3127 - val_accuracy: 0.8880\n",
      "Epoch 18/20\n",
      "1500/1500 [==============================] - 3s 2ms/step - loss: 0.2832 - accuracy: 0.8943 - val_loss: 0.3196 - val_accuracy: 0.8908\n",
      "Epoch 19/20\n",
      "1500/1500 [==============================] - 3s 2ms/step - loss: 0.2777 - accuracy: 0.8949 - val_loss: 0.3113 - val_accuracy: 0.8866\n",
      "Epoch 20/20\n",
      "1500/1500 [==============================] - 3s 2ms/step - loss: 0.2761 - accuracy: 0.8954 - val_loss: 0.3178 - val_accuracy: 0.8898\n"
     ]
    }
   ],
   "source": [
    "model.compile(loss='sparse_categorical_crossentropy', metrics = 'accuracy' , optimizer = 'adam')\n",
    "history = model.fit(\n",
    "    train_scaled , train_target, epochs = 20 , validation_data =(val_scaled , val_target)\n",
    ")"
   ]
  },
  {
   "cell_type": "code",
   "execution_count": null,
   "metadata": {},
   "outputs": [
    {
     "data": {
      "image/png": "[encoded data removed]",
      "text/plain": [
       "<Figure size 432x288 with 1 Axes>"
      ]
     },
     "metadata": {
      "needs_background": "light"
     },
     "output_type": "display_data"
    }
   ],
   "source": [
    "# 손실곡선 시각화 loss\n",
    "plt.plot(history.history['loss'])\n",
    "plt.plot(history.history['val_loss'])\n",
    "plt.xlabel('epoch') # epochs 20번\n",
    "plt.ylabel('loss')\n",
    "plt.legend(['train' , 'val'])\n",
    "plt.show()"
   ]
  },
  {
   "cell_type": "markdown",
   "metadata": {},
   "source": [
    "> epoch가 10일 경우가 train과 val의 차이가 적은 것 같다.    \n",
    "> 기본적으로 훈련세트의 손실이 검증세트보다 적게 나오는 epoch의 갯수를 선택한다."
   ]
  },
  {
   "cell_type": "markdown",
   "metadata": {},
   "source": [
    "---\n",
    "### 모델의 저장과 복원\n",
    "- hdf5 format 으로 저장 (deep learning에 가장 적합하게 만들어짐)"
   ]
  },
  {
   "cell_type": "code",
   "execution_count": null,
   "metadata": {},
   "outputs": [],
   "source": [
    "# model 저장\n",
    "model.save('../Data/model_whole.h5')"
   ]
  },
  {
   "cell_type": "code",
   "execution_count": null,
   "metadata": {},
   "outputs": [],
   "source": [
    "# model 복원\n",
    "model = keras.models.load_model('../Data/model_whole.h5')"
   ]
  },
  {
   "cell_type": "code",
   "execution_count": null,
   "metadata": {},
   "outputs": [
    {
     "name": "stdout",
     "output_type": "stream",
     "text": [
      "375/375 [==============================] - 1s 2ms/step - loss: 0.3178 - accuracy: 0.8898\n"
     ]
    },
    {
     "data": {
      "text/plain": [
       "[0.31783953309059143, 0.8897500038146973]"
      ]
     },
     "execution_count": 41,
     "metadata": {},
     "output_type": "execute_result"
    }
   ],
   "source": [
    "# 사용\n",
    "model.evaluate(val_scaled , val_target)"
   ]
  },
  {
   "cell_type": "markdown",
   "metadata": {},
   "source": [
    "---\n",
    "# Callbacks 함수\n",
    "- 훈련수행시 손실값이 제일 작은 함수를 저장해 준다. <- 굉장히 편함"
   ]
  },
  {
   "cell_type": "code",
   "execution_count": null,
   "metadata": {},
   "outputs": [
    {
     "name": "stdout",
     "output_type": "stream",
     "text": [
      "Epoch 1/20\n",
      "1474/1500 [============================>.] - ETA: 0s - loss: 0.5900 - accuracy: 0.7917\n",
      "Epoch 1: saving model to ../Data/best-model.h5\n",
      "1500/1500 [==============================] - 4s 2ms/step - loss: 0.5884 - accuracy: 0.7920 - val_loss: 0.4305 - val_accuracy: 0.8436\n",
      "Epoch 2/20\n",
      "1475/1500 [============================>.] - ETA: 0s - loss: 0.4374 - accuracy: 0.8419\n",
      "Epoch 2: saving model to ../Data/best-model.h5\n",
      "1500/1500 [==============================] - 3s 2ms/step - loss: 0.4375 - accuracy: 0.8420 - val_loss: 0.4055 - val_accuracy: 0.8445\n",
      "Epoch 3/20\n",
      "1494/1500 [============================>.] - ETA: 0s - loss: 0.4048 - accuracy: 0.8539\n",
      "Epoch 3: saving model to ../Data/best-model.h5\n",
      "1500/1500 [==============================] - 3s 2ms/step - loss: 0.4047 - accuracy: 0.8539 - val_loss: 0.3639 - val_accuracy: 0.8686\n",
      "Epoch 4/20\n",
      "1483/1500 [============================>.] - ETA: 0s - loss: 0.3808 - accuracy: 0.8611\n",
      "Epoch 4: saving model to ../Data/best-model.h5\n",
      "1500/1500 [==============================] - 3s 2ms/step - loss: 0.3809 - accuracy: 0.8611 - val_loss: 0.3537 - val_accuracy: 0.8699\n",
      "Epoch 5/20\n",
      "1483/1500 [============================>.] - ETA: 0s - loss: 0.3658 - accuracy: 0.8669\n",
      "Epoch 5: saving model to ../Data/best-model.h5\n",
      "1500/1500 [==============================] - 4s 2ms/step - loss: 0.3657 - accuracy: 0.8668 - val_loss: 0.3581 - val_accuracy: 0.8703\n",
      "Epoch 6/20\n",
      "1483/1500 [============================>.] - ETA: 0s - loss: 0.3522 - accuracy: 0.8696\n",
      "Epoch 6: saving model to ../Data/best-model.h5\n",
      "1500/1500 [==============================] - 4s 2ms/step - loss: 0.3525 - accuracy: 0.8694 - val_loss: 0.3343 - val_accuracy: 0.8781\n",
      "Epoch 7/20\n",
      "1479/1500 [============================>.] - ETA: 0s - loss: 0.3433 - accuracy: 0.8749\n",
      "Epoch 7: saving model to ../Data/best-model.h5\n",
      "1500/1500 [==============================] - 4s 3ms/step - loss: 0.3433 - accuracy: 0.8750 - val_loss: 0.3362 - val_accuracy: 0.8746\n",
      "Epoch 8/20\n",
      "1495/1500 [============================>.] - ETA: 0s - loss: 0.3380 - accuracy: 0.8750\n",
      "Epoch 8: saving model to ../Data/best-model.h5\n",
      "1500/1500 [==============================] - 4s 2ms/step - loss: 0.3381 - accuracy: 0.8750 - val_loss: 0.3274 - val_accuracy: 0.8798\n",
      "Epoch 9/20\n",
      "1477/1500 [============================>.] - ETA: 0s - loss: 0.3268 - accuracy: 0.8797\n",
      "Epoch 9: saving model to ../Data/best-model.h5\n",
      "1500/1500 [==============================] - 4s 2ms/step - loss: 0.3263 - accuracy: 0.8798 - val_loss: 0.3299 - val_accuracy: 0.8805\n",
      "Epoch 10/20\n",
      "1496/1500 [============================>.] - ETA: 0s - loss: 0.3212 - accuracy: 0.8815\n",
      "Epoch 10: saving model to ../Data/best-model.h5\n",
      "1500/1500 [==============================] - 4s 2ms/step - loss: 0.3211 - accuracy: 0.8815 - val_loss: 0.3238 - val_accuracy: 0.8822\n",
      "Epoch 11/20\n",
      "1500/1500 [==============================] - ETA: 0s - loss: 0.3119 - accuracy: 0.8847\n",
      "Epoch 11: saving model to ../Data/best-model.h5\n",
      "1500/1500 [==============================] - 4s 2ms/step - loss: 0.3119 - accuracy: 0.8847 - val_loss: 0.3178 - val_accuracy: 0.8837\n",
      "Epoch 12/20\n",
      "1487/1500 [============================>.] - ETA: 0s - loss: 0.3079 - accuracy: 0.8865\n",
      "Epoch 12: saving model to ../Data/best-model.h5\n",
      "1500/1500 [==============================] - 4s 2ms/step - loss: 0.3072 - accuracy: 0.8867 - val_loss: 0.3282 - val_accuracy: 0.8811\n",
      "Epoch 13/20\n",
      "1479/1500 [============================>.] - ETA: 0s - loss: 0.3023 - accuracy: 0.8879\n",
      "Epoch 13: saving model to ../Data/best-model.h5\n",
      "1500/1500 [==============================] - 3s 2ms/step - loss: 0.3019 - accuracy: 0.8882 - val_loss: 0.3161 - val_accuracy: 0.8846\n",
      "Epoch 14/20\n",
      "1498/1500 [============================>.] - ETA: 0s - loss: 0.2991 - accuracy: 0.8892\n",
      "Epoch 14: saving model to ../Data/best-model.h5\n",
      "1500/1500 [==============================] - 4s 2ms/step - loss: 0.2990 - accuracy: 0.8892 - val_loss: 0.3229 - val_accuracy: 0.8807\n",
      "Epoch 15/20\n",
      "1496/1500 [============================>.] - ETA: 0s - loss: 0.2940 - accuracy: 0.8912\n",
      "Epoch 15: saving model to ../Data/best-model.h5\n",
      "1500/1500 [==============================] - 4s 3ms/step - loss: 0.2941 - accuracy: 0.8912 - val_loss: 0.3174 - val_accuracy: 0.8871\n",
      "Epoch 16/20\n",
      "1484/1500 [============================>.] - ETA: 0s - loss: 0.2883 - accuracy: 0.8915\n",
      "Epoch 16: saving model to ../Data/best-model.h5\n",
      "1500/1500 [==============================] - 4s 3ms/step - loss: 0.2885 - accuracy: 0.8914 - val_loss: 0.3124 - val_accuracy: 0.8880\n",
      "Epoch 17/20\n",
      "1490/1500 [============================>.] - ETA: 0s - loss: 0.2848 - accuracy: 0.8940\n",
      "Epoch 17: saving model to ../Data/best-model.h5\n",
      "1500/1500 [==============================] - 4s 2ms/step - loss: 0.2845 - accuracy: 0.8941 - val_loss: 0.3356 - val_accuracy: 0.8826\n",
      "Epoch 18/20\n",
      "1493/1500 [============================>.] - ETA: 0s - loss: 0.2782 - accuracy: 0.8956\n",
      "Epoch 18: saving model to ../Data/best-model.h5\n",
      "1500/1500 [==============================] - 3s 2ms/step - loss: 0.2785 - accuracy: 0.8954 - val_loss: 0.3301 - val_accuracy: 0.8814\n",
      "Epoch 19/20\n",
      "1498/1500 [============================>.] - ETA: 0s - loss: 0.2788 - accuracy: 0.8957\n",
      "Epoch 19: saving model to ../Data/best-model.h5\n",
      "1500/1500 [==============================] - 4s 2ms/step - loss: 0.2788 - accuracy: 0.8956 - val_loss: 0.3211 - val_accuracy: 0.8881\n",
      "Epoch 20/20\n",
      "1500/1500 [==============================] - ETA: 0s - loss: 0.2747 - accuracy: 0.8976\n",
      "Epoch 20: saving model to ../Data/best-model.h5\n",
      "1500/1500 [==============================] - 4s 2ms/step - loss: 0.2747 - accuracy: 0.8976 - val_loss: 0.3162 - val_accuracy: 0.8865\n"
     ]
    },
    {
     "data": {
      "text/plain": [
       "<keras.callbacks.History at 0x7ff5d7be1df0>"
      ]
     },
     "execution_count": 46,
     "metadata": {},
     "output_type": "execute_result"
    }
   ],
   "source": [
    "model = model_fn(keras.layers.Dropout(0.3))\n",
    "model.compile(loss='sparse_categorical_crossentropy', metrics = 'accuracy' , optimizer = 'adam')\n",
    "# callbacks 함수\n",
    "checkpoint_cb = keras.callbacks.ModelCheckpoint(\"../Data/best-model.h5\" )\n",
    "model.fit(train_scaled , train_target, epochs = 20 , \n",
    "            validation_data =(val_scaled , val_target),\n",
    "            callbacks = [checkpoint_cb]\n",
    "            )"
   ]
  },
  {
   "cell_type": "code",
   "execution_count": null,
   "metadata": {},
   "outputs": [
    {
     "name": "stdout",
     "output_type": "stream",
     "text": [
      "375/375 [==============================] - 1s 1ms/step - loss: 0.3258 - accuracy: 0.8858\n"
     ]
    },
    {
     "data": {
      "text/plain": [
       "[0.3258150815963745, 0.8858333230018616]"
      ]
     },
     "execution_count": 44,
     "metadata": {},
     "output_type": "execute_result"
    }
   ],
   "source": [
    "model = keras.models.load_model('../Data/best-model.h5')\n",
    "model.evaluate(val_scaled , val_target)"
   ]
  },
  {
   "cell_type": "markdown",
   "metadata": {},
   "source": [
    "---\n",
    "# Early stopping(조기 종료)\n",
    "- Callbacks 처럼 끝까지 기다리는 것이 아니고 hyper parameter을 선정하여 한계값을 정해 실행한다."
   ]
  },
  {
   "cell_type": "code",
   "execution_count": 67,
   "metadata": {},
   "outputs": [
    {
     "name": "stdout",
     "output_type": "stream",
     "text": [
      "Epoch 1/20\n",
      "1495/1500 [============================>.] - ETA: 0s - loss: 0.5888 - accuracy: 0.7932\n",
      "Epoch 1: val_loss improved from inf to 0.43216, saving model to ../Data/best-model.h5\n",
      "1500/1500 [==============================] - 4s 2ms/step - loss: 0.5881 - accuracy: 0.7935 - val_loss: 0.4322 - val_accuracy: 0.8439\n",
      "Epoch 2/20\n",
      "1489/1500 [============================>.] - ETA: 0s - loss: 0.4398 - accuracy: 0.8403\n",
      "Epoch 2: val_loss improved from 0.43216 to 0.39805, saving model to ../Data/best-model.h5\n",
      "1500/1500 [==============================] - 3s 2ms/step - loss: 0.4398 - accuracy: 0.8405 - val_loss: 0.3981 - val_accuracy: 0.8546\n",
      "Epoch 3/20\n",
      "1473/1500 [============================>.] - ETA: 0s - loss: 0.4079 - accuracy: 0.8508\n",
      "Epoch 3: val_loss improved from 0.39805 to 0.37069, saving model to ../Data/best-model.h5\n",
      "1500/1500 [==============================] - 3s 2ms/step - loss: 0.4076 - accuracy: 0.8507 - val_loss: 0.3707 - val_accuracy: 0.8664\n",
      "Epoch 4/20\n",
      "1490/1500 [============================>.] - ETA: 0s - loss: 0.3830 - accuracy: 0.8616\n",
      "Epoch 4: val_loss improved from 0.37069 to 0.35063, saving model to ../Data/best-model.h5\n",
      "1500/1500 [==============================] - 3s 2ms/step - loss: 0.3831 - accuracy: 0.8615 - val_loss: 0.3506 - val_accuracy: 0.8714\n",
      "Epoch 5/20\n",
      "1500/1500 [==============================] - ETA: 0s - loss: 0.3685 - accuracy: 0.8641\n",
      "Epoch 5: val_loss improved from 0.35063 to 0.34739, saving model to ../Data/best-model.h5\n",
      "1500/1500 [==============================] - 3s 2ms/step - loss: 0.3685 - accuracy: 0.8641 - val_loss: 0.3474 - val_accuracy: 0.8729\n",
      "Epoch 6/20\n",
      "1482/1500 [============================>.] - ETA: 0s - loss: 0.3558 - accuracy: 0.8690\n",
      "Epoch 6: val_loss improved from 0.34739 to 0.34122, saving model to ../Data/best-model.h5\n",
      "1500/1500 [==============================] - 3s 2ms/step - loss: 0.3553 - accuracy: 0.8693 - val_loss: 0.3412 - val_accuracy: 0.8758\n",
      "Epoch 7/20\n",
      "1498/1500 [============================>.] - ETA: 0s - loss: 0.3459 - accuracy: 0.8727\n",
      "Epoch 7: val_loss improved from 0.34122 to 0.33771, saving model to ../Data/best-model.h5\n",
      "1500/1500 [==============================] - 3s 2ms/step - loss: 0.3460 - accuracy: 0.8727 - val_loss: 0.3377 - val_accuracy: 0.8762\n",
      "Epoch 8/20\n",
      "1484/1500 [============================>.] - ETA: 0s - loss: 0.3369 - accuracy: 0.8753\n",
      "Epoch 8: val_loss did not improve from 0.33771\n",
      "1500/1500 [==============================] - 3s 2ms/step - loss: 0.3368 - accuracy: 0.8752 - val_loss: 0.3422 - val_accuracy: 0.8759\n",
      "Epoch 9/20\n",
      "1480/1500 [============================>.] - ETA: 0s - loss: 0.3318 - accuracy: 0.8773\n",
      "Epoch 9: val_loss improved from 0.33771 to 0.32811, saving model to ../Data/best-model.h5\n",
      "1500/1500 [==============================] - 4s 2ms/step - loss: 0.3313 - accuracy: 0.8776 - val_loss: 0.3281 - val_accuracy: 0.8797\n",
      "Epoch 10/20\n",
      "1479/1500 [============================>.] - ETA: 0s - loss: 0.3218 - accuracy: 0.8799\n",
      "Epoch 10: val_loss did not improve from 0.32811\n",
      "1500/1500 [==============================] - 3s 2ms/step - loss: 0.3210 - accuracy: 0.8801 - val_loss: 0.3337 - val_accuracy: 0.8764\n",
      "Epoch 11/20\n",
      "1495/1500 [============================>.] - ETA: 0s - loss: 0.3160 - accuracy: 0.8825\n",
      "Epoch 11: val_loss improved from 0.32811 to 0.32380, saving model to ../Data/best-model.h5\n",
      "1500/1500 [==============================] - 3s 2ms/step - loss: 0.3159 - accuracy: 0.8825 - val_loss: 0.3238 - val_accuracy: 0.8814\n",
      "Epoch 12/20\n",
      "1499/1500 [============================>.] - ETA: 0s - loss: 0.3097 - accuracy: 0.8848\n",
      "Epoch 12: val_loss improved from 0.32380 to 0.31957, saving model to ../Data/best-model.h5\n",
      "1500/1500 [==============================] - 4s 2ms/step - loss: 0.3098 - accuracy: 0.8848 - val_loss: 0.3196 - val_accuracy: 0.8839\n",
      "Epoch 13/20\n",
      "1500/1500 [==============================] - ETA: 0s - loss: 0.3052 - accuracy: 0.8873\n",
      "Epoch 13: val_loss did not improve from 0.31957\n",
      "1500/1500 [==============================] - 4s 2ms/step - loss: 0.3052 - accuracy: 0.8873 - val_loss: 0.3304 - val_accuracy: 0.8834\n",
      "Epoch 14/20\n",
      "1483/1500 [============================>.] - ETA: 0s - loss: 0.3005 - accuracy: 0.8868\n",
      "Epoch 14: val_loss did not improve from 0.31957\n",
      "Restoring model weights from the end of the best epoch: 12.\n",
      "1500/1500 [==============================] - 3s 2ms/step - loss: 0.3006 - accuracy: 0.8868 - val_loss: 0.3201 - val_accuracy: 0.8855\n",
      "Epoch 14: early stopping\n"
     ]
    }
   ],
   "source": [
    "from lightgbm import early_stopping\n",
    "\n",
    "\n",
    "model = model_fn(keras.layers.Dropout(0.3))\n",
    "model.compile(loss='sparse_categorical_crossentropy', metrics = 'accuracy' , optimizer = 'adam')\n",
    "\n",
    "checkpoint_cb = keras.callbacks.ModelCheckpoint(\"../Data/best-model.h5\" , verbose = 1 , monitor='val_loss' , save_best_only=True,  mode='min')\n",
    "# early stopping\n",
    "early_stopping_cb = keras.callbacks.EarlyStopping( patience=2, restore_best_weights= True, verbose = 1 , monitor='val_loss' ,  mode='min')\n",
    "# patience 참을성 : 2번 참을게\n",
    "# 가중치 값을 꼭 적어놔야 한다.(True를 해줘야 2번 참고 2번 전의 제일 좋은 가중치 모델 저장한다. 안쓰면 2번 전의 가중치를 모름) \n",
    "\n",
    "history = model.fit(train_scaled , train_target, epochs = 20 , \n",
    "            validation_data =(val_scaled , val_target),\n",
    "            callbacks = [checkpoint_cb , early_stopping_cb]\n",
    "            )"
   ]
  },
  {
   "cell_type": "code",
   "execution_count": 70,
   "metadata": {},
   "outputs": [
    {
     "data": {
      "text/plain": [
       "13"
      ]
     },
     "execution_count": 70,
     "metadata": {},
     "output_type": "execute_result"
    }
   ],
   "source": [
    "# 몇번쨰 epoch에서 stop 되었는가?\n",
    "early_stopping_cb.stopped_epoch # count 0 부터 시작 , epoch는 1부터 시작해서 1 차이가 난다\n",
    "# 14번째 epoch에서 멈춘것. 12번쨰 epoch를 저장"
   ]
  },
  {
   "cell_type": "code",
   "execution_count": 69,
   "metadata": {},
   "outputs": [
    {
     "data": {
      "image/png": "[encoded data removed]",
      "text/plain": [
       "<Figure size 432x288 with 1 Axes>"
      ]
     },
     "metadata": {
      "needs_background": "light"
     },
     "output_type": "display_data"
    }
   ],
   "source": [
    "# 손실곡선 시각화 loss\n",
    "plt.plot(history.history['loss'])\n",
    "plt.plot(history.history['val_loss'])\n",
    "plt.xlabel('epoch') # epochs 20번\n",
    "plt.ylabel('loss')\n",
    "plt.legend(['train' , 'val'])\n",
    "plt.show()"
   ]
  },
  {
   "cell_type": "markdown",
   "metadata": {},
   "source": [
    "---"
   ]
  }
 ],
 "metadata": {
  "kernelspec": {
   "display_name": "Python 3.9.7 ('base')",
   "language": "python",
   "name": "python3"
  },
  "language_info": {
   "codemirror_mode": {
    "name": "ipython",
    "version": 3
   },
   "file_extension": ".py",
   "mimetype": "text/x-python",
   "name": "python",
   "nbconvert_exporter": "python",
   "pygments_lexer": "ipython3",
   "version": "3.9.7"
  },
  "orig_nbformat": 4,
  "vscode": {
   "interpreter": {
    "hash": "c34e8390e776d2ee205b71ed5a6130fee3cef8da5e87e926ce18e14f4a070d72"
   }
  }
 },
 "nbformat": 4,
 "nbformat_minor": 2
}
