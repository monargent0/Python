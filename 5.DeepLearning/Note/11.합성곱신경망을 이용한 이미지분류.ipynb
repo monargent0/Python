{
 "cells": [
  {
   "cell_type": "code",
   "execution_count": 1,
   "metadata": {},
   "outputs": [],
   "source": [
    "import warnings\n",
    "warnings.filterwarnings('ignore')"
   ]
  },
  {
   "cell_type": "markdown",
   "metadata": {},
   "source": [
    "### 패션 MNIST 데이터 불러오기"
   ]
  },
  {
   "cell_type": "code",
   "execution_count": 2,
   "metadata": {},
   "outputs": [],
   "source": [
    "from tensorflow import keras\n",
    "from sklearn.model_selection import train_test_split\n",
    "(train_input, train_target), (test_input, test_target) = keras.datasets.fashion_mnist.load_data()\n",
    "train_scaled = train_input.reshape(-1 , 28, 28, 1) / 255.0 # 28x28x1 직육면체가 n개 생김\n",
    "\n",
    "train_scaled , val_scaled , train_target, val_target = train_test_split(\n",
    "    train_scaled , train_target , test_size= 0.2, random_state=42\n",
    ")"
   ]
  },
  {
   "cell_type": "markdown",
   "metadata": {},
   "source": [
    "- Keras에서 입력데이터가 3차원으로 구성되어 있을 것이라고 가정하고 있으므로 차원을 추가해서 channel차원으로 1을 추가하였음\n",
    "- train set을 train과 valid로 구분"
   ]
  },
  {
   "cell_type": "markdown",
   "metadata": {},
   "source": [
    "# 합성곱 신경망 만들기"
   ]
  },
  {
   "cell_type": "code",
   "execution_count": 3,
   "metadata": {},
   "outputs": [
    {
     "name": "stderr",
     "output_type": "stream",
     "text": [
      "2022-07-21 11:38:04.658367: I tensorflow/core/platform/cpu_feature_guard.cc:193] This TensorFlow binary is optimized with oneAPI Deep Neural Network Library (oneDNN) to use the following CPU instructions in performance-critical operations:  AVX2 FMA\n",
      "To enable them in other operations, rebuild TensorFlow with the appropriate compiler flags.\n"
     ]
    }
   ],
   "source": [
    "model = keras.Sequential()"
   ]
  },
  {
   "cell_type": "code",
   "execution_count": 4,
   "metadata": {},
   "outputs": [],
   "source": [
    "model.add(\n",
    "    keras.layers.Conv2D(\n",
    "        32, # filter 갯수\n",
    "        kernel_size = 3, # kernel size (3,3,1)\n",
    "        activation = \"relu\", \n",
    "        padding = \"same\",\n",
    "        input_shape = (28,28,1) # 제일 처음 등장하는 layer니까 input_shape 설정 해줌\n",
    "    )\n",
    ") # -> (28,28,32)"
   ]
  },
  {
   "cell_type": "code",
   "execution_count": 5,
   "metadata": {},
   "outputs": [],
   "source": [
    "model.add(\n",
    "    keras.layers.MaxPooling2D(2) # 2x2 \n",
    ") # -> (14,14,32)"
   ]
  },
  {
   "cell_type": "code",
   "execution_count": 6,
   "metadata": {},
   "outputs": [],
   "source": [
    "model.add(\n",
    "    keras.layers.Conv2D(\n",
    "        64, # filter의 갯수\n",
    "        kernel_size = 3,\n",
    "        activation = \"relu\",\n",
    "        padding = \"same\",\n",
    "    )\n",
    ") # -> (14,14,64)"
   ]
  },
  {
   "cell_type": "code",
   "execution_count": 7,
   "metadata": {},
   "outputs": [],
   "source": [
    "model.add(\n",
    "    keras.layers.MaxPooling2D(2) # 2x2 \n",
    ") # -> (7,7,64)"
   ]
  },
  {
   "cell_type": "code",
   "execution_count": 10,
   "metadata": {},
   "outputs": [],
   "source": [
    "model.add(keras.layers.Flatten()) # 1차원으로 펼쳐줌\n",
    "model.add(keras.layers.Dense(100, activation=\"relu\"))\n",
    "model.add(keras.layers.Dropout(0.4))\n",
    "model.add(keras.layers.Dense(10 , activation = 'softmax'))"
   ]
  },
  {
   "cell_type": "markdown",
   "metadata": {},
   "source": [
    "입력데이터는 28 * 28 이었는데 최종 딥러닝에 들어가는건 7 * 7 * 64 3136개이다"
   ]
  },
  {
   "cell_type": "code",
   "execution_count": 11,
   "metadata": {},
   "outputs": [
    {
     "name": "stdout",
     "output_type": "stream",
     "text": [
      "Model: \"sequential\"\n",
      "_________________________________________________________________\n",
      " Layer (type)                Output Shape              Param #   \n",
      "=================================================================\n",
      " conv2d (Conv2D)             (None, 28, 28, 32)        320       \n",
      "                                                                 \n",
      " max_pooling2d (MaxPooling2D  (None, 14, 14, 32)       0         \n",
      " )                                                               \n",
      "                                                                 \n",
      " conv2d_1 (Conv2D)           (None, 14, 14, 64)        18496     \n",
      "                                                                 \n",
      " max_pooling2d_1 (MaxPooling  (None, 7, 7, 64)         0         \n",
      " 2D)                                                             \n",
      "                                                                 \n",
      " flatten (Flatten)           (None, 3136)              0         \n",
      "                                                                 \n",
      " dense (Dense)               (None, 100)               313700    \n",
      "                                                                 \n",
      " dropout (Dropout)           (None, 100)               0         \n",
      "                                                                 \n",
      " dense_1 (Dense)             (None, 10)                1010      \n",
      "                                                                 \n",
      "=================================================================\n",
      "Total params: 333,526\n",
      "Trainable params: 333,526\n",
      "Non-trainable params: 0\n",
      "_________________________________________________________________\n"
     ]
    }
   ],
   "source": [
    "model.summary()"
   ]
  },
  {
   "cell_type": "markdown",
   "metadata": {},
   "source": [
    "# Model Compile과 훈련"
   ]
  },
  {
   "cell_type": "code",
   "execution_count": 12,
   "metadata": {},
   "outputs": [
    {
     "name": "stdout",
     "output_type": "stream",
     "text": [
      "Epoch 1/20\n",
      "1500/1500 [==============================] - 30s 19ms/step - loss: 0.5298 - accuracy: 0.8105 - val_loss: 0.3243 - val_accuracy: 0.8770\n",
      "Epoch 2/20\n",
      "1500/1500 [==============================] - 28s 19ms/step - loss: 0.3497 - accuracy: 0.8746 - val_loss: 0.2846 - val_accuracy: 0.8932\n",
      "Epoch 3/20\n",
      "1500/1500 [==============================] - 29s 19ms/step - loss: 0.2990 - accuracy: 0.8921 - val_loss: 0.2612 - val_accuracy: 0.9033\n",
      "Epoch 4/20\n",
      "1500/1500 [==============================] - 27s 18ms/step - loss: 0.2691 - accuracy: 0.9025 - val_loss: 0.2445 - val_accuracy: 0.9072\n",
      "Epoch 5/20\n",
      "1500/1500 [==============================] - 27s 18ms/step - loss: 0.2454 - accuracy: 0.9094 - val_loss: 0.2341 - val_accuracy: 0.9136\n",
      "Epoch 6/20\n",
      "1500/1500 [==============================] - 27s 18ms/step - loss: 0.2264 - accuracy: 0.9169 - val_loss: 0.2577 - val_accuracy: 0.9063\n",
      "Epoch 7/20\n",
      "1500/1500 [==============================] - 28s 19ms/step - loss: 0.2099 - accuracy: 0.9236 - val_loss: 0.2283 - val_accuracy: 0.9183\n",
      "Epoch 8/20\n",
      "1500/1500 [==============================] - 28s 19ms/step - loss: 0.1924 - accuracy: 0.9282 - val_loss: 0.2279 - val_accuracy: 0.9157\n",
      "Epoch 9/20\n",
      "1500/1500 [==============================] - 26s 17ms/step - loss: 0.1822 - accuracy: 0.9319 - val_loss: 0.2210 - val_accuracy: 0.9206\n",
      "Epoch 10/20\n",
      "1500/1500 [==============================] - 25s 17ms/step - loss: 0.1694 - accuracy: 0.9364 - val_loss: 0.2308 - val_accuracy: 0.9189\n",
      "Epoch 11/20\n",
      "1500/1500 [==============================] - 26s 17ms/step - loss: 0.1577 - accuracy: 0.9402 - val_loss: 0.2262 - val_accuracy: 0.9205\n"
     ]
    }
   ],
   "source": [
    "model.compile(\n",
    "    optimizer = 'adam',\n",
    "    loss = 'sparse_categorical_crossentropy', \n",
    "    metrics = 'accuracy'\n",
    ")\n",
    "checkpoint_cb = keras.callbacks.ModelCheckpoint('../Data/best_cnn_model.h5')\n",
    "early_stopping_cb = keras.callbacks.EarlyStopping(patience=2, restore_best_weights=True)\n",
    "\n",
    "history = model.fit(\n",
    "    train_scaled , \n",
    "    train_target ,\n",
    "    epochs = 20 ,\n",
    "    validation_data = (val_scaled , val_target) ,\n",
    "    callbacks = [checkpoint_cb , early_stopping_cb]\n",
    ")"
   ]
  },
  {
   "cell_type": "markdown",
   "metadata": {},
   "source": [
    "> 위 코드는 컴퓨터 퍼포먼스가 좋지않아 빨리 끝내기 위해 처음부터 earlystopping을 사용했지만,        \n",
    "> 처음 시작할때는 earlystopping을 빼고 해본 다음, 추세를 보고, early stopping옵션을 넣고 다시 돌리는것이 좋다. patience는 보통 5를 쓴다."
   ]
  },
  {
   "cell_type": "code",
   "execution_count": 13,
   "metadata": {},
   "outputs": [
    {
     "data": {
      "image/png": "[encoded data removed]",
      "text/plain": [
       "<Figure size 432x288 with 1 Axes>"
      ]
     },
     "metadata": {
      "needs_background": "light"
     },
     "output_type": "display_data"
    }
   ],
   "source": [
    "# 시각화 해보기\n",
    "import matplotlib.pyplot as plt\n",
    "\n",
    "plt.plot(history.history['loss'])\n",
    "plt.plot(history.history['val_loss'])\n",
    "plt.legend(['loss','val_loss'])\n",
    "plt.xlabel('epoch')\n",
    "plt.ylabel('loss')\n",
    "plt.show()"
   ]
  },
  {
   "cell_type": "code",
   "execution_count": 14,
   "metadata": {},
   "outputs": [
    {
     "name": "stdout",
     "output_type": "stream",
     "text": [
      "375/375 [==============================] - 2s 5ms/step - loss: 0.2210 - accuracy: 0.9206\n"
     ]
    },
    {
     "data": {
      "text/plain": [
       "[0.22100862860679626, 0.9205833077430725]"
      ]
     },
     "execution_count": 14,
     "metadata": {},
     "output_type": "execute_result"
    }
   ],
   "source": [
    "model.evaluate(val_scaled , val_target)"
   ]
  },
  {
   "cell_type": "code",
   "execution_count": 15,
   "metadata": {},
   "outputs": [
    {
     "data": {
      "image/png": "[encoded data removed]",
      "text/plain": [
       "<Figure size 432x288 with 1 Axes>"
      ]
     },
     "metadata": {
      "needs_background": "light"
     },
     "output_type": "display_data"
    }
   ],
   "source": [
    "# 이미지로 확인해보기\n",
    "plt.imshow( val_scaled[0].reshape(28,28) , cmap = \"gray_r\" )\n",
    "plt.show()"
   ]
  },
  {
   "cell_type": "code",
   "execution_count": 16,
   "metadata": {},
   "outputs": [
    {
     "name": "stdout",
     "output_type": "stream",
     "text": [
      "1/1 [==============================] - 0s 107ms/step\n",
      "[[1.4188055e-15 1.9581519e-22 8.7334040e-17 2.2132185e-17 8.6409471e-17\n",
      "  7.7577258e-18 6.1394748e-15 2.7364026e-17 1.0000000e+00 3.1465949e-14]]\n"
     ]
    }
   ],
   "source": [
    "pred = model.predict(val_scaled[0:1])\n",
    "print(pred)"
   ]
  },
  {
   "cell_type": "markdown",
   "metadata": {},
   "source": [
    "### 계단함수"
   ]
  },
  {
   "cell_type": "code",
   "execution_count": 17,
   "metadata": {},
   "outputs": [],
   "source": [
    "import numpy as np\n",
    "classes = ['티셔츠' , '바지','스웨터','드레스','코트','샌들','셔츠','스니커즈','가방','앵클부츠']"
   ]
  },
  {
   "cell_type": "code",
   "execution_count": 18,
   "metadata": {},
   "outputs": [
    {
     "name": "stdout",
     "output_type": "stream",
     "text": [
      "가방\n"
     ]
    }
   ],
   "source": [
    "print(classes[np.argmax(pred)])"
   ]
  },
  {
   "cell_type": "markdown",
   "metadata": {},
   "source": [
    "### 시험 데이터로 확인하기"
   ]
  },
  {
   "cell_type": "code",
   "execution_count": 19,
   "metadata": {},
   "outputs": [],
   "source": [
    "test_scaled = test_input.reshape(-1, 28,28,1) / 255.0"
   ]
  },
  {
   "cell_type": "code",
   "execution_count": 20,
   "metadata": {},
   "outputs": [
    {
     "name": "stdout",
     "output_type": "stream",
     "text": [
      "313/313 [==============================] - 2s 5ms/step - loss: 0.2391 - accuracy: 0.9156\n"
     ]
    },
    {
     "data": {
      "text/plain": [
       "[0.23908911645412445, 0.9156000018119812]"
      ]
     },
     "execution_count": 20,
     "metadata": {},
     "output_type": "execute_result"
    }
   ],
   "source": [
    "model.evaluate(test_scaled , test_target)"
   ]
  },
  {
   "cell_type": "markdown",
   "metadata": {},
   "source": [
    "---"
   ]
  }
 ],
 "metadata": {
  "kernelspec": {
   "display_name": "Python 3.9.7 ('base')",
   "language": "python",
   "name": "python3"
  },
  "language_info": {
   "codemirror_mode": {
    "name": "ipython",
    "version": 3
   },
   "file_extension": ".py",
   "mimetype": "text/x-python",
   "name": "python",
   "nbconvert_exporter": "python",
   "pygments_lexer": "ipython3",
   "version": "3.9.7"
  },
  "orig_nbformat": 4,
  "vscode": {
   "interpreter": {
    "hash": "c34e8390e776d2ee205b71ed5a6130fee3cef8da5e87e926ce18e14f4a070d72"
   }
  }
 },
 "nbformat": 4,
 "nbformat_minor": 2
}
