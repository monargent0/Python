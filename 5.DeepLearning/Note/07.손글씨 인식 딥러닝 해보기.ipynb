{
 "cells": [
  {
   "cell_type": "markdown",
   "metadata": {},
   "source": [
    "# Keras를 이용한 손글씨 인식 딥러닝\n",
    "- TensorFlow로 작성된 프로그램은 sklearn Library를 사용할 때 보다 어렵다.\n",
    "- keras는 머신러닝 라이브러리 테아노(Theano)와 TensorFlow를 Wrapping한 라이브러리"
   ]
  },
  {
   "cell_type": "code",
   "execution_count": 1,
   "metadata": {},
   "outputs": [
    {
     "name": "stdout",
     "output_type": "stream",
     "text": [
      "   0    1    2    3    4    5    6    7    8    9    ...  775  776  777  778  \\\n",
      "0    5    0    0    0    0    0    0    0    0    0  ...    0    0    0    0   \n",
      "1    0    0    0    0    0    0    0    0    0    0  ...    0    0    0    0   \n",
      "2    4    0    0    0    0    0    0    0    0    0  ...    0    0    0    0   \n",
      "3    1    0    0    0    0    0    0    0    0    0  ...    0    0    0    0   \n",
      "4    9    0    0    0    0    0    0    0    0    0  ...    0    0    0    0   \n",
      "\n",
      "   779  780  781  782  783  784  \n",
      "0    0    0    0    0    0    0  \n",
      "1    0    0    0    0    0    0  \n",
      "2    0    0    0    0    0    0  \n",
      "3    0    0    0    0    0    0  \n",
      "4    0    0    0    0    0    0  \n",
      "\n",
      "[5 rows x 785 columns]\n",
      "   0    1    2    3    4    5    6    7    8    9    ...  775  776  777  778  \\\n",
      "0    7    0    0    0    0    0    0    0    0    0  ...    0    0    0    0   \n",
      "1    2    0    0    0    0    0    0    0    0    0  ...    0    0    0    0   \n",
      "2    1    0    0    0    0    0    0    0    0    0  ...    0    0    0    0   \n",
      "3    0    0    0    0    0    0    0    0    0    0  ...    0    0    0    0   \n",
      "4    4    0    0    0    0    0    0    0    0    0  ...    0    0    0    0   \n",
      "\n",
      "   779  780  781  782  783  784  \n",
      "0    0    0    0    0    0    0  \n",
      "1    0    0    0    0    0    0  \n",
      "2    0    0    0    0    0    0  \n",
      "3    0    0    0    0    0    0  \n",
      "4    0    0    0    0    0    0  \n",
      "\n",
      "[5 rows x 785 columns]\n",
      "0      20001\n",
      "1      20001\n",
      "2      20001\n",
      "3      20001\n",
      "4      20001\n",
      "       ...  \n",
      "780    20001\n",
      "781    20001\n",
      "782    20001\n",
      "783    20001\n",
      "784    20001\n",
      "Length: 785, dtype: int64\n"
     ]
    }
   ],
   "source": [
    "import pandas as pd\n",
    "train = pd.read_csv('../Data/train_20k.csv' , header = None)\n",
    "test = pd.read_csv('../Data/test_1k.csv' , header = None)\n",
    "print(train.head())\n",
    "print(test.head())\n",
    "print(train.count())"
   ]
  },
  {
   "cell_type": "markdown",
   "metadata": {},
   "source": [
    "### Preprocessing(전처리)"
   ]
  },
  {
   "cell_type": "code",
   "execution_count": 2,
   "metadata": {},
   "outputs": [
    {
     "data": {
      "text/plain": [
       "0"
      ]
     },
     "execution_count": 2,
     "metadata": {},
     "output_type": "execute_result"
    }
   ],
   "source": [
    "# train null\n",
    "train.isnull().sum().sum()"
   ]
  },
  {
   "cell_type": "code",
   "execution_count": 3,
   "metadata": {},
   "outputs": [
    {
     "data": {
      "text/plain": [
       "0"
      ]
     },
     "execution_count": 3,
     "metadata": {},
     "output_type": "execute_result"
    }
   ],
   "source": [
    "# test null\n",
    "test.isnull().sum().sum()"
   ]
  },
  {
   "cell_type": "code",
   "execution_count": 4,
   "metadata": {},
   "outputs": [
    {
     "data": {
      "text/plain": [
       "array([  0, 116, 254, 216,   9,   8, 157, 255, 253, 237, 142, 197,  58,\n",
       "        29, 231, 182,  65,  96, 100, 202, 165,  76, 200,  47, 177, 172,\n",
       "       191, 196, 252, 248, 178,  31, 220,   1,  91, 128, 112, 225, 121,\n",
       "         7, 226, 184,  94,  40, 107, 103, 106, 102,  51,  18, 129, 233,\n",
       "        39,  50, 185, 251,  72, 159,  84,  28, 241, 212,  98, 126, 249,\n",
       "       145,  87, 104,  38, 239, 137, 244,  62])"
      ]
     },
     "execution_count": 4,
     "metadata": {},
     "output_type": "execute_result"
    }
   ],
   "source": [
    "train.iloc[:,0]\n",
    "train.iloc[:,1:].max().unique()"
   ]
  },
  {
   "cell_type": "code",
   "execution_count": 5,
   "metadata": {},
   "outputs": [
    {
     "name": "stdout",
     "output_type": "stream",
     "text": [
      "0    5\n",
      "1    0\n",
      "2    4\n",
      "3    1\n",
      "4    9\n",
      "Name: 0, dtype: int64\n",
      "   1    2    3    4    5    6    7    8    9    10   ...  775  776  777  778  \\\n",
      "0  0.0  0.0  0.0  0.0  0.0  0.0  0.0  0.0  0.0  0.0  ...  0.0  0.0  0.0  0.0   \n",
      "1  0.0  0.0  0.0  0.0  0.0  0.0  0.0  0.0  0.0  0.0  ...  0.0  0.0  0.0  0.0   \n",
      "2  0.0  0.0  0.0  0.0  0.0  0.0  0.0  0.0  0.0  0.0  ...  0.0  0.0  0.0  0.0   \n",
      "3  0.0  0.0  0.0  0.0  0.0  0.0  0.0  0.0  0.0  0.0  ...  0.0  0.0  0.0  0.0   \n",
      "4  0.0  0.0  0.0  0.0  0.0  0.0  0.0  0.0  0.0  0.0  ...  0.0  0.0  0.0  0.0   \n",
      "\n",
      "   779  780  781  782  783  784  \n",
      "0  0.0  0.0  0.0  0.0  0.0  0.0  \n",
      "1  0.0  0.0  0.0  0.0  0.0  0.0  \n",
      "2  0.0  0.0  0.0  0.0  0.0  0.0  \n",
      "3  0.0  0.0  0.0  0.0  0.0  0.0  \n",
      "4  0.0  0.0  0.0  0.0  0.0  0.0  \n",
      "\n",
      "[5 rows x 784 columns]\n",
      "********************\n",
      "   0\n",
      "0  7\n",
      "1  2\n",
      "2  1\n",
      "3  0\n",
      "4  4\n",
      "   1    2    3    4    5    6    7    8    9    10   ...  775  776  777  778  \\\n",
      "0  0.0  0.0  0.0  0.0  0.0  0.0  0.0  0.0  0.0  0.0  ...  0.0  0.0  0.0  0.0   \n",
      "1  0.0  0.0  0.0  0.0  0.0  0.0  0.0  0.0  0.0  0.0  ...  0.0  0.0  0.0  0.0   \n",
      "2  0.0  0.0  0.0  0.0  0.0  0.0  0.0  0.0  0.0  0.0  ...  0.0  0.0  0.0  0.0   \n",
      "3  0.0  0.0  0.0  0.0  0.0  0.0  0.0  0.0  0.0  0.0  ...  0.0  0.0  0.0  0.0   \n",
      "4  0.0  0.0  0.0  0.0  0.0  0.0  0.0  0.0  0.0  0.0  ...  0.0  0.0  0.0  0.0   \n",
      "\n",
      "   779  780  781  782  783  784  \n",
      "0  0.0  0.0  0.0  0.0  0.0  0.0  \n",
      "1  0.0  0.0  0.0  0.0  0.0  0.0  \n",
      "2  0.0  0.0  0.0  0.0  0.0  0.0  \n",
      "3  0.0  0.0  0.0  0.0  0.0  0.0  \n",
      "4  0.0  0.0  0.0  0.0  0.0  0.0  \n",
      "\n",
      "[5 rows x 784 columns]\n"
     ]
    }
   ],
   "source": [
    "# train 과 test를 Feature와 Target으로 분리하고 정규화 하기\n",
    "train_label = train.iloc[:,0]\n",
    "train_data = train.iloc[:,1:] \n",
    "train_data= train_data / 255\n",
    "\n",
    "test_label = test.iloc[:,test.columns == 0]\n",
    "test_data = test.iloc[:, test.columns != 0] \n",
    "test_data = test_data / 255\n",
    "\n",
    "print(train_label[0:5])\n",
    "print(train_data[0:5])\n",
    "print('*' * 20)\n",
    "print(test_label[0:5])\n",
    "print(test_data[0:5])"
   ]
  },
  {
   "cell_type": "markdown",
   "metadata": {},
   "source": [
    "### Deep Learning Model 만들기"
   ]
  },
  {
   "cell_type": "code",
   "execution_count": 6,
   "metadata": {},
   "outputs": [],
   "source": [
    "# GPU 사용 설정\n",
    "import os\n",
    "os.environ['TF_CPP_MIN_LOG_LEVEL'] = '3'"
   ]
  },
  {
   "cell_type": "code",
   "execution_count": 7,
   "metadata": {},
   "outputs": [],
   "source": [
    "from tensorflow import keras"
   ]
  },
  {
   "cell_type": "code",
   "execution_count": 8,
   "metadata": {},
   "outputs": [],
   "source": [
    "# 입력층 784개\n",
    "# HL 512 노드\n",
    "# 출력층 10개 (숫자 0~9)\n",
    "# optimizer adam "
   ]
  },
  {
   "cell_type": "code",
   "execution_count": 9,
   "metadata": {},
   "outputs": [],
   "source": [
    "model = keras.Sequential()\n",
    "# activation Function이 들어가야한다. activation = sigmoid , tanh(하이퍼탄젠트) , relu , softmax , leakyRelu\n",
    "model.add(keras.layers.Dense(512, activation = 'relu', input_shape = (784,))) # 은닉층\n",
    "model.add(keras.layers.Dense(10, activation = 'softmax')) # 출력층"
   ]
  },
  {
   "cell_type": "code",
   "execution_count": 10,
   "metadata": {},
   "outputs": [],
   "source": [
    "# 손실함수\n",
    "model.compile(optimizer = 'adam', loss='sparse_categorical_crossentropy' , metrics = 'accuracy') # 정답이 0~9 정수라서 sparse_categorical_crossentropy사용"
   ]
  },
  {
   "cell_type": "code",
   "execution_count": 11,
   "metadata": {},
   "outputs": [
    {
     "name": "stdout",
     "output_type": "stream",
     "text": [
      "Epoch 1/20\n",
      "626/626 [==============================] - 2s 3ms/step - loss: 0.3206 - accuracy: 0.9072\n",
      "Epoch 2/20\n",
      "626/626 [==============================] - 2s 3ms/step - loss: 0.1279 - accuracy: 0.9623\n",
      "Epoch 3/20\n",
      "626/626 [==============================] - 2s 3ms/step - loss: 0.0783 - accuracy: 0.9769\n",
      "Epoch 4/20\n",
      "626/626 [==============================] - 2s 3ms/step - loss: 0.0504 - accuracy: 0.9847\n",
      "Epoch 5/20\n",
      "626/626 [==============================] - 2s 3ms/step - loss: 0.0324 - accuracy: 0.9911\n",
      "Epoch 6/20\n",
      "626/626 [==============================] - 2s 3ms/step - loss: 0.0363 - accuracy: 0.9891\n",
      "Epoch 7/20\n",
      "626/626 [==============================] - 2s 3ms/step - loss: 0.0165 - accuracy: 0.9955\n",
      "Epoch 8/20\n",
      "626/626 [==============================] - 2s 3ms/step - loss: 0.0114 - accuracy: 0.9973\n",
      "Epoch 9/20\n",
      "626/626 [==============================] - 2s 4ms/step - loss: 0.0174 - accuracy: 0.9954\n",
      "Epoch 10/20\n",
      "626/626 [==============================] - 2s 3ms/step - loss: 0.0065 - accuracy: 0.9986\n",
      "Epoch 11/20\n",
      "626/626 [==============================] - 2s 3ms/step - loss: 0.0105 - accuracy: 0.9968\n",
      "Epoch 12/20\n",
      "626/626 [==============================] - 2s 4ms/step - loss: 0.0086 - accuracy: 0.9977\n",
      "Epoch 13/20\n",
      "626/626 [==============================] - 2s 3ms/step - loss: 0.0060 - accuracy: 0.9983\n",
      "Epoch 14/20\n",
      "626/626 [==============================] - 2s 3ms/step - loss: 0.0115 - accuracy: 0.9966\n",
      "Epoch 15/20\n",
      "626/626 [==============================] - 2s 3ms/step - loss: 0.0080 - accuracy: 0.9976\n",
      "Epoch 16/20\n",
      "626/626 [==============================] - 2s 3ms/step - loss: 0.0051 - accuracy: 0.9988\n",
      "Epoch 17/20\n",
      "626/626 [==============================] - 2s 3ms/step - loss: 0.0118 - accuracy: 0.9964\n",
      "Epoch 18/20\n",
      "626/626 [==============================] - 2s 3ms/step - loss: 0.0064 - accuracy: 0.9978\n",
      "Epoch 19/20\n",
      "626/626 [==============================] - 2s 3ms/step - loss: 0.0036 - accuracy: 0.9991\n",
      "Epoch 20/20\n",
      "626/626 [==============================] - 2s 3ms/step - loss: 0.0059 - accuracy: 0.9983\n"
     ]
    },
    {
     "data": {
      "text/plain": [
       "<keras.callbacks.History at 0x7f7dfa8e24f0>"
      ]
     },
     "execution_count": 11,
     "metadata": {},
     "output_type": "execute_result"
    }
   ],
   "source": [
    "# 학습 시키기\n",
    "import numpy as np\n",
    "# 딥러닝은 판다스 취급도 안함 넘파이로 변환해줘야 한다.\n",
    "model.fit(np.array(train_data) , np.array(train_label) , epochs= 20 )"
   ]
  },
  {
   "cell_type": "code",
   "execution_count": 12,
   "metadata": {},
   "outputs": [
    {
     "name": "stdout",
     "output_type": "stream",
     "text": [
      "32/32 [==============================] - 0s 2ms/step - loss: 0.1052 - accuracy: 0.9750\n"
     ]
    },
    {
     "data": {
      "text/plain": [
       "[0.10515567660331726, 0.9750249981880188]"
      ]
     },
     "execution_count": 12,
     "metadata": {},
     "output_type": "execute_result"
    }
   ],
   "source": [
    "model.evaluate(test_data ,  np.array(test_label))"
   ]
  },
  {
   "cell_type": "markdown",
   "metadata": {},
   "source": [
    "---\n",
    "### 테스트 데이터로 평가하기"
   ]
  },
  {
   "cell_type": "code",
   "execution_count": 13,
   "metadata": {},
   "outputs": [
    {
     "name": "stdout",
     "output_type": "stream",
     "text": [
      "32/32 [==============================] - 0s 2ms/step - loss: 0.1052 - accuracy: 0.9750\n",
      "loss : 0.10515567660331726\n",
      "accuracy : 0.9750249981880188\n"
     ]
    }
   ],
   "source": [
    "score = model.evaluate(test_data ,  test_label)\n",
    "print('loss :' , score[0])\n",
    "print('accuracy :' , score[1])"
   ]
  },
  {
   "cell_type": "markdown",
   "metadata": {},
   "source": [
    "---\n",
    "### Test_data로 predict해보기"
   ]
  },
  {
   "cell_type": "code",
   "execution_count": 20,
   "metadata": {},
   "outputs": [
    {
     "name": "stdout",
     "output_type": "stream",
     "text": [
      "32/32 [==============================] - 0s 2ms/step\n",
      "test label:     0\n",
      "0  7\n",
      "1  2\n",
      "2  1\n",
      "3  0\n",
      "4  4\n",
      "5  1\n",
      "6  4\n",
      "7  9\n",
      "8  5\n",
      "9  9\n",
      "pred : [7 2 1 0 4 1 4 9 6 9]\n"
     ]
    }
   ],
   "source": [
    "pred = model.predict(test_data)\n",
    "print(\"test label: \", test_label[:10])\n",
    "print(\"pred :\", np.argmax(pred[:10] , axis=1) ) # argmax 제일 큰 인덱스 값 가져오기"
   ]
  },
  {
   "cell_type": "code",
   "execution_count": 16,
   "metadata": {},
   "outputs": [
    {
     "data": {
      "text/plain": [
       "array([[1.4041609e-14, 3.9337964e-17, 2.5450827e-13, 1.7960393e-09,\n",
       "        1.9920277e-20, 2.8238336e-19, 3.3984478e-25, 1.0000000e+00,\n",
       "        1.1527995e-14, 1.5972657e-13],\n",
       "       [5.1386217e-16, 1.8235914e-06, 9.9999809e-01, 3.7376903e-08,\n",
       "        4.2328827e-25, 2.6821866e-13, 4.1695811e-13, 9.5097969e-20,\n",
       "        8.2734687e-12, 8.4800649e-19],\n",
       "       [1.3774600e-11, 9.9999917e-01, 3.1507716e-07, 6.1735832e-11,\n",
       "        2.9215375e-08, 4.3804131e-12, 3.0089911e-09, 4.7771954e-07,\n",
       "        2.7601956e-08, 1.5630884e-12],\n",
       "       [1.0000000e+00, 1.4991607e-11, 1.0917721e-09, 3.3410899e-11,\n",
       "        1.8306701e-13, 7.5125933e-11, 6.8876806e-09, 3.1120877e-08,\n",
       "        5.6856286e-15, 1.1760418e-09],\n",
       "       [2.9251319e-12, 2.5323524e-14, 5.6913334e-13, 7.6079904e-17,\n",
       "        9.9999857e-01, 4.7191065e-14, 1.4581268e-10, 1.1306632e-09,\n",
       "        6.5655509e-11, 1.4165603e-06],\n",
       "       [1.7183249e-14, 1.0000000e+00, 4.9609011e-11, 8.7720982e-14,\n",
       "        1.5062762e-09, 3.5470223e-17, 7.4054830e-14, 4.7278849e-08,\n",
       "        4.2116116e-11, 1.8276362e-15],\n",
       "       [3.9006096e-17, 1.1187315e-13, 1.6704234e-15, 7.8132862e-13,\n",
       "        9.9996221e-01, 2.7428851e-12, 1.1859363e-15, 4.1501180e-10,\n",
       "        4.7289468e-06, 3.3067772e-05],\n",
       "       [7.7813610e-11, 6.6670801e-12, 2.6931821e-06, 1.1454792e-04,\n",
       "        6.4060441e-05, 2.4684629e-10, 1.7498296e-12, 9.5252988e-09,\n",
       "        4.8984941e-08, 9.9981874e-01],\n",
       "       [2.8539372e-13, 3.2215680e-12, 1.4948468e-07, 2.2774532e-14,\n",
       "        5.8387959e-15, 1.8012099e-01, 8.1987882e-01, 3.7079804e-16,\n",
       "        9.4572501e-09, 5.0030442e-11],\n",
       "       [2.6023355e-15, 2.4661556e-22, 7.2339436e-19, 3.3463117e-08,\n",
       "        7.6967990e-06, 3.6215089e-17, 4.4762143e-18, 1.5418589e-08,\n",
       "        4.3976153e-10, 9.9999225e-01]], dtype=float32)"
      ]
     },
     "execution_count": 16,
     "metadata": {},
     "output_type": "execute_result"
    }
   ],
   "source": [
    "pred[:10] # softmax로 1 데이터 당 확률값 10개가 나온다. \n",
    "# [1.4041609e-14, 3.9337964e-17, 2.5450827e-13, 1.7960393e-09,1.9920277e-20, 2.8238336e-19, 3.3984478e-25, \n",
    "# 1.0000000e+00,1.1527995e-14, 1.5972657e-13] \n",
    "# 첫번째 데이터의 확률 중에서 0~9중 7일 확률이 1.0000000e+00 로 가장 높다"
   ]
  },
  {
   "cell_type": "code",
   "execution_count": 21,
   "metadata": {},
   "outputs": [
    {
     "data": {
      "text/plain": [
       "1"
      ]
     },
     "execution_count": 21,
     "metadata": {},
     "output_type": "execute_result"
    }
   ],
   "source": [
    "np.argmax(np.array([1,4,3,2])) \n",
    "# index값을 내놓는다! 1번 인덱스가 가장 크다 "
   ]
  },
  {
   "cell_type": "markdown",
   "metadata": {},
   "source": [
    "---\n",
    "# 번외 : Image 만들기\n",
    "얼굴 인식"
   ]
  },
  {
   "cell_type": "code",
   "execution_count": 22,
   "metadata": {},
   "outputs": [],
   "source": [
    "from PIL import Image"
   ]
  },
  {
   "cell_type": "code",
   "execution_count": 23,
   "metadata": {},
   "outputs": [
    {
     "data": {
      "text/plain": [
       "(20001, 784)"
      ]
     },
     "execution_count": 23,
     "metadata": {},
     "output_type": "execute_result"
    }
   ],
   "source": [
    "# 0번의 정답을 제외한 데이터 만들기\n",
    "train1 = train.loc[:, train.columns != 0]\n",
    "train1.shape"
   ]
  },
  {
   "cell_type": "code",
   "execution_count": 24,
   "metadata": {},
   "outputs": [
    {
     "data": {
      "text/plain": [
       "(28, 28)"
      ]
     },
     "execution_count": 24,
     "metadata": {},
     "output_type": "execute_result"
    }
   ],
   "source": [
    "# train_data의 50번의 크기 조절하기\n",
    "abc = np.array(train1.iloc[50]).reshape(28,28)\n",
    "abc.shape"
   ]
  },
  {
   "cell_type": "code",
   "execution_count": 25,
   "metadata": {},
   "outputs": [
    {
     "data": {
      "image/png": "[encoded data removed]",
      "text/plain": [
       "<PIL.Image.Image image mode=L size=28x28 at 0x7F7DFB711970>"
      ]
     },
     "execution_count": 25,
     "metadata": {},
     "output_type": "execute_result"
    }
   ],
   "source": [
    "# Image 만들기\n",
    "image = Image.fromarray((abc).astype(np.uint8)) # uint8 : gray scale\n",
    "image"
   ]
  },
  {
   "cell_type": "code",
   "execution_count": 26,
   "metadata": {},
   "outputs": [],
   "source": [
    "# image 저장하기\n",
    "image.save(\"../Data/mnist_test3.jpg\",  \"JPEG\")"
   ]
  },
  {
   "cell_type": "markdown",
   "metadata": {},
   "source": [
    "---\n",
    "# 이미지를 불러서 Predict 해보기"
   ]
  },
  {
   "cell_type": "code",
   "execution_count": 27,
   "metadata": {},
   "outputs": [
    {
     "data": {
      "image/png": "[encoded data removed]",
      "text/plain": [
       "<PIL.JpegImagePlugin.JpegImageFile image mode=L size=28x28 at 0x7F7DFB0D0910>"
      ]
     },
     "execution_count": 27,
     "metadata": {},
     "output_type": "execute_result"
    }
   ],
   "source": [
    "# image 불러오기\n",
    "img = Image.open(\"../Data/mnist_test3.jpg\")\n",
    "img"
   ]
  },
  {
   "cell_type": "code",
   "execution_count": 28,
   "metadata": {},
   "outputs": [
    {
     "data": {
      "image/png": "[encoded data removed]",
      "text/plain": [
       "<Figure size 432x288 with 1 Axes>"
      ]
     },
     "metadata": {
      "needs_background": "light"
     },
     "output_type": "display_data"
    }
   ],
   "source": [
    "import matplotlib.pyplot as plt\n",
    "plt.imshow(img)\n",
    "plt.show()"
   ]
  },
  {
   "cell_type": "code",
   "execution_count": 29,
   "metadata": {},
   "outputs": [
    {
     "data": {
      "text/plain": [
       "(28, 28)"
      ]
     },
     "execution_count": 29,
     "metadata": {},
     "output_type": "execute_result"
    }
   ],
   "source": [
    "# image를 numpy 배열로 변환\n",
    "imgArray = np.array(img)\n",
    "imgArray = imgArray / 255\n",
    "imgArray.shape"
   ]
  },
  {
   "cell_type": "code",
   "execution_count": 32,
   "metadata": {},
   "outputs": [
    {
     "data": {
      "text/plain": [
       "(784,)"
      ]
     },
     "execution_count": 32,
     "metadata": {},
     "output_type": "execute_result"
    }
   ],
   "source": [
    "# image를 1차원 배열로 변환\n",
    "imgArray2 = imgArray.reshape(-1)\n",
    "imgArray2.shape"
   ]
  },
  {
   "cell_type": "code",
   "execution_count": 33,
   "metadata": {},
   "outputs": [],
   "source": [
    "imgArray3 = imgArray2.tolist()  # 넘파이배열 -> 파이썬 리스트 배열"
   ]
  },
  {
   "cell_type": "code",
   "execution_count": 36,
   "metadata": {},
   "outputs": [
    {
     "data": {
      "text/html": [
       "<div>\n",
       "<style scoped>\n",
       "    .dataframe tbody tr th:only-of-type {\n",
       "        vertical-align: middle;\n",
       "    }\n",
       "\n",
       "    .dataframe tbody tr th {\n",
       "        vertical-align: top;\n",
       "    }\n",
       "\n",
       "    .dataframe thead th {\n",
       "        text-align: right;\n",
       "    }\n",
       "</style>\n",
       "<table border=\"1\" class=\"dataframe\">\n",
       "  <thead>\n",
       "    <tr style=\"text-align: right;\">\n",
       "      <th></th>\n",
       "      <th>0</th>\n",
       "      <th>1</th>\n",
       "      <th>2</th>\n",
       "      <th>3</th>\n",
       "      <th>4</th>\n",
       "      <th>5</th>\n",
       "      <th>6</th>\n",
       "      <th>7</th>\n",
       "      <th>8</th>\n",
       "      <th>9</th>\n",
       "      <th>...</th>\n",
       "      <th>774</th>\n",
       "      <th>775</th>\n",
       "      <th>776</th>\n",
       "      <th>777</th>\n",
       "      <th>778</th>\n",
       "      <th>779</th>\n",
       "      <th>780</th>\n",
       "      <th>781</th>\n",
       "      <th>782</th>\n",
       "      <th>783</th>\n",
       "    </tr>\n",
       "  </thead>\n",
       "  <tbody>\n",
       "    <tr>\n",
       "      <th>0</th>\n",
       "      <td>0.0</td>\n",
       "      <td>0.0</td>\n",
       "      <td>0.0</td>\n",
       "      <td>0.0</td>\n",
       "      <td>0.0</td>\n",
       "      <td>0.0</td>\n",
       "      <td>0.0</td>\n",
       "      <td>0.0</td>\n",
       "      <td>0.011765</td>\n",
       "      <td>0.0</td>\n",
       "      <td>...</td>\n",
       "      <td>0.0</td>\n",
       "      <td>0.0</td>\n",
       "      <td>0.0</td>\n",
       "      <td>0.0</td>\n",
       "      <td>0.0</td>\n",
       "      <td>0.0</td>\n",
       "      <td>0.0</td>\n",
       "      <td>0.0</td>\n",
       "      <td>0.0</td>\n",
       "      <td>0.0</td>\n",
       "    </tr>\n",
       "  </tbody>\n",
       "</table>\n",
       "<p>1 rows × 784 columns</p>\n",
       "</div>"
      ],
      "text/plain": [
       "   0    1    2    3    4    5    6    7         8    9    ...  774  775  776  \\\n",
       "0  0.0  0.0  0.0  0.0  0.0  0.0  0.0  0.0  0.011765  0.0  ...  0.0  0.0  0.0   \n",
       "\n",
       "   777  778  779  780  781  782  783  \n",
       "0  0.0  0.0  0.0  0.0  0.0  0.0  0.0  \n",
       "\n",
       "[1 rows x 784 columns]"
      ]
     },
     "execution_count": 36,
     "metadata": {},
     "output_type": "execute_result"
    }
   ],
   "source": [
    "dfArray = pd.DataFrame(imgArray3)\n",
    "dfArray = dfArray.T\n",
    "dfArray # 만든 모델의 입력값이 컬럼 784개였기 때문에 같은 모습으로 맞춤"
   ]
  },
  {
   "cell_type": "code",
   "execution_count": 37,
   "metadata": {},
   "outputs": [
    {
     "name": "stdout",
     "output_type": "stream",
     "text": [
      "1/1 [==============================] - 0s 25ms/step\n",
      "예측값 : [3]\n"
     ]
    }
   ],
   "source": [
    "print(\"예측값 :\" , np.argmax(model.predict(dfArray) , axis=1))"
   ]
  },
  {
   "cell_type": "code",
   "execution_count": null,
   "metadata": {},
   "outputs": [],
   "source": []
  }
 ],
 "metadata": {
  "kernelspec": {
   "display_name": "Python 3.9.7 ('base')",
   "language": "python",
   "name": "python3"
  },
  "language_info": {
   "codemirror_mode": {
    "name": "ipython",
    "version": 3
   },
   "file_extension": ".py",
   "mimetype": "text/x-python",
   "name": "python",
   "nbconvert_exporter": "python",
   "pygments_lexer": "ipython3",
   "version": "3.9.7"
  },
  "orig_nbformat": 4,
  "vscode": {
   "interpreter": {
    "hash": "c34e8390e776d2ee205b71ed5a6130fee3cef8da5e87e926ce18e14f4a070d72"
   }
  }
 },
 "nbformat": 4,
 "nbformat_minor": 2
}
