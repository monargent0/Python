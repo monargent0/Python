{
 "cells": [
  {
   "cell_type": "markdown",
   "metadata": {},
   "source": [
    "# 리디북스 일반도서 베스트 셀러\n",
    "https://ridibooks.com/bestsellers/general?order=monthly&page=1"
   ]
  },
  {
   "cell_type": "code",
   "execution_count": 71,
   "metadata": {},
   "outputs": [
    {
     "name": "stdout",
     "output_type": "stream",
     "text": [
      "30\n",
      "30 ['역행자', '작별인사', '인플레이션에서 살아남기', '변화하는 세계 질서', '피스타운', '악마의 계약서는 만기 되지 않는다', '불편한 편의점', '내가 틀릴 수도 있습니다', '최재천의 공부', '개정판 | 하얀 늑대들', '잠시 동안 빛은 이곳에', '심해어', '사이후이, 싸이파이', '친밀한 이방인', '도파민네이션', '구글 엔지니어는 이렇게 일한다', '멘탈을 바꿔야 인생이 바뀐다', '플라스틱 세대', '덫', '나의 투자는 새벽 4시에 시작된다', '레스토랑 안의 낯선 자들', '물고기는 존재하지 않는다', '원씽', '버드나무', '브라질에 비가 내리면 스타벅스 주식을 사라', '모든 것은 기본에서 시작한다', '밝은 밤', '부자 아빠 가난한 아빠 20주년 특별 기념판', '나를 단단하게 만드는 심리학', '프로젝트 헤일메리']\n"
     ]
    }
   ],
   "source": [
    "from bs4 import BeautifulSoup\n",
    "import urllib.request as req\n",
    "\n",
    "# Site Address\n",
    "url = \"https://ridibooks.com/bestsellers/general?order=monthly&page=1\"\n",
    "\n",
    "# urlOpen\n",
    "res = req.urlopen(url)\n",
    "\n",
    "# BeautifulSoup으로 분석하기 (BS한테 일 시키기)\n",
    "soup = BeautifulSoup(res, \"html.parser\")\n",
    "# print(soup) # 내용이 들어간 화면을 읽어오는지, 자바스크립트 적용 전 내용이 없는 화면을 읽어오는지 확인해봐야 한다.\n",
    "\n",
    "# selector \n",
    "# #page_best > div.book_macro_wrapper.js_book_macro_wrapper > div:nth-child(51) > div.book_metadata_wrapper > h3 > a > span\n",
    "# > copy selector 로 가져오니 class이름이 보임\n",
    "\n",
    "booktitle = soup.select(\".title_text\") # title_text js_highlight_helper -> class이름이 여러개임 \n",
    "booktitle.pop(0) # 별표 붙은 책이 중복, 첫번째 데이터가 별표 데이터이므로 제거\n",
    "print(len(booktitle))\n",
    "\n",
    "booklist=[]\n",
    "for i in booktitle:\n",
    "    # print(i.string.strip())\n",
    "    booklist.append(i.string.strip())\n",
    "\n",
    "print(len(booklist), booklist)\n",
    "\n"
   ]
  },
  {
   "cell_type": "markdown",
   "metadata": {},
   "source": [
    "## Data Frame데이터 프레임 만들기\n"
   ]
  },
  {
   "cell_type": "code",
   "execution_count": 78,
   "metadata": {},
   "outputs": [],
   "source": [
    "# Rank list 만들기\n",
    "rank = list(range(1,31))\n",
    "\n",
    "data = []\n",
    "for i, j in zip(rank,booklist):\n",
    "    data.append([i,j])\n",
    "\n",
    "import pandas as pd\n",
    "page1 = pd.DataFrame(data=data, columns=[['Rank','bookTitle']])\n",
    "page1.head()\n",
    "\n",
    "# CSV로 저장\n",
    "page1.to_csv(\"../Data/ridi_page1.csv\", index=False)\n",
    "ridiP1 = pd.read_csv(\"../Data/ridi_page1.csv\")"
   ]
  },
  {
   "cell_type": "markdown",
   "metadata": {},
   "source": [
    "> 페이지 이동하면서 책 제목 가져오기"
   ]
  },
  {
   "cell_type": "code",
   "execution_count": 45,
   "metadata": {},
   "outputs": [],
   "source": [
    "# 페이지 이동하면서 책 제목 가져오기\n",
    "from bs4 import BeautifulSoup\n",
    "import urllib.request as req\n",
    "\n",
    "# Site Address\n",
    "url = \"https://ridibooks.com/bestsellers/general?order=monthly&page=\"\n",
    "\n",
    "dataFinal = []\n",
    "for i in range(1,8):\n",
    "    # case 1 \n",
    "    # url = \"https://ridibooks.com/bestsellers/general?order=monthly&page=\"+str(i)\n",
    "    # res = req.urlopen(url)\n",
    "\n",
    "    # case 2\n",
    "    # res = req.urlopen(url + \"%d\"%i)\n",
    "    # case 3\n",
    "    res = req.urlopen(url + str(i))\n",
    "\n",
    "    # BeautifulSoup으로 분석하기 (BS한테 일 시키기)\n",
    "    soup = BeautifulSoup(res, \"html.parser\")\n",
    "    a = soup.select(\".title_text\") \n",
    "    # print(a)\n",
    "    for j in a:\n",
    "        dataFinal.append(j.string.strip())"
   ]
  },
  {
   "cell_type": "code",
   "execution_count": 74,
   "metadata": {},
   "outputs": [
    {
     "data": {
      "text/plain": [
       "['역행자', '작별인사', '인플레이션에서 살아남기', '변화하는 세계 질서', '피스타운']"
      ]
     },
     "execution_count": 74,
     "metadata": {},
     "output_type": "execute_result"
    }
   ],
   "source": [
    "# dataFinal.remove(\"원씽\")\n",
    "len(dataFinal) # 200개 전체 책 제목 확인\n",
    "dataFinal[:5]"
   ]
  },
  {
   "cell_type": "code",
   "execution_count": 75,
   "metadata": {},
   "outputs": [
    {
     "data": {
      "text/html": [
       "<div>\n",
       "<style scoped>\n",
       "    .dataframe tbody tr th:only-of-type {\n",
       "        vertical-align: middle;\n",
       "    }\n",
       "\n",
       "    .dataframe tbody tr th {\n",
       "        vertical-align: top;\n",
       "    }\n",
       "\n",
       "    .dataframe thead th {\n",
       "        text-align: right;\n",
       "    }\n",
       "</style>\n",
       "<table border=\"1\" class=\"dataframe\">\n",
       "  <thead>\n",
       "    <tr style=\"text-align: right;\">\n",
       "      <th></th>\n",
       "      <th>Rank</th>\n",
       "      <th>bookTitle</th>\n",
       "    </tr>\n",
       "  </thead>\n",
       "  <tbody>\n",
       "    <tr>\n",
       "      <th>0</th>\n",
       "      <td>1</td>\n",
       "      <td>역행자</td>\n",
       "    </tr>\n",
       "    <tr>\n",
       "      <th>1</th>\n",
       "      <td>2</td>\n",
       "      <td>작별인사</td>\n",
       "    </tr>\n",
       "    <tr>\n",
       "      <th>2</th>\n",
       "      <td>3</td>\n",
       "      <td>인플레이션에서 살아남기</td>\n",
       "    </tr>\n",
       "    <tr>\n",
       "      <th>3</th>\n",
       "      <td>4</td>\n",
       "      <td>변화하는 세계 질서</td>\n",
       "    </tr>\n",
       "    <tr>\n",
       "      <th>4</th>\n",
       "      <td>5</td>\n",
       "      <td>피스타운</td>\n",
       "    </tr>\n",
       "  </tbody>\n",
       "</table>\n",
       "</div>"
      ],
      "text/plain": [
       "   Rank     bookTitle\n",
       "0     1           역행자\n",
       "1     2          작별인사\n",
       "2     3  인플레이션에서 살아남기\n",
       "3     4    변화하는 세계 질서\n",
       "4     5          피스타운"
      ]
     },
     "execution_count": 75,
     "metadata": {},
     "output_type": "execute_result"
    }
   ],
   "source": [
    "# Rank list 만들기\n",
    "rank = list(range(1,201))\n",
    "\n",
    "data = []\n",
    "for i, j in zip(rank,dataFinal):\n",
    "    data.append([i,j])\n",
    "\n",
    "import pandas as pd\n",
    "page1 = pd.DataFrame(data=data, columns=[['Rank','bookTitle']])\n",
    "# page1.head()\n",
    "\n",
    "# CSV로 저장\n",
    "# page1.to_csv(\"../Data/ridi_all.csv\", index=False)\n",
    "# pd.read_csv(\"../Data/ridi_all.csv\").head()"
   ]
  },
  {
   "cell_type": "code",
   "execution_count": 77,
   "metadata": {},
   "outputs": [],
   "source": [
    "ridiAll = pd.read_csv(\"../Data/ridi_all.csv\")"
   ]
  },
  {
   "cell_type": "markdown",
   "metadata": {},
   "source": [
    "---\n",
    "### 1page의 도서명과 hyperlink를 통한 작품 소개 내용 가져오기"
   ]
  },
  {
   "cell_type": "markdown",
   "metadata": {},
   "source": [
    "> Hyper Link 정보 가져오기"
   ]
  },
  {
   "cell_type": "code",
   "execution_count": 59,
   "metadata": {},
   "outputs": [
    {
     "name": "stdout",
     "output_type": "stream",
     "text": [
      "30\n",
      "30 ['https://ridibooks.com/books/606002388?_rdt_sid=bestseller&_rdt_idx=0', 'https://ridibooks.com/books/4271000014?_rdt_sid=bestseller&_rdt_idx=1', 'https://ridibooks.com/books/4139000033?_rdt_sid=bestseller&_rdt_idx=2', 'https://ridibooks.com/books/1890000285?_rdt_sid=bestseller&_rdt_idx=3', 'https://ridibooks.com/books/4575000003?_rdt_sid=bestseller&_rdt_idx=4', 'https://ridibooks.com/books/1648000475?_rdt_sid=bestseller&_rdt_idx=5', 'https://ridibooks.com/books/2177000101?_rdt_sid=bestseller&_rdt_idx=6', 'https://ridibooks.com/books/4803001974?_rdt_sid=bestseller&_rdt_idx=7', 'https://ridibooks.com/books/1546000953?_rdt_sid=bestseller&_rdt_idx=8', 'https://ridibooks.com/books/1176000018?_rdt_sid=bestseller&_rdt_idx=9', 'https://ridibooks.com/books/4578000004?_rdt_sid=bestseller&_rdt_idx=10', 'https://ridibooks.com/books/4912000001?_rdt_sid=bestseller&_rdt_idx=11', 'https://ridibooks.com/books/4926000001?_rdt_sid=bestseller&_rdt_idx=12', 'https://ridibooks.com/books/371001540?_rdt_sid=bestseller&_rdt_idx=13', 'https://ridibooks.com/books/745000210?_rdt_sid=bestseller&_rdt_idx=14', 'https://ridibooks.com/books/443001038?_rdt_sid=bestseller&_rdt_idx=15', 'https://ridibooks.com/books/4239000039?_rdt_sid=bestseller&_rdt_idx=16', 'https://ridibooks.com/books/4647000003?_rdt_sid=bestseller&_rdt_idx=17', 'https://ridibooks.com/books/4909000001?_rdt_sid=bestseller&_rdt_idx=18', 'https://ridibooks.com/books/606002383?_rdt_sid=bestseller&_rdt_idx=19', 'https://ridibooks.com/books/4927000001?_rdt_sid=bestseller&_rdt_idx=20', 'https://ridibooks.com/books/1508006000?_rdt_sid=bestseller&_rdt_idx=21', 'https://ridibooks.com/books/1468000044?_rdt_sid=bestseller&_rdt_idx=22', 'https://ridibooks.com/books/4910000001?_rdt_sid=bestseller&_rdt_idx=23', 'https://ridibooks.com/books/2596000037?_rdt_sid=bestseller&_rdt_idx=24', 'https://ridibooks.com/books/2337000035?_rdt_sid=bestseller&_rdt_idx=25', 'https://ridibooks.com/books/371002440?_rdt_sid=bestseller&_rdt_idx=26', 'https://ridibooks.com/books/682000717?_rdt_sid=bestseller&_rdt_idx=27', 'https://ridibooks.com/books/4698000005?_rdt_sid=bestseller&_rdt_idx=28', 'https://ridibooks.com/books/510001099?_rdt_sid=bestseller&_rdt_idx=29']\n"
     ]
    }
   ],
   "source": [
    "from bs4 import BeautifulSoup\n",
    "import urllib.request as req\n",
    "\n",
    "# Site Address\n",
    "url = \"https://ridibooks.com/bestsellers/general?order=monthly&page=1\"\n",
    "\n",
    "# urlOpen\n",
    "res = req.urlopen(url)\n",
    "\n",
    "# BeautifulSoup으로 분석하기 (BS한테 일 시키기)\n",
    "soup = BeautifulSoup(res, \"html.parser\")\n",
    "\n",
    "\n",
    "booktitleL = soup.select(\".title_link\")\n",
    "booktitleL.pop(0) # 별표 붙은 책이 중복, 첫번째 데이터가 별표 데이터이므로 제거\n",
    "print(len(booktitleL))\n",
    "# print(booktitleL)\n",
    "\n",
    "booklink=[]\n",
    "for i in booktitleL:\n",
    "    # print(\"https://ridibooks.com\"+i[\"href\"].strip())\n",
    "    booklink.append(\"https://ridibooks.com\"+i[\"href\"].strip())\n",
    "\n",
    "print(len(booklink), booklink)"
   ]
  },
  {
   "cell_type": "code",
   "execution_count": 67,
   "metadata": {},
   "outputs": [],
   "source": [
    "from bs4 import BeautifulSoup\n",
    "import urllib.request as req\n",
    "\n",
    "previewDB = []\n",
    "for link in booklink:\n",
    "    res = req.urlopen(link)\n",
    "\n",
    "    # BeautifulSoup으로 분석하기 (BS한테 일 시키기)\n",
    "    soup = BeautifulSoup(res, \"html.parser\")\n",
    "\n",
    "    preview = soup.select_one(\".introduce_paragraph\")\n",
    "    # print(preview.text) # text는 br을 해결하는 것 , string이 퍼포먼스가 더 좋다. 쓰임새를 잘 알고 쓰기\n",
    "    previewDB.append(preview.text)"
   ]
  },
  {
   "cell_type": "code",
   "execution_count": 79,
   "metadata": {},
   "outputs": [
    {
     "data": {
      "text/html": [
       "<div>\n",
       "<style scoped>\n",
       "    .dataframe tbody tr th:only-of-type {\n",
       "        vertical-align: middle;\n",
       "    }\n",
       "\n",
       "    .dataframe tbody tr th {\n",
       "        vertical-align: top;\n",
       "    }\n",
       "\n",
       "    .dataframe thead th {\n",
       "        text-align: right;\n",
       "    }\n",
       "</style>\n",
       "<table border=\"1\" class=\"dataframe\">\n",
       "  <thead>\n",
       "    <tr style=\"text-align: right;\">\n",
       "      <th></th>\n",
       "      <th>Rank</th>\n",
       "      <th>bookTitle</th>\n",
       "      <th>Contents</th>\n",
       "    </tr>\n",
       "  </thead>\n",
       "  <tbody>\n",
       "    <tr>\n",
       "      <th>0</th>\n",
       "      <td>1</td>\n",
       "      <td>역행자</td>\n",
       "      <td>&lt;역행자&gt; 오타쿠 흙수저에서 월 1억 자동수익을 실현한 무자본 연쇄창업마,\\r\\n라...</td>\n",
       "    </tr>\n",
       "    <tr>\n",
       "      <th>1</th>\n",
       "      <td>2</td>\n",
       "      <td>작별인사</td>\n",
       "      <td>&lt;작별인사&gt; 누구도 도와줄 수 없는 상황, 혼자 헤쳐나가야 한다\\r\\n지켜야 할 약...</td>\n",
       "    </tr>\n",
       "    <tr>\n",
       "      <th>2</th>\n",
       "      <td>3</td>\n",
       "      <td>인플레이션에서 살아남기</td>\n",
       "      <td>&lt;인플레이션에서 살아남기&gt; \\n\\n40년 만에 찾아온 인플레의 역습, \\r\\n당신의...</td>\n",
       "    </tr>\n",
       "    <tr>\n",
       "      <th>3</th>\n",
       "      <td>4</td>\n",
       "      <td>변화하는 세계 질서</td>\n",
       "      <td>&lt;변화하는 세계 질서&gt; \\n\\n《원칙 Principles: Life &amp; Work》으...</td>\n",
       "    </tr>\n",
       "    <tr>\n",
       "      <th>4</th>\n",
       "      <td>5</td>\n",
       "      <td>피스타운</td>\n",
       "      <td>&lt;피스타운&gt; -“여긴 너무 비현실적이야, 그렇지 않아?”\\r\\n-뭐든지 이룰 수 있...</td>\n",
       "    </tr>\n",
       "  </tbody>\n",
       "</table>\n",
       "</div>"
      ],
      "text/plain": [
       "   Rank     bookTitle                                           Contents\n",
       "0     1           역행자  <역행자> 오타쿠 흙수저에서 월 1억 자동수익을 실현한 무자본 연쇄창업마,\\r\\n라...\n",
       "1     2          작별인사  <작별인사> 누구도 도와줄 수 없는 상황, 혼자 헤쳐나가야 한다\\r\\n지켜야 할 약...\n",
       "2     3  인플레이션에서 살아남기  <인플레이션에서 살아남기> \\n\\n40년 만에 찾아온 인플레의 역습, \\r\\n당신의...\n",
       "3     4    변화하는 세계 질서  <변화하는 세계 질서> \\n\\n《원칙 Principles: Life & Work》으...\n",
       "4     5          피스타운  <피스타운> -“여긴 너무 비현실적이야, 그렇지 않아?”\\r\\n-뭐든지 이룰 수 있..."
      ]
     },
     "execution_count": 79,
     "metadata": {},
     "output_type": "execute_result"
    }
   ],
   "source": [
    "ridiP1[\"Contents\"] = pd.Series(previewDB)\n",
    "\n",
    "# CSV로 저장\n",
    "ridiP1.to_csv(\"../Data/ridi_page1_contents.csv\", index=False)\n",
    "pd.read_csv(\"../Data/ridi_page1_contents.csv\").head()"
   ]
  },
  {
   "cell_type": "markdown",
   "metadata": {},
   "source": [
    "> 200권 소개 가져오기"
   ]
  },
  {
   "cell_type": "code",
   "execution_count": 86,
   "metadata": {},
   "outputs": [
    {
     "data": {
      "text/plain": [
       "200"
      ]
     },
     "execution_count": 86,
     "metadata": {},
     "output_type": "execute_result"
    }
   ],
   "source": [
    "# 페이지 이동하면서 책 링크 가져오기\n",
    "from bs4 import BeautifulSoup\n",
    "import urllib.request as req\n",
    "\n",
    "# Site Address\n",
    "url = \"https://ridibooks.com/bestsellers/general?order=monthly&page=\"\n",
    "\n",
    "alink = []\n",
    "for i in range(1,8):\n",
    "    # case 1 \n",
    "    # url = \"https://ridibooks.com/bestsellers/general?order=monthly&page=\"+str(i)\n",
    "    # res = req.urlopen(url)\n",
    "\n",
    "    # case 2\n",
    "    # res = req.urlopen(url + \"%d\"%i)\n",
    "    # case 3\n",
    "    res = req.urlopen(url + str(i))\n",
    "\n",
    "    # BeautifulSoup으로 분석하기 (BS한테 일 시키기)\n",
    "    soup = BeautifulSoup(res, \"html.parser\")\n",
    "    all = soup.select(\".title_link\") \n",
    "    # print(all)\n",
    "    for j in all:\n",
    "        # print(j[\"href\"].strip())\n",
    "        alink.append(\"https://ridibooks.com\"+j[\"href\"].strip())\n",
    "\n",
    "alink.pop(0)\n",
    "len(alink)"
   ]
  },
  {
   "cell_type": "code",
   "execution_count": 88,
   "metadata": {},
   "outputs": [],
   "source": [
    "from bs4 import BeautifulSoup\n",
    "import urllib.request as req\n",
    "\n",
    "introDB = []\n",
    "for link in alink:\n",
    "    res = req.urlopen(link)\n",
    "\n",
    "    # BeautifulSoup으로 분석하기 (BS한테 일 시키기)\n",
    "    soup = BeautifulSoup(res, \"html.parser\")\n",
    "\n",
    "    preview = soup.select_one(\".introduce_paragraph\")\n",
    "    # print(preview.text) # text는 br을 해결하는 것 , string이 퍼포먼스가 더 좋다. 쓰임새를 잘 알고 쓰기\n",
    "    introDB.append(preview.text)"
   ]
  },
  {
   "cell_type": "code",
   "execution_count": 89,
   "metadata": {},
   "outputs": [
    {
     "data": {
      "text/html": [
       "<div>\n",
       "<style scoped>\n",
       "    .dataframe tbody tr th:only-of-type {\n",
       "        vertical-align: middle;\n",
       "    }\n",
       "\n",
       "    .dataframe tbody tr th {\n",
       "        vertical-align: top;\n",
       "    }\n",
       "\n",
       "    .dataframe thead th {\n",
       "        text-align: right;\n",
       "    }\n",
       "</style>\n",
       "<table border=\"1\" class=\"dataframe\">\n",
       "  <thead>\n",
       "    <tr style=\"text-align: right;\">\n",
       "      <th></th>\n",
       "      <th>Rank</th>\n",
       "      <th>bookTitle</th>\n",
       "      <th>Contents</th>\n",
       "    </tr>\n",
       "  </thead>\n",
       "  <tbody>\n",
       "    <tr>\n",
       "      <th>0</th>\n",
       "      <td>1</td>\n",
       "      <td>역행자</td>\n",
       "      <td>&lt;역행자&gt; 오타쿠 흙수저에서 월 1억 자동수익을 실현한 무자본 연쇄창업마,\\r\\n라...</td>\n",
       "    </tr>\n",
       "    <tr>\n",
       "      <th>1</th>\n",
       "      <td>2</td>\n",
       "      <td>작별인사</td>\n",
       "      <td>&lt;작별인사&gt; 누구도 도와줄 수 없는 상황, 혼자 헤쳐나가야 한다\\r\\n지켜야 할 약...</td>\n",
       "    </tr>\n",
       "    <tr>\n",
       "      <th>2</th>\n",
       "      <td>3</td>\n",
       "      <td>인플레이션에서 살아남기</td>\n",
       "      <td>&lt;인플레이션에서 살아남기&gt; \\n\\n40년 만에 찾아온 인플레의 역습, \\r\\n당신의...</td>\n",
       "    </tr>\n",
       "    <tr>\n",
       "      <th>3</th>\n",
       "      <td>4</td>\n",
       "      <td>변화하는 세계 질서</td>\n",
       "      <td>&lt;변화하는 세계 질서&gt; \\n\\n《원칙 Principles: Life &amp; Work》으...</td>\n",
       "    </tr>\n",
       "    <tr>\n",
       "      <th>4</th>\n",
       "      <td>5</td>\n",
       "      <td>피스타운</td>\n",
       "      <td>&lt;피스타운&gt; -“여긴 너무 비현실적이야, 그렇지 않아?”\\r\\n-뭐든지 이룰 수 있...</td>\n",
       "    </tr>\n",
       "  </tbody>\n",
       "</table>\n",
       "</div>"
      ],
      "text/plain": [
       "   Rank     bookTitle                                           Contents\n",
       "0     1           역행자  <역행자> 오타쿠 흙수저에서 월 1억 자동수익을 실현한 무자본 연쇄창업마,\\r\\n라...\n",
       "1     2          작별인사  <작별인사> 누구도 도와줄 수 없는 상황, 혼자 헤쳐나가야 한다\\r\\n지켜야 할 약...\n",
       "2     3  인플레이션에서 살아남기  <인플레이션에서 살아남기> \\n\\n40년 만에 찾아온 인플레의 역습, \\r\\n당신의...\n",
       "3     4    변화하는 세계 질서  <변화하는 세계 질서> \\n\\n《원칙 Principles: Life & Work》으...\n",
       "4     5          피스타운  <피스타운> -“여긴 너무 비현실적이야, 그렇지 않아?”\\r\\n-뭐든지 이룰 수 있..."
      ]
     },
     "execution_count": 89,
     "metadata": {},
     "output_type": "execute_result"
    }
   ],
   "source": [
    "# 저장하기\n",
    "ridiAll[\"Contents\"] = pd.Series(introDB)\n",
    "\n",
    "# CSV로 저장\n",
    "ridiAll.to_csv(\"../Data/ridi_all_contents.csv\", index=False)\n",
    "pd.read_csv(\"../Data/ridi_all_contents.csv\").head()"
   ]
  },
  {
   "cell_type": "code",
   "execution_count": 90,
   "metadata": {},
   "outputs": [
    {
     "data": {
      "text/html": [
       "<div>\n",
       "<style scoped>\n",
       "    .dataframe tbody tr th:only-of-type {\n",
       "        vertical-align: middle;\n",
       "    }\n",
       "\n",
       "    .dataframe tbody tr th {\n",
       "        vertical-align: top;\n",
       "    }\n",
       "\n",
       "    .dataframe thead th {\n",
       "        text-align: right;\n",
       "    }\n",
       "</style>\n",
       "<table border=\"1\" class=\"dataframe\">\n",
       "  <thead>\n",
       "    <tr style=\"text-align: right;\">\n",
       "      <th></th>\n",
       "      <th>Rank</th>\n",
       "      <th>bookTitle</th>\n",
       "      <th>Contents</th>\n",
       "    </tr>\n",
       "  </thead>\n",
       "  <tbody>\n",
       "    <tr>\n",
       "      <th>195</th>\n",
       "      <td>196</td>\n",
       "      <td>데미안</td>\n",
       "      <td>&lt;데미안&gt; 데미안을 통해 참다운 어른이 되어 가는 소년 싱클레어의 이야기.\\r\\n한...</td>\n",
       "    </tr>\n",
       "    <tr>\n",
       "      <th>196</th>\n",
       "      <td>197</td>\n",
       "      <td>합리적 남자</td>\n",
       "      <td>&lt;합리적 남자&gt; \\n\\n작가는 인터넷 공간에서 롤로 토마시라는 필명으로 활동하며 전...</td>\n",
       "    </tr>\n",
       "    <tr>\n",
       "      <th>197</th>\n",
       "      <td>198</td>\n",
       "      <td>개정판 | 현명한 투자자 1</td>\n",
       "      <td>&lt;개정판 | 현명한 투자자 1&gt; \\n\\n가치투자의 아버지 벤저민 그레이엄의 《현명한...</td>\n",
       "    </tr>\n",
       "    <tr>\n",
       "      <th>198</th>\n",
       "      <td>199</td>\n",
       "      <td>나의 월급 독립 프로젝트</td>\n",
       "      <td>&lt;나의 월급 독립 프로젝트&gt; \\n\\n종잣돈 480만원으로 시작해 3년 만에 30억 ...</td>\n",
       "    </tr>\n",
       "    <tr>\n",
       "      <th>199</th>\n",
       "      <td>200</td>\n",
       "      <td>하이 아웃풋 매니지먼트</td>\n",
       "      <td>&lt;하이 아웃풋 매니지먼트&gt; \\n\\n★★★★★ 미국 아마존 초장기 베스트셀러, 201...</td>\n",
       "    </tr>\n",
       "  </tbody>\n",
       "</table>\n",
       "</div>"
      ],
      "text/plain": [
       "     Rank        bookTitle                                           Contents\n",
       "195   196              데미안  <데미안> 데미안을 통해 참다운 어른이 되어 가는 소년 싱클레어의 이야기.\\r\\n한...\n",
       "196   197           합리적 남자  <합리적 남자> \\n\\n작가는 인터넷 공간에서 롤로 토마시라는 필명으로 활동하며 전...\n",
       "197   198  개정판 | 현명한 투자자 1  <개정판 | 현명한 투자자 1> \\n\\n가치투자의 아버지 벤저민 그레이엄의 《현명한...\n",
       "198   199    나의 월급 독립 프로젝트  <나의 월급 독립 프로젝트> \\n\\n종잣돈 480만원으로 시작해 3년 만에 30억 ...\n",
       "199   200     하이 아웃풋 매니지먼트  <하이 아웃풋 매니지먼트> \\n\\n★★★★★ 미국 아마존 초장기 베스트셀러, 201..."
      ]
     },
     "execution_count": 90,
     "metadata": {},
     "output_type": "execute_result"
    }
   ],
   "source": [
    "# 결과 확인\n",
    "pd.read_csv(\"../Data/ridi_all_contents.csv\").tail()"
   ]
  },
  {
   "cell_type": "code",
   "execution_count": null,
   "metadata": {},
   "outputs": [],
   "source": []
  },
  {
   "cell_type": "markdown",
   "metadata": {},
   "source": [
    "---"
   ]
  }
 ],
 "metadata": {
  "kernelspec": {
   "display_name": "Python 3.9.7 ('base')",
   "language": "python",
   "name": "python3"
  },
  "language_info": {
   "codemirror_mode": {
    "name": "ipython",
    "version": 3
   },
   "file_extension": ".py",
   "mimetype": "text/x-python",
   "name": "python",
   "nbconvert_exporter": "python",
   "pygments_lexer": "ipython3",
   "version": "3.9.7"
  },
  "orig_nbformat": 4,
  "vscode": {
   "interpreter": {
    "hash": "c34e8390e776d2ee205b71ed5a6130fee3cef8da5e87e926ce18e14f4a070d72"
   }
  }
 },
 "nbformat": 4,
 "nbformat_minor": 2
}
