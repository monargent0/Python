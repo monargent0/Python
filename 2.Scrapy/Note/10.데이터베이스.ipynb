{
 "cells": [
  {
   "cell_type": "markdown",
   "metadata": {},
   "source": [
    "# 데이터 베이스\n",
    "- 규모가 크지 않은 데이터라면 csv와 json형식으로 사용해도 문제는 없음.\n",
    "- 데이터 규모가 굉장히 크거나 복잡하면 데이터베이스를 사용하는 것이 편리.\n"
   ]
  },
  {
   "cell_type": "markdown",
   "metadata": {},
   "source": [
    "### 장점\n",
    "- 데이터와 관련된 모든 처리를 하나의 소프트웨어로 할 수 있음\n",
    "- 여러 데이터의 속성을 연관시키며 저장 가능,\n",
    "- 중복된 데이터를 허용하지 않는 제약을 둘 수 있음\n",
    "- 데이터의 정합성을 확보\n",
    "- 데이터에 동시 접근했을 경우 문제 처리\n",
    "- 대량의 데이터를 조금씩 읽어 사용 할 수 있으며 정렬 등도 쉽게 처리함\n"
   ]
  },
  {
   "cell_type": "markdown",
   "metadata": {},
   "source": [
    "### SQLite\n",
    ": 가볍게 파일 하나로 사용할 수 있는 데이터베이스"
   ]
  },
  {
   "cell_type": "markdown",
   "metadata": {},
   "source": [
    "## 나만 볼 수 있고 다른 사람은 볼 수 는 없다 연동은 안되는 DB\n",
    "- 스마트폰에서도 많이 사용, 안드로이드 처음 나왔을 떄 같이 나옴"
   ]
  },
  {
   "cell_type": "code",
   "execution_count": 1,
   "metadata": {},
   "outputs": [
    {
     "data": {
      "text/plain": [
       "<sqlite3.Cursor at 0x7faff36deab0>"
      ]
     },
     "execution_count": 1,
     "metadata": {},
     "output_type": "execute_result"
    }
   ],
   "source": [
    "import sqlite3\n",
    "\n",
    "# sqlite Database에 연결하기\n",
    "dbpath = \"../Data/test.sqlite\"\n",
    "conn = sqlite3.connect(dbpath)\n",
    "\n",
    "# 테이블을 생성하고 데이터 넣기\n",
    "curs = conn.cursor()\n",
    "curs.executescript(\n",
    "    \"\"\"\n",
    "    /* item 테이블이 이미 있다면 제거 */\n",
    "    DROP TABLE IF EXISTS items;\n",
    "\n",
    "    /* 테이블 생성하기 */\n",
    "    CREATE TABLE items(\n",
    "        item_id INTEGER PRIMARY KEY AUTOINCREMENT,\n",
    "        name TEXT UNIQUE,\n",
    "        price INTEGER\n",
    "    );\n",
    "    /* 데이터 넣기 */\n",
    "    Insert into items(name, price) values ('Apple',800);\n",
    "    Insert into items(name, price) values ('Orange',780);\n",
    "    Insert into items(name, price) values ('Banana',430);\n",
    "    \"\"\"\n",
    ")"
   ]
  },
  {
   "cell_type": "code",
   "execution_count": 2,
   "metadata": {},
   "outputs": [],
   "source": [
    "# 위의 조작을 데이터베이스에 반영하기\n",
    "conn.commit()"
   ]
  },
  {
   "cell_type": "code",
   "execution_count": 3,
   "metadata": {},
   "outputs": [
    {
     "name": "stdout",
     "output_type": "stream",
     "text": [
      "(1, 'Apple', 800)\n",
      "(2, 'Orange', 780)\n",
      "(3, 'Banana', 430)\n"
     ]
    }
   ],
   "source": [
    "# 데이터 추출하기\n",
    "curs = conn.cursor()\n",
    "curs.execute(\"SELECT item_id, name, price FROM items\")\n",
    "item_list = curs.fetchall()\n",
    "\n",
    "# 출력하기\n",
    "for it in item_list:\n",
    "    print(it) # 튜플로 출력됨"
   ]
  },
  {
   "cell_type": "code",
   "execution_count": 4,
   "metadata": {},
   "outputs": [],
   "source": [
    "# 데이터 넣기\n",
    "curs = conn.cursor()\n",
    "curs.execute(\"INSERT INTO items (name, price) values (?, ?)\", (\"Mango\",5200))\n",
    "conn.commit()"
   ]
  },
  {
   "cell_type": "code",
   "execution_count": 5,
   "metadata": {},
   "outputs": [],
   "source": [
    "# 여러 데이터를 연속으로 넣기\n",
    "curs = conn.cursor()\n",
    "data = [(\"Kiwi\", 4000) , (\"Grape\",8000), (\"Peach\",9400)]\n",
    "curs.executemany(\"INSERT INTO items (name, price) VALUES (?, ?)\", data)\n",
    "conn.commit()"
   ]
  },
  {
   "cell_type": "code",
   "execution_count": 6,
   "metadata": {},
   "outputs": [
    {
     "name": "stdout",
     "output_type": "stream",
     "text": [
      "(4, 'Mango', 5200)\n",
      "(5, 'Kiwi', 4000)\n"
     ]
    }
   ],
   "source": [
    "# 4000~ 7000원 사이 데이터 추출하기\n",
    "curs = conn.cursor()\n",
    "price_range = (4000, 7000)\n",
    "curs.execute(\"SELECT * FROM items WHERE price between ? AND ?\", price_range)\n",
    "item_list = curs.fetchall()\n",
    "\n",
    "# 출력하기\n",
    "for it in item_list:\n",
    "    print(it) # 튜플로 출력됨"
   ]
  },
  {
   "cell_type": "markdown",
   "metadata": {},
   "source": [
    "---\n",
    "# MYSQL 연결"
   ]
  },
  {
   "cell_type": "code",
   "execution_count": 7,
   "metadata": {},
   "outputs": [
    {
     "name": "stdout",
     "output_type": "stream",
     "text": [
      "Collecting pymysql\n",
      "  Downloading PyMySQL-1.0.2-py3-none-any.whl (43 kB)\n",
      "\u001b[K     |████████████████████████████████| 43 kB 2.9 MB/s eta 0:00:011\n",
      "\u001b[?25hInstalling collected packages: pymysql\n",
      "Successfully installed pymysql-1.0.2\n"
     ]
    }
   ],
   "source": [
    "!pip install pymysql"
   ]
  },
  {
   "cell_type": "code",
   "execution_count": 8,
   "metadata": {},
   "outputs": [],
   "source": [
    "import pymysql"
   ]
  },
  {
   "cell_type": "code",
   "execution_count": 9,
   "metadata": {},
   "outputs": [],
   "source": [
    "# pymysql을 사용하여 데이터베이스 연결하기\n",
    "conn = pymysql.connect(\n",
    "    host='127.0.0.1',\n",
    "    user='root',\n",
    "    passwd='qwer1234',\n",
    "    db='education',\n",
    "    charset='utf8',)\n"
   ]
  },
  {
   "cell_type": "code",
   "execution_count": 10,
   "metadata": {},
   "outputs": [],
   "source": [
    "# 커서 생성\n",
    "curs = conn.cursor()"
   ]
  },
  {
   "cell_type": "code",
   "execution_count": 11,
   "metadata": {},
   "outputs": [
    {
     "data": {
      "text/plain": [
       "13"
      ]
     },
     "execution_count": 11,
     "metadata": {},
     "output_type": "execute_result"
    }
   ],
   "source": [
    "# sql문장\n",
    "sql = \"select * from student\"\n",
    "curs.execute(sql)"
   ]
  },
  {
   "cell_type": "code",
   "execution_count": 12,
   "metadata": {},
   "outputs": [
    {
     "name": "stdout",
     "output_type": "stream",
     "text": [
      "(('b002', '관우', '심리학과', '010-222', '서울'), ('b003', '장비', '경제학과', '010-333', '서울'), ('c002', '여포', '심리학과', '016-222', '경기'), ('c003', '손견', '경제학과', '016-333', '경기'), ('d001', '홍길동', '수학과', '017-001', '광주'), ('S001', '박소명', '컴퓨터공학과', '123-4567', None), ('S002', '최민국', '컴퓨터공학과', '234-5678', None), ('S005', '김상진', '사학과', '567-8901', None), ('S006', '황정숙', '사학과', '678-9012', None), ('S010', 'James', 'Computer', '1234', None), ('S777', 'Cathy', 'Math', '12345', None), ('S888', 'James', 'math', '1234', None), ('S999', '홍길동', '컴공', '123', None))\n"
     ]
    }
   ],
   "source": [
    "# data fetch\n",
    "rows = curs.fetchall()\n",
    "print(rows)"
   ]
  },
  {
   "cell_type": "code",
   "execution_count": 13,
   "metadata": {},
   "outputs": [],
   "source": [
    "# connection 종료\n",
    "conn.close()"
   ]
  },
  {
   "cell_type": "code",
   "execution_count": 14,
   "metadata": {},
   "outputs": [
    {
     "name": "stdout",
     "output_type": "stream",
     "text": [
      "[('b002', '관우', '심리학과', '010-222', '서울'), ('b003', '장비', '경제학과', '010-333', '서울'), ('c002', '여포', '심리학과', '016-222', '경기'), ('c003', '손견', '경제학과', '016-333', '경기'), ('d001', '홍길동', '수학과', '017-001', '광주'), ('S001', '박소명', '컴퓨터공학과', '123-4567', None), ('S002', '최민국', '컴퓨터공학과', '234-5678', None), ('S005', '김상진', '사학과', '567-8901', None), ('S006', '황정숙', '사학과', '678-9012', None), ('S010', 'James', 'Computer', '1234', None), ('S777', 'Cathy', 'Math', '12345', None), ('S888', 'James', 'math', '1234', None), ('S999', '홍길동', '컴공', '123', None)]\n"
     ]
    }
   ],
   "source": [
    "# list 로 변환\n",
    "rowList = list(rows)\n",
    "print(rowList)"
   ]
  },
  {
   "cell_type": "code",
   "execution_count": 15,
   "metadata": {},
   "outputs": [
    {
     "data": {
      "text/plain": [
       "list"
      ]
     },
     "execution_count": 15,
     "metadata": {},
     "output_type": "execute_result"
    }
   ],
   "source": [
    "# data type 확인\n",
    "type(rowList)"
   ]
  },
  {
   "cell_type": "code",
   "execution_count": null,
   "metadata": {},
   "outputs": [],
   "source": []
  }
 ],
 "metadata": {
  "kernelspec": {
   "display_name": "Python 3.9.7 ('base')",
   "language": "python",
   "name": "python3"
  },
  "language_info": {
   "codemirror_mode": {
    "name": "ipython",
    "version": 3
   },
   "file_extension": ".py",
   "mimetype": "text/x-python",
   "name": "python",
   "nbconvert_exporter": "python",
   "pygments_lexer": "ipython3",
   "version": "3.9.7"
  },
  "orig_nbformat": 4,
  "vscode": {
   "interpreter": {
    "hash": "c34e8390e776d2ee205b71ed5a6130fee3cef8da5e87e926ce18e14f4a070d72"
   }
  }
 },
 "nbformat": 4,
 "nbformat_minor": 2
}
