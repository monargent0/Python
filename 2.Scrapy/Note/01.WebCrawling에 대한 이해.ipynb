{
 "cells": [
  {
   "cell_type": "markdown",
   "metadata": {},
   "source": [
    "# Web Crawling이란?\n",
    "- Web Scraping이라고도 하며 Computer Software기술로 각종 웹 사이트들에서 원하는 정보를 추출하는 것을 의미\n",
    "- 선행 학슴: Python기초, HTML, CSS, JavaScript구조 및 Tag"
   ]
  },
  {
   "cell_type": "markdown",
   "metadata": {},
   "source": [
    "# Web Crawling기법\n",
    "- HTML Page를 가져와서 HTML/CSS등을 Parsing하고 필요한 데이터만 추출하는 기법.\n",
    "- Open API(Rest API)를 제공하는 서비스에 Open API를 호출해서 받은 데이터중 필요한 데이터만 추출하는 기법\n",
    "- Web Browser를 Programming으로 조작해서 필요한 데이터만 추출하는 기법"
   ]
  },
  {
   "cell_type": "markdown",
   "metadata": {},
   "source": [
    "# Web Crawling의 합법 여부 판단\n",
    "- Site명 뒤에 /robots.txt를 실행하여 허용 범위 확인\n",
    "- 잡코리아 VS 사람인 ; 사람인이 잡코리아꺼 스크레이핑해서 올림\n",
    "- 야놀자 VS 여기어때\n",
    "---\n",
    "수업시간에 자주 쓸 사이트 <br>\n",
    "https://www.rottentomatoes.com/\n"
   ]
  },
  {
   "cell_type": "markdown",
   "metadata": {},
   "source": [
    "---"
   ]
  }
 ],
 "metadata": {
  "language_info": {
   "name": "python"
  },
  "orig_nbformat": 4
 },
 "nbformat": 4,
 "nbformat_minor": 2
}
