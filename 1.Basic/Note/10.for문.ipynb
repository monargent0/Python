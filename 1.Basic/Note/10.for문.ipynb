{
 "cells": [
  {
   "cell_type": "code",
   "execution_count": 1,
   "metadata": {},
   "outputs": [
    {
     "data": {
      "text/plain": [
       "range(1, 11)"
      ]
     },
     "execution_count": 1,
     "metadata": {},
     "output_type": "execute_result"
    }
   ],
   "source": [
    "range(1, 11)"
   ]
  },
  {
   "cell_type": "code",
   "execution_count": 2,
   "metadata": {},
   "outputs": [
    {
     "data": {
      "text/plain": [
       "[1, 2, 3, 4, 5, 6, 7, 8, 9, 10]"
      ]
     },
     "execution_count": 2,
     "metadata": {},
     "output_type": "execute_result"
    }
   ],
   "source": [
    "list(range(1,11))"
   ]
  },
  {
   "cell_type": "code",
   "execution_count": 4,
   "metadata": {},
   "outputs": [
    {
     "data": {
      "text/plain": [
       "[0, 2, 4, 6, 8, 10]"
      ]
     },
     "execution_count": 4,
     "metadata": {},
     "output_type": "execute_result"
    }
   ],
   "source": [
    "list(range(0,11,2))"
   ]
  },
  {
   "cell_type": "code",
   "execution_count": 5,
   "metadata": {},
   "outputs": [
    {
     "data": {
      "text/plain": [
       "[10, 9, 8, 7, 6, 5, 4, 3, 2, 1]"
      ]
     },
     "execution_count": 5,
     "metadata": {},
     "output_type": "execute_result"
    }
   ],
   "source": [
    "list(range(10,0,-1))"
   ]
  },
  {
   "cell_type": "code",
   "execution_count": 7,
   "metadata": {},
   "outputs": [
    {
     "data": {
      "text/plain": [
       "[]"
      ]
     },
     "execution_count": 7,
     "metadata": {},
     "output_type": "execute_result"
    }
   ],
   "source": [
    "list(range(0,10,-2))\n",
    "# 안되는 수식이지만 에러는 안뜸 항상 사용할때 확인하고 넘어가야 한다  "
   ]
  },
  {
   "cell_type": "code",
   "execution_count": 8,
   "metadata": {},
   "outputs": [
    {
     "name": "stdout",
     "output_type": "stream",
     "text": [
      "1\n",
      "2\n",
      "3\n",
      "4\n",
      "5\n",
      "6\n",
      "7\n",
      "8\n",
      "9\n",
      "10\n"
     ]
    }
   ],
   "source": [
    "for i in range(1,11):\n",
    "    print(i)"
   ]
  },
  {
   "cell_type": "code",
   "execution_count": 15,
   "metadata": {},
   "outputs": [
    {
     "name": "stdout",
     "output_type": "stream",
     "text": [
      " 1 : 1.00000000\n",
      " 2 : 1.41421356\n",
      " 3 : 1.73205081\n",
      " 4 : 2.00000000\n",
      " 5 : 2.23606798\n",
      " 6 : 2.44948974\n",
      " 7 : 2.64575131\n",
      " 8 : 2.82842712\n",
      " 9 : 3.00000000\n",
      "10 : 3.16227766\n"
     ]
    }
   ],
   "source": [
    "# 1에서 10까지의 제곱근을 출력하기\n",
    "import math\n",
    "for i in range(1,11):\n",
    "    # print(\" {0} : {1}\".format(i,math.sqrt(i)))\n",
    "    print(\"%2d : %0.8f\"%(i, math.sqrt(i)))"
   ]
  },
  {
   "cell_type": "code",
   "execution_count": 19,
   "metadata": {},
   "outputs": [
    {
     "name": "stdout",
     "output_type": "stream",
     "text": [
      " 2  4  6  8 10 12 14 16 18 \n",
      " 3  6  9 12 15 18 21 24 27 \n",
      " 4  8 12 16 20 24 28 32 36 \n",
      " 5 10 15 20 25 30 35 40 45 \n",
      " 6 12 18 24 30 36 42 48 54 \n",
      " 7 14 21 28 35 42 49 56 63 \n",
      " 8 16 24 32 40 48 56 64 72 \n",
      " 9 18 27 36 45 54 63 72 81 \n"
     ]
    }
   ],
   "source": [
    "for i in range(2, 10):\n",
    "    for j in range(1, 10):\n",
    "        print(\"%2d\"%(i*j), end=' ')\n",
    "    print()"
   ]
  },
  {
   "cell_type": "code",
   "execution_count": 24,
   "metadata": {},
   "outputs": [
    {
     "name": "stdout",
     "output_type": "stream",
     "text": [
      "1 : 2\n",
      "3 : 4\n",
      "5 : 6\n",
      "7 : 8\n",
      "1 : 2 : 3\n",
      "3 : 4 : 5\n",
      "5 : 6 : 7\n",
      "7 : 8 : 9\n"
     ]
    }
   ],
   "source": [
    "# for문에 tuple 사용하기\n",
    "var = [(1,2),(3,4),(5,6),(7,8),]\n",
    "\n",
    "for first, last in var:\n",
    "    print(first,':', last)\n",
    "\n",
    "var = [(1,2,3),(3,4,5),(5,6,7),(7,8,9),]\n",
    "for f, l , x in var:\n",
    "    print(f,':', l ,\":\" , x)"
   ]
  },
  {
   "cell_type": "markdown",
   "metadata": {},
   "source": [
    "총 5명의 학생이 시험을 보았는데, <br>\n",
    "시험점수가 60점을 넘으면 합격, 그렇지 않으면 불합격이다. <br>\n",
    "합격, 불합격 보여주기"
   ]
  },
  {
   "cell_type": "code",
   "execution_count": 32,
   "metadata": {},
   "outputs": [
    {
     "name": "stdout",
     "output_type": "stream",
     "text": [
      "1의 학생의 결과는 합격입니다.\n",
      "2의 학생의 결과는 불합격입니다.\n",
      "3의 학생의 결과는 합격입니다.\n",
      "4의 학생의 결과는 불합격입니다.\n",
      "5의 학생의 결과는 합격입니다.\n",
      "1의 학생의 시험점수는 90 이며, 결과는 합격입니다.\n",
      "2의 학생의 시험점수는 25 이며, 결과는 불합격입니다.\n",
      "3의 학생의 시험점수는 67 이며, 결과는 합격입니다.\n",
      "4의 학생의 시험점수는 45 이며, 결과는 불합격입니다.\n",
      "5의 학생의 시험점수는 80 이며, 결과는 합격입니다.\n"
     ]
    }
   ],
   "source": [
    "scores = [90,25, 67, 45, 80]\n",
    "\n",
    "for number in range(len (scores)):\n",
    "    result = \"합격\" if (scores[number] > 60) else \"불합격\"\n",
    "    print(\"%d의 학생의 결과는 %s입니다.\"%(number+1,result))\n",
    "\n",
    "# --------------------------\n",
    "\n",
    "scores = [90,25, 67, 45, 80]\n",
    "\n",
    "for number in range(len (scores)):\n",
    "    result = \"합격\" if (scores[number] > 60) else \"불합격\"\n",
    "    print(\"%d의 학생의 시험점수는 %d 이며, 결과는 %s입니다.\"%(number+1,scores[number],result))\n",
    "    "
   ]
  },
  {
   "cell_type": "code",
   "execution_count": 39,
   "metadata": {},
   "outputs": [
    {
     "name": "stdout",
     "output_type": "stream",
     "text": [
      "1의 학생의 결과는 합격입니다.\n",
      "2의 학생의 결과는 불합격입니다.\n",
      "3의 학생의 결과는 합격입니다.\n",
      "4의 학생의 결과는 불합격입니다.\n",
      "5의 학생의 결과는 합격입니다.\n",
      "1의 학생의 시험점수는 90 이며, 결과는 합격입니다.\n",
      "2의 학생의 시험점수는 25 이며, 결과는 불합격입니다.\n",
      "3의 학생의 시험점수는 67 이며, 결과는 합격입니다.\n",
      "4의 학생의 시험점수는 45 이며, 결과는 불합격입니다.\n",
      "5의 학생의 시험점수는 80 이며, 결과는 합격입니다.\n"
     ]
    }
   ],
   "source": [
    "scores = [90,25, 67, 45, 80]\n",
    "number = 0\n",
    "\n",
    "for score in scores:\n",
    "    number += 1\n",
    "    result = \"합격\" if score > 60 else \"불합격\"\n",
    "    print(\"%d의 학생의 결과는 %s입니다.\"%(number,result))\n",
    "\n",
    "# --------------------------\n",
    "scores = [90,25, 67, 45, 80]\n",
    "\n",
    "\n",
    "for i, score in enumerate(scores): # 파이썬 내장함수 enumerate , 변수만 주면 몇번째 for문을 돌고있는지 알 수 있다. 변수명 i , idx 등 아무렇게나 줘도 됨\n",
    "    result = \"합격\" if score > 60 else \"불합격\"\n",
    "    print(\"%d의 학생의 시험점수는 %d 이며, 결과는 %s입니다.\"%(i+1 ,score,result))"
   ]
  },
  {
   "cell_type": "markdown",
   "metadata": {},
   "source": [
    "학생들 점수의 평균을 구하여 평균점수 보다 낮으면 불합격\n",
    "평균점수보다 같거나 높으면 합격을 같이 보여주기"
   ]
  },
  {
   "cell_type": "code",
   "execution_count": 36,
   "metadata": {},
   "outputs": [],
   "source": [
    "import numpy as np"
   ]
  },
  {
   "cell_type": "code",
   "execution_count": 48,
   "metadata": {},
   "outputs": [
    {
     "name": "stdout",
     "output_type": "stream",
     "text": [
      "학급의 평균 점수는 61.40입니다.\n",
      "1의 학생의 점수는 90, 결과는 합격입니다.\n",
      "2의 학생의 점수는 25, 결과는 불합격입니다.\n",
      "3의 학생의 점수는 67, 결과는 합격입니다.\n",
      "4의 학생의 점수는 45, 결과는 불합격입니다.\n",
      "5의 학생의 점수는 80, 결과는 합격입니다.\n"
     ]
    }
   ],
   "source": [
    "scores = [90,25, 67, 45, 80]\n",
    "number = 0\n",
    "mean = np.mean(scores)\n",
    "\n",
    "print(\"학급의 평균 점수는 %0.2f입니다.\"%mean)\n",
    "for score in scores:\n",
    "    number += 1\n",
    "    result = \"합격\" if score > mean else \"불합격\"\n",
    "    print(\"%d의 학생의 점수는 %d, 결과는 %s입니다.\"%(number,score,result))\n"
   ]
  },
  {
   "cell_type": "code",
   "execution_count": 50,
   "metadata": {},
   "outputs": [
    {
     "name": "stdout",
     "output_type": "stream",
     "text": [
      "1의 학생의 점수는 90, 결과는 합격입니다.\n",
      "3의 학생의 점수는 67, 결과는 합격입니다.\n",
      "5의 학생의 점수는 80, 결과는 합격입니다.\n"
     ]
    }
   ],
   "source": [
    "scores = [90,25, 67, 45, 80]\n",
    "number = 0\n",
    "\n",
    "for score in scores:\n",
    "    number += 1\n",
    "    result = \"합격\" if score > 60 else \"불합격\"\n",
    "    if result == \"불합격\":\n",
    "        continue\n",
    "    print(\"%d의 학생의 점수는 %d, 결과는 %s입니다.\"%(number,score,result))"
   ]
  },
  {
   "cell_type": "markdown",
   "metadata": {},
   "source": [
    "총 5명의 학생이 시험을 보았는데 시험점수가 60점을 넘으면 합격이고 그렇지 않으면 불합격이다. <br>\n",
    "합격인 학생들의 번호만 새로운 list를 생성하여 출력하기"
   ]
  },
  {
   "cell_type": "code",
   "execution_count": 59,
   "metadata": {},
   "outputs": [
    {
     "name": "stdout",
     "output_type": "stream",
     "text": [
      "합격자 번호\n",
      "---------\n",
      "    1     \n",
      "    3     \n",
      "    5     \n",
      "합격자 번호\n",
      "---------\n",
      "    6     \n",
      "    6     \n",
      "    8     \n",
      "    8     \n",
      "    10    \n"
     ]
    }
   ],
   "source": [
    "scores = [90,25, 67, 45, 80]\n",
    "number = 0\n",
    "pass_num = []\n",
    "\n",
    "for score in scores:\n",
    "    number += 1\n",
    "    if score > 60:\n",
    "        pass_num.append(number)\n",
    "\n",
    "print(\"합격자 번호\\n---------\")\n",
    "for i in range(len(pass_num)):\n",
    "    print('{0:^10}'.format(pass_num[i]))\n",
    "\n"
   ]
  },
  {
   "cell_type": "code",
   "execution_count": 63,
   "metadata": {},
   "outputs": [
    {
     "name": "stdout",
     "output_type": "stream",
     "text": [
      "합격자 번호\n",
      "---------\n",
      "    1     \n",
      "    3     \n",
      "    5     \n"
     ]
    }
   ],
   "source": [
    "# 2 -------------\n",
    "scores = [90,25, 67, 45, 80]\n",
    "number = 0\n",
    "pass_num = []\n",
    "\n",
    "print(\"합격자 번호\\n---------\")\n",
    "for score in scores:\n",
    "    number += 1\n",
    "    if score < 60:\n",
    "        continue\n",
    "    pass_num.append(number)\n",
    "    print('{0:^10}'.format(pass_num[len(pass_num) - 1]))"
   ]
  },
  {
   "cell_type": "markdown",
   "metadata": {},
   "source": [
    "---\n",
    "# 문장과 단어 추출"
   ]
  },
  {
   "cell_type": "code",
   "execution_count": 64,
   "metadata": {},
   "outputs": [],
   "source": [
    "string = \"\"\"나는 홍길동 입니다.\n",
    "주소는 서울시 입니다.\n",
    "나이는 35세 입니다.\"\"\""
   ]
  },
  {
   "cell_type": "code",
   "execution_count": 65,
   "metadata": {},
   "outputs": [
    {
     "data": {
      "text/plain": [
       "'나는 홍길동 입니다.\\n주소는 서울시 입니다.\\n나이는 35세 입니다.'"
      ]
     },
     "execution_count": 65,
     "metadata": {},
     "output_type": "execute_result"
    }
   ],
   "source": [
    "string"
   ]
  },
  {
   "cell_type": "code",
   "execution_count": 70,
   "metadata": {},
   "outputs": [
    {
     "name": "stdout",
     "output_type": "stream",
     "text": [
      "['나는 홍길동 입니다.', '주소는 서울시 입니다.', '나이는 35세 입니다.']\n",
      "['나는', '홍길동', '입니다.', '주소는', '서울시', '입니다.', '나이는', '35세', '입니다.']\n"
     ]
    }
   ],
   "source": [
    "# 문단 -> 문장 -> 단어\n",
    "sents = [] # 문장 저장\n",
    "words = [] # 단어 저장\n",
    "\n",
    "for sen in string.split(\"\\n\"):\n",
    "    sents.append(sen)\n",
    "    # 문장 -> 단어\n",
    "    for word in sen.split():\n",
    "        words.append(word)\n",
    "\n",
    "print(sents)\n",
    "print(words)\n"
   ]
  },
  {
   "cell_type": "code",
   "execution_count": 72,
   "metadata": {},
   "outputs": [
    {
     "data": {
      "text/plain": [
       "[5, 10, 15, 20]"
      ]
     },
     "execution_count": 72,
     "metadata": {},
     "output_type": "execute_result"
    }
   ],
   "source": [
    "# 잘 쓰이지 않음 \n",
    "var01 = [1,2,3,4]\n",
    "var02 = []\n",
    "\n",
    "# var02에 var01의 인덱스 번호에 각각 5를 곱하여 출력하기\n",
    "for i in var01:\n",
    "    var02.append(i * 5)\n",
    "var02"
   ]
  },
  {
   "cell_type": "markdown",
   "metadata": {},
   "source": [
    "# 파이썬의 listed for문"
   ]
  },
  {
   "cell_type": "code",
   "execution_count": 73,
   "metadata": {},
   "outputs": [
    {
     "data": {
      "text/plain": [
       "[5, 10, 15, 20]"
      ]
     },
     "execution_count": 73,
     "metadata": {},
     "output_type": "execute_result"
    }
   ],
   "source": [
    "# 파이썬에서 쓰이는 방식 \n",
    "var01 = [1,2,3,4]\n",
    "var02 = [i * 5 for i in var01]\n",
    "\n",
    "var02"
   ]
  },
  {
   "cell_type": "code",
   "execution_count": 77,
   "metadata": {},
   "outputs": [
    {
     "data": {
      "text/plain": [
       "[10, 20, 30, 40]"
      ]
     },
     "execution_count": 77,
     "metadata": {},
     "output_type": "execute_result"
    }
   ],
   "source": [
    "# var01 의 데이터가 짝수 인 경우에만 5를 곱하여 var02 list만들기\n",
    "var01 = [1,2,3,4,5,6,7,8,9]\n",
    "\n",
    "var02 = [ i * 5 for i in var01 if i % 2 == 0]\n",
    "\n",
    "var02"
   ]
  },
  {
   "cell_type": "code",
   "execution_count": 84,
   "metadata": {},
   "outputs": [
    {
     "name": "stdout",
     "output_type": "stream",
     "text": [
      "[2, 4, 6, 8, 10, 12, 14, 16, 18, 3, 6, 9, 12, 15, 18, 21, 24, 27, 4, 8, 12, 16, 20, 24, 28, 32, 36, 5, 10, 15, 20, 25, 30, 35, 40, 45, 6, 12, 18, 24, 30, 36, 42, 48, 54, 7, 14, 21, 28, 35, 42, 49, 56, 63, 8, 16, 24, 32, 40, 48, 56, 64, 72, 9, 18, 27, 36, 45, 54, 63, 72, 81]\n"
     ]
    }
   ],
   "source": [
    "# 구구단 결과 리스트\n",
    "dan = [2,3,4,5,6,7,8,9]\n",
    "\n",
    "gugudan = [ i * j for j in dan for i in range(1,10)]\n",
    "\n",
    "print(gugudan)"
   ]
  },
  {
   "cell_type": "code",
   "execution_count": 88,
   "metadata": {},
   "outputs": [
    {
     "name": "stdout",
     "output_type": "stream",
     "text": [
      "합격한 학생들의 평균 점수는 79.00입니다.\n"
     ]
    }
   ],
   "source": [
    "# 60점 이상의 학생 점수만 list로 만들어서 평균 출력하기 (listed for문 사용)\n",
    "import numpy as np\n",
    "\n",
    "scores = [90,25,67,45,80]\n",
    "pass_scores = [i for i in scores if i > 60]\n",
    "\n",
    "print(\"합격한 학생들의 평균 점수는 %0.2f입니다.\"%np.mean(pass_scores))"
   ]
  },
  {
   "cell_type": "markdown",
   "metadata": {},
   "source": [
    "---"
   ]
  }
 ],
 "metadata": {
  "kernelspec": {
   "display_name": "Python 3.9.7 ('base')",
   "language": "python",
   "name": "python3"
  },
  "language_info": {
   "codemirror_mode": {
    "name": "ipython",
    "version": 3
   },
   "file_extension": ".py",
   "mimetype": "text/x-python",
   "name": "python",
   "nbconvert_exporter": "python",
   "pygments_lexer": "ipython3",
   "version": "3.9.7"
  },
  "orig_nbformat": 4,
  "vscode": {
   "interpreter": {
    "hash": "c34e8390e776d2ee205b71ed5a6130fee3cef8da5e87e926ce18e14f4a070d72"
   }
  }
 },
 "nbformat": 4,
 "nbformat_minor": 2
}
