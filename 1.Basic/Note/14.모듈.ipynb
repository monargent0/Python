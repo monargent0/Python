{
 "cells": [
  {
   "cell_type": "markdown",
   "metadata": {},
   "source": [
    "# 모듈\n",
    ": 함수나 변수, 클래스들을 모아놓은 파일"
   ]
  },
  {
   "cell_type": "code",
   "execution_count": 11,
   "metadata": {},
   "outputs": [
    {
     "name": "stdout",
     "output_type": "stream",
     "text": [
      "7\n"
     ]
    }
   ],
   "source": [
    "import mod1 # 모듈 불러오기 , 모듈 파일이름과 같다\n",
    "print(mod1.sum(3,4))\n",
    "# print(mod1.sum(3,'a'))  # 기본 타입이 any, 문자와 숫자가 섞여 들어갈 수 있다"
   ]
  },
  {
   "cell_type": "code",
   "execution_count": 9,
   "metadata": {},
   "outputs": [
    {
     "name": "stdout",
     "output_type": "stream",
     "text": [
      "7\n",
      "더하기를 할 수 없습니다.\n",
      "None\n",
      "aa\n"
     ]
    }
   ],
   "source": [
    "import mod2\n",
    "print(mod2.sum(3,4))\n",
    "print(mod2.sum(3,'a'))\n",
    "print(mod2.sum('a','a'))"
   ]
  },
  {
   "cell_type": "code",
   "execution_count": 10,
   "metadata": {},
   "outputs": [
    {
     "data": {
      "text/plain": [
       "11"
      ]
     },
     "execution_count": 10,
     "metadata": {},
     "output_type": "execute_result"
    }
   ],
   "source": [
    "from mod2 import sum # 불러올 기능이 여러개라면 sum뒤에 , 로 이어서 불러올 수 있다\n",
    "sum(5,6)"
   ]
  },
  {
   "cell_type": "code",
   "execution_count": 12,
   "metadata": {},
   "outputs": [
    {
     "name": "stdout",
     "output_type": "stream",
     "text": [
      "3.141592\n",
      "12.566368\n",
      "7.5415920000000005\n"
     ]
    }
   ],
   "source": [
    "import mod3\n",
    "print(mod3.PI)\n",
    "instance01 = mod3.Math()\n",
    "print(instance01.solve(2))\n",
    "print(instance01.sum(mod3.PI, 4.4))"
   ]
  },
  {
   "cell_type": "markdown",
   "metadata": {},
   "source": [
    "---"
   ]
  }
 ],
 "metadata": {
  "kernelspec": {
   "display_name": "Python 3.9.7 ('base')",
   "language": "python",
   "name": "python3"
  },
  "language_info": {
   "codemirror_mode": {
    "name": "ipython",
    "version": 3
   },
   "file_extension": ".py",
   "mimetype": "text/x-python",
   "name": "python",
   "nbconvert_exporter": "python",
   "pygments_lexer": "ipython3",
   "version": "3.9.7"
  },
  "orig_nbformat": 4,
  "vscode": {
   "interpreter": {
    "hash": "c34e8390e776d2ee205b71ed5a6130fee3cef8da5e87e926ce18e14f4a070d72"
   }
  }
 },
 "nbformat": 4,
 "nbformat_minor": 2
}
