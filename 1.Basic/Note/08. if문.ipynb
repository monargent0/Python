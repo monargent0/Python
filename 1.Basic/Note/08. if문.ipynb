{
 "cells": [
  {
   "cell_type": "code",
   "execution_count": 1,
   "metadata": {},
   "outputs": [],
   "source": [
    "from random import randint"
   ]
  },
  {
   "cell_type": "code",
   "execution_count": 2,
   "metadata": {},
   "outputs": [
    {
     "data": {
      "text/plain": [
       "41"
      ]
     },
     "execution_count": 2,
     "metadata": {},
     "output_type": "execute_result"
    }
   ],
   "source": [
    "randint(1,100)"
   ]
  },
  {
   "cell_type": "code",
   "execution_count": 22,
   "metadata": {},
   "outputs": [
    {
     "name": "stdout",
     "output_type": "stream",
     "text": [
      "0보다 큽니다.\n"
     ]
    }
   ],
   "source": [
    "x = randint(1,100)\n",
    "\n",
    "if x > 70:\n",
    "    print(\"70보다 큽니다.\")\n",
    "elif x > 50:\n",
    "    print(\"50보다 큽니다.\")\n",
    "elif x > 30:\n",
    "    print(\"30보다 큽니다.\")\n",
    "else:\n",
    "    print(\"0보다 큽니다.\")"
   ]
  },
  {
   "cell_type": "code",
   "execution_count": 23,
   "metadata": {},
   "outputs": [
    {
     "name": "stdout",
     "output_type": "stream",
     "text": [
      "홀수입니다.\n"
     ]
    }
   ],
   "source": [
    "# 홀짝수 구분\n",
    "x = 9\n",
    "if x % 2 == 0:\n",
    "    print(\"짝수입니다.\")\n",
    "elif x % 2 == 1:\n",
    "    print(\"홀수입니다.\")"
   ]
  },
  {
   "cell_type": "code",
   "execution_count": 26,
   "metadata": {},
   "outputs": [
    {
     "data": {
      "text/plain": [
       "int"
      ]
     },
     "execution_count": 26,
     "metadata": {},
     "output_type": "execute_result"
    }
   ],
   "source": [
    "# 사용자로 부터 숫자를 입력 받자!\n",
    "number = int(input(\"숫자를 입력하세요 : \")) # 기본 input은 문자로 받음 ,int, double등등 형변환을 시켜줘야한다.\n",
    "type(number)"
   ]
  },
  {
   "cell_type": "code",
   "execution_count": 28,
   "metadata": {},
   "outputs": [
    {
     "name": "stdout",
     "output_type": "stream",
     "text": [
      "56 는 짝수 입니다.\n"
     ]
    }
   ],
   "source": [
    "# 사용자로부터 숫자를 입력 받아 홀짝 구분하기!\n",
    "num = int(input(\"숫자를 입력하세요 : \"))\n",
    "if num % 2 == 1:\n",
    "    print(num , \"는 홀수 입니다.\")\n",
    "else:\n",
    "    print(num, \"는 짝수 입니다.\")\n"
   ]
  },
  {
   "cell_type": "code",
   "execution_count": 33,
   "metadata": {},
   "outputs": [
    {
     "name": "stdout",
     "output_type": "stream",
     "text": [
      "점수는 78 이고 C 학점 입니다.\n"
     ]
    }
   ],
   "source": [
    "# 학점계산\n",
    "# --------------\n",
    "# score = int(input(\"점수를 입력하세요 : \"))\n",
    "# if score >= 90:\n",
    "#     print(\"점수는\", score , \"이고 A학점 입니다.\")\n",
    "# elif score >= 80:\n",
    "#     print(\"점수는\", score , \"이고 B학점 입니다.\")\n",
    "# elif score >= 70:\n",
    "#     print(\"점수는\", score , \"이고 C학점 입니다.\")\n",
    "# elif score >= 60:\n",
    "#     print(\"점수는\", score , \"이고 D학점 입니다.\")\n",
    "# else:\n",
    "#     print(\"점수는\", score , \"이고 F학점 입니다.\")\n",
    "\n",
    "# 다른 방법 ----------\n",
    "score = int(input(\"점수를 입력하세요 : \"))\n",
    "grade = \"A\"\n",
    "if score // 10 == 9:\n",
    "    grade = \"A\"\n",
    "elif score // 10 == 8:\n",
    "    grade = \"B\"\n",
    "elif score // 10 ==  7:\n",
    "    grade = \"C\"\n",
    "elif score // 10 ==  6:\n",
    "    grade = \"D\"\n",
    "else:\n",
    "    grade = \"F\"\n",
    "\n",
    "print(\"점수는\", score , \"이고\", grade, \"학점 입니다.\")"
   ]
  },
  {
   "cell_type": "code",
   "execution_count": 34,
   "metadata": {},
   "outputs": [],
   "source": [
    "import math"
   ]
  },
  {
   "cell_type": "code",
   "execution_count": 37,
   "metadata": {},
   "outputs": [
    {
     "name": "stdout",
     "output_type": "stream",
     "text": [
      "85 는 5의 배수입니다.  9.219544457292887\n"
     ]
    }
   ],
   "source": [
    "# 사용자로부터 숫자를 입력받아 5의 배수이면 제곱근을 구하고 그렇지 않으면 원래 수를 출력하기\n",
    "number = int(input(\"숫자를 입력하세요 : \"))\n",
    "\n",
    "if number % 5 == 0:\n",
    "    print(number,\"는 5의 배수입니다. \", math.sqrt(number))\n",
    "else: \n",
    "    print(number, \"는 5의 배수가 아닙니다\")"
   ]
  },
  {
   "cell_type": "code",
   "execution_count": 38,
   "metadata": {},
   "outputs": [
    {
     "name": "stdout",
     "output_type": "stream",
     "text": [
      "신용카드를 사용한 택시 타기!\n",
      "---End---\n"
     ]
    }
   ],
   "source": [
    "# list의 내용을 if문으로 확인하기\n",
    "\n",
    "pocket = ['paper', 'smartphone']\n",
    "card = 1\n",
    "\n",
    "if 'money' in pocket:\n",
    "    print(\"현금으로 택시타기!\")\n",
    "elif card :\n",
    "    print(\"신용카드를 사용한 택시 타기!\")\n",
    "else:\n",
    "    print(\"튼튼한 다리를 사용!\")\n",
    "print(\"---End---\")\n"
   ]
  },
  {
   "cell_type": "code",
   "execution_count": 39,
   "metadata": {},
   "outputs": [
    {
     "name": "stdout",
     "output_type": "stream",
     "text": [
      "18\n"
     ]
    }
   ],
   "source": [
    "# 삼항 연산자 (함수는 따로 없다)\n",
    "# 변수 = 참인 경운 if (조건문) else (거짓인 경우) \n",
    "# 이 형태를 자주 사용한다. 리스트에 추가할때 사용\n",
    "\n",
    "num = 9\n",
    "result = 0 \n",
    "\n",
    "result = num * 2 if num >= 5 else num + 2\n",
    "print(result)"
   ]
  },
  {
   "cell_type": "markdown",
   "metadata": {},
   "source": [
    "---"
   ]
  }
 ],
 "metadata": {
  "kernelspec": {
   "display_name": "Python 3.9.7 ('base')",
   "language": "python",
   "name": "python3"
  },
  "language_info": {
   "codemirror_mode": {
    "name": "ipython",
    "version": 3
   },
   "file_extension": ".py",
   "mimetype": "text/x-python",
   "name": "python",
   "nbconvert_exporter": "python",
   "pygments_lexer": "ipython3",
   "version": "3.9.7"
  },
  "orig_nbformat": 4,
  "vscode": {
   "interpreter": {
    "hash": "c34e8390e776d2ee205b71ed5a6130fee3cef8da5e87e926ce18e14f4a070d72"
   }
  }
 },
 "nbformat": 4,
 "nbformat_minor": 2
}
