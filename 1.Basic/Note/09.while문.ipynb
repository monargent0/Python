{
 "cells": [
  {
   "cell_type": "code",
   "execution_count": 1,
   "metadata": {},
   "outputs": [
    {
     "name": "stdout",
     "output_type": "stream",
     "text": [
      "나무를 1번 찍었습니다.\n",
      "나무를 2번 찍었습니다.\n",
      "나무를 3번 찍었습니다.\n",
      "나무를 4번 찍었습니다.\n",
      "나무를 5번 찍었습니다.\n",
      "나무를 6번 찍었습니다.\n",
      "나무를 7번 찍었습니다.\n",
      "나무를 8번 찍었습니다.\n",
      "나무를 9번 찍었습니다.\n",
      "나무를 10번 찍었습니다.\n",
      "나무 넘어 갑니다.\n"
     ]
    }
   ],
   "source": [
    "treeHit = 0\n",
    "while treeHit < 10:\n",
    "    treeHit += 1\n",
    "    print(\"나무를 %d번 찍었습니다.\" %treeHit)\n",
    "    if treeHit == 10:\n",
    "        print(\"나무 넘어 갑니다.\")"
   ]
  },
  {
   "cell_type": "code",
   "execution_count": 2,
   "metadata": {},
   "outputs": [],
   "source": [
    "prompt = \"\"\"\n",
    "1. 덧셈\n",
    " 2. 곱셈\n",
    "  3. 나눗셈\n",
    "   4. 종료\n",
    "\n",
    "숫자를 입력하세요:\n",
    "\"\"\""
   ]
  },
  {
   "cell_type": "code",
   "execution_count": 4,
   "metadata": {},
   "outputs": [
    {
     "name": "stdout",
     "output_type": "stream",
     "text": [
      "\n",
      "1. 덧셈\n",
      " 2. 곱셈\n",
      "  3. 나눗셈\n",
      "   4. 종료\n",
      "\n",
      "숫자를 입력하세요:\n",
      "\n"
     ]
    }
   ],
   "source": [
    "number = 0 \n",
    "while number != 4:\n",
    "    print(prompt)\n",
    "    number = int(input())"
   ]
  },
  {
   "cell_type": "markdown",
   "metadata": {},
   "source": [
    "5번의 커피를 판매할 수 있는 커피 자판기가 있다. <br>\n",
    "커피의 금액은 300원이다.  <br>\n",
    "300원 보다 큰 금액을 입력하면 커피를 주고(커피의 판매횟수 감소) 거스름돈을 준다. <br>\n",
    "커피의 판매 횟수를 소진하면 판매를 중지한다. <br>"
   ]
  },
  {
   "cell_type": "code",
   "execution_count": 10,
   "metadata": {},
   "outputs": [
    {
     "name": "stdout",
     "output_type": "stream",
     "text": [
      " \n",
      "Menu --------\n",
      "    커피 300원\n",
      "-------------\n",
      "입금 금액을 입력하세요 :\n",
      "\n"
     ]
    },
    {
     "ename": "ValueError",
     "evalue": "invalid literal for int() with base 10: ''",
     "output_type": "error",
     "traceback": [
      "\u001b[0;31m---------------------------------------------------------------------------\u001b[0m",
      "\u001b[0;31mValueError\u001b[0m                                Traceback (most recent call last)",
      "\u001b[0;32m/var/folders/r9/905wglgd76v1f_n1q9jw68rr0000gn/T/ipykernel_1516/2871249162.py\u001b[0m in \u001b[0;36m<module>\u001b[0;34m\u001b[0m\n\u001b[1;32m      9\u001b[0m \u001b[0;32mwhile\u001b[0m \u001b[0mcoffee\u001b[0m \u001b[0;34m!=\u001b[0m \u001b[0;36m0\u001b[0m \u001b[0;34m:\u001b[0m\u001b[0;34m\u001b[0m\u001b[0;34m\u001b[0m\u001b[0m\n\u001b[1;32m     10\u001b[0m     \u001b[0mprint\u001b[0m\u001b[0;34m(\u001b[0m\u001b[0mmenu\u001b[0m\u001b[0;34m)\u001b[0m\u001b[0;34m\u001b[0m\u001b[0;34m\u001b[0m\u001b[0m\n\u001b[0;32m---> 11\u001b[0;31m     \u001b[0mmoney\u001b[0m \u001b[0;34m=\u001b[0m \u001b[0mint\u001b[0m\u001b[0;34m(\u001b[0m\u001b[0minput\u001b[0m\u001b[0;34m(\u001b[0m\u001b[0;34m)\u001b[0m\u001b[0;34m)\u001b[0m\u001b[0;34m\u001b[0m\u001b[0;34m\u001b[0m\u001b[0m\n\u001b[0m\u001b[1;32m     12\u001b[0m     \u001b[0;32mif\u001b[0m \u001b[0mmoney\u001b[0m \u001b[0;34m>\u001b[0m \u001b[0;36m300\u001b[0m\u001b[0;34m:\u001b[0m\u001b[0;34m\u001b[0m\u001b[0;34m\u001b[0m\u001b[0m\n\u001b[1;32m     13\u001b[0m         \u001b[0mcoffee\u001b[0m \u001b[0;34m-=\u001b[0m \u001b[0;36m1\u001b[0m\u001b[0;34m\u001b[0m\u001b[0;34m\u001b[0m\u001b[0m\n",
      "\u001b[0;31mValueError\u001b[0m: invalid literal for int() with base 10: ''"
     ]
    }
   ],
   "source": [
    "coffee = 5\n",
    "menu = \"\"\" \n",
    "Menu --------\n",
    "    커피 300원\n",
    "-------------\n",
    "입금 금액을 입력하세요 :\n",
    "\"\"\"\n",
    "\n",
    "while coffee != 0 :\n",
    "    print(menu)\n",
    "    money = int(input())\n",
    "    if money > 300:\n",
    "        coffee -= 1\n",
    "        print(\"커피 한잔과 거스름돈 \", money - 300 , \"원 입니다.\")\n",
    "    elif money == 300:\n",
    "        coffee -= 1\n",
    "        print(\"커피 한잔 나왔습니다.\")\n",
    "    else:\n",
    "        print(\"커피의 가격은 300원 입니다. \\n입금 금액을 확인해 주세요\")\n",
    "\n",
    "print(\"커피가 모두 소진되어 판매를 종료합니다.\")"
   ]
  },
  {
   "cell_type": "code",
   "execution_count": 11,
   "metadata": {},
   "outputs": [
    {
     "name": "stdout",
     "output_type": "stream",
     "text": [
      "0\n",
      "1\n",
      "2\n",
      "3\n",
      "4\n"
     ]
    }
   ],
   "source": [
    "# break문을 사용하여 a가 5인 경우 while문 빠져 나가기\n",
    "\n",
    "var = 0\n",
    "while var < 10:\n",
    "    print(var)\n",
    "    var += 1\n",
    "    if var == 5:\n",
    "        break # 반복문을 빠져나감"
   ]
  },
  {
   "cell_type": "code",
   "execution_count": 17,
   "metadata": {},
   "outputs": [
    {
     "name": "stdout",
     "output_type": "stream",
     "text": [
      "1\n",
      "2\n",
      "3\n",
      "4\n",
      "6\n",
      "7\n",
      "8\n",
      "9\n",
      "10\n"
     ]
    }
   ],
   "source": [
    "# 10 보다 작은 수 중 5인 경우에만 출력 안하고 나머지는 출력하기\n",
    "\n",
    "var = 0\n",
    "while var < 10:\n",
    "    var += 1\n",
    "    if var == 5:\n",
    "        continue # 다시 while조건문으로 돌아감 \n",
    "    print(var)\n"
   ]
  },
  {
   "cell_type": "code",
   "execution_count": 18,
   "metadata": {},
   "outputs": [
    {
     "name": "stdout",
     "output_type": "stream",
     "text": [
      "1\n",
      "3\n",
      "5\n",
      "7\n",
      "9\n"
     ]
    }
   ],
   "source": [
    "# continue문을 사용하여 홀수 숫자만 출력하기\n",
    "var = 0\n",
    "while var < 10:\n",
    "    var += 1\n",
    "    if var % 2 == 0:\n",
    "        continue\n",
    "    print(var)"
   ]
  },
  {
   "cell_type": "code",
   "execution_count": 19,
   "metadata": {},
   "outputs": [
    {
     "name": "stdout",
     "output_type": "stream",
     "text": [
      "노력이 필요합니다.\n",
      "성적이 우수합니다.\n",
      "성적이 우수합니다.\n",
      "노력이 필요합니다.\n"
     ]
    }
   ],
   "source": [
    "# 점수가 80점 이상이면 우수, 나머지는 노력으로 출력 # 1\n",
    "scores = [78, 85, 95, 65]\n",
    "\n",
    "var = 0\n",
    "while var < len(scores) :\n",
    "    if scores[var] >= 80 :\n",
    "        print(\"성적이 우수합니다.\")\n",
    "        var += 1\n",
    "    else :\n",
    "        print(\"노력이 필요합니다.\")\n",
    "        var += 1\n"
   ]
  },
  {
   "cell_type": "code",
   "execution_count": 26,
   "metadata": {},
   "outputs": [
    {
     "name": "stdout",
     "output_type": "stream",
     "text": [
      "노력이 필요합니다.\n",
      "성적이 우수합니다.\n",
      "성적이 우수합니다.\n",
      "노력이 필요합니다.\n"
     ]
    }
   ],
   "source": [
    "# 점수가 80점 이상이면 우수, 나머지는 노력으로 출력 # 2\n",
    "scores = [78, 85, 95, 65]\n",
    "var = 0\n",
    "while scores :\n",
    "    if scores[var] >= 80:\n",
    "        print(\"성적이 우수합니다.\")\n",
    "        scores.pop(0)\n",
    "    else :\n",
    "        print(\"노력이 필요합니다.\")\n",
    "        scores.pop(0)"
   ]
  },
  {
   "cell_type": "code",
   "execution_count": 2,
   "metadata": {},
   "outputs": [
    {
     "name": "stdout",
     "output_type": "stream",
     "text": [
      "80.75\n"
     ]
    }
   ],
   "source": [
    "# 평균 구하기 # 1\n",
    "scores = [78, 85, 95, 65]\n",
    "list_length = len(scores) \n",
    "total = 0\n",
    "\n",
    "while scores:\n",
    "    total += scores.pop()\n",
    "print(total / list_length)\n"
   ]
  },
  {
   "cell_type": "code",
   "execution_count": 3,
   "metadata": {},
   "outputs": [],
   "source": [
    "import numpy as np\n",
    "# 계산하는 퍼포먼스가 좋음 , 많이 사용함. 완전 중요@\n",
    "# 엑셀정도 수준은 판다스 알면 됨"
   ]
  },
  {
   "cell_type": "code",
   "execution_count": 4,
   "metadata": {},
   "outputs": [
    {
     "data": {
      "text/plain": [
       "80.75"
      ]
     },
     "execution_count": 4,
     "metadata": {},
     "output_type": "execute_result"
    }
   ],
   "source": [
    "# 평균 구하기 # 2\n",
    "scores = [78, 85, 95, 65]\n",
    "np.mean(scores)\n",
    "# 분석할땐 이렇게 사용해야 한다."
   ]
  },
  {
   "cell_type": "markdown",
   "metadata": {},
   "source": [
    "표준편차 : 평균과 각 Data의 차이의 제곱한 것의 합의 제곱근을 구한것의 평균 "
   ]
  },
  {
   "cell_type": "code",
   "execution_count": 6,
   "metadata": {},
   "outputs": [
    {
     "name": "stdout",
     "output_type": "stream",
     "text": [
      "80.75\n",
      "119.1875\n"
     ]
    },
    {
     "data": {
      "text/plain": [
       "10.917302780449024"
      ]
     },
     "execution_count": 6,
     "metadata": {},
     "output_type": "execute_result"
    }
   ],
   "source": [
    "# 표준편차 파이썬 언어로 만들기 : 수식을 보고 코드로 만들 수 있는지 중요하다\n",
    "import math\n",
    "scores = [78, 85, 95, 65]\n",
    "\n",
    "# 평균 구하기\n",
    "total = 0\n",
    "var = 0\n",
    "\n",
    "while var < len(scores) :\n",
    "    total += scores[var]\n",
    "    var += 1\n",
    "\n",
    "avg = total / len(scores)\n",
    "print(avg)\n",
    "\n",
    "# 각 Data와 평균의 차이의 제곱의 합의 평균 구하기\n",
    "total = 0\n",
    "var = 0\n",
    "\n",
    "while var < len(scores):\n",
    "    total += (scores[var] - avg) ** 2\n",
    "    var += 1\n",
    "\n",
    "avg = total / len(scores)\n",
    "print(avg)\n",
    "\n",
    "# 제곱근 씌우기 \n",
    "math.sqrt(avg)\n"
   ]
  },
  {
   "cell_type": "code",
   "execution_count": 7,
   "metadata": {},
   "outputs": [
    {
     "data": {
      "text/plain": [
       "10.917302780449024"
      ]
     },
     "execution_count": 7,
     "metadata": {},
     "output_type": "execute_result"
    }
   ],
   "source": [
    "# 표준편차 모듈로 계산하기\n",
    "scores = [78, 85, 95, 65]\n",
    "np.std(scores)"
   ]
  },
  {
   "cell_type": "markdown",
   "metadata": {},
   "source": [
    "---"
   ]
  }
 ],
 "metadata": {
  "kernelspec": {
   "display_name": "Python 3.9.7 ('base')",
   "language": "python",
   "name": "python3"
  },
  "language_info": {
   "codemirror_mode": {
    "name": "ipython",
    "version": 3
   },
   "file_extension": ".py",
   "mimetype": "text/x-python",
   "name": "python",
   "nbconvert_exporter": "python",
   "pygments_lexer": "ipython3",
   "version": "3.9.7"
  },
  "orig_nbformat": 4,
  "vscode": {
   "interpreter": {
    "hash": "c34e8390e776d2ee205b71ed5a6130fee3cef8da5e87e926ce18e14f4a070d72"
   }
  }
 },
 "nbformat": 4,
 "nbformat_minor": 2
}
