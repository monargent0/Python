{
 "cells": [
  {
   "cell_type": "code",
   "execution_count": 1,
   "metadata": {},
   "outputs": [],
   "source": [
    "# Class 기본 구성 : P , C , M"
   ]
  },
  {
   "cell_type": "markdown",
   "metadata": {},
   "source": [
    "# Class"
   ]
  },
  {
   "cell_type": "code",
   "execution_count": 2,
   "metadata": {},
   "outputs": [],
   "source": [
    "# Class 선언\n",
    "\n",
    "class Services:\n",
    "    secret = \"임금님 귀는 당나귀 귀다!\""
   ]
  },
  {
   "cell_type": "code",
   "execution_count": 3,
   "metadata": {},
   "outputs": [
    {
     "name": "stdout",
     "output_type": "stream",
     "text": [
      "임금님 귀는 당나귀 귀다!\n"
     ]
    }
   ],
   "source": [
    "# instance를 만들어서 class를 사용\n",
    "instance01 = Services()\n",
    "print(instance01.secret)"
   ]
  },
  {
   "cell_type": "code",
   "execution_count": 4,
   "metadata": {},
   "outputs": [],
   "source": [
    "# Class 선언\n",
    "class Services:\n",
    "    secret = \"임금님 귀는 당나귀 귀다!\"\n",
    "    def sum(self, num01, num02): \n",
    "        result = num01 + num02\n",
    "        print(\"%d + %d = %d 입니다. \"%(num01, num02, result))"
   ]
  },
  {
   "cell_type": "code",
   "execution_count": 6,
   "metadata": {},
   "outputs": [
    {
     "name": "stdout",
     "output_type": "stream",
     "text": [
      "임금님 귀는 당나귀 귀다!\n",
      "2 + 3 = 5 입니다. \n",
      "None\n"
     ]
    }
   ],
   "source": [
    "# instance를 만들어서 class를 사용\n",
    "instance01 = Services()\n",
    "print(instance01.secret)\n",
    "print(instance01.sum(2,3))"
   ]
  },
  {
   "cell_type": "code",
   "execution_count": 7,
   "metadata": {},
   "outputs": [],
   "source": [
    "# Class 선언\n",
    "class Services:\n",
    "    name = \"\"\n",
    "    secret = \"임금님 귀는 당나귀 귀다!\"\n",
    "    def setname(self, name):\n",
    "        self.name = name\n",
    "    def sum(self, num01, num02):\n",
    "        result = num01 + num02\n",
    "        print(\"%s님: %d + %d = %d 입니다. \"%( self.name, num01, num02, result))"
   ]
  },
  {
   "cell_type": "code",
   "execution_count": 9,
   "metadata": {},
   "outputs": [
    {
     "name": "stdout",
     "output_type": "stream",
     "text": [
      "유비님: 2 + 3 = 5 입니다. \n",
      "None\n"
     ]
    }
   ],
   "source": [
    "# instance를 만들어서 class를 사용\n",
    "instance01 = Services() # Services() : 생성자\n",
    "instance01.setname(\"유비\")\n",
    "print(instance01.sum(2,3))"
   ]
  },
  {
   "cell_type": "code",
   "execution_count": 10,
   "metadata": {},
   "outputs": [],
   "source": [
    "# Class 선언\n",
    "class Services:\n",
    "    name = \"\"\n",
    "    secret = \"임금님 귀는 당나귀 귀다!\"\n",
    "    def __init__(self, name): # 생성자\n",
    "        self.name = name\n",
    "    def sum(self, num01, num02):\n",
    "        result = num01 + num02\n",
    "        print(\"%s님: %d + %d = %d 입니다. \"%( self.name, num01, num02, result))"
   ]
  },
  {
   "cell_type": "code",
   "execution_count": 11,
   "metadata": {},
   "outputs": [
    {
     "name": "stdout",
     "output_type": "stream",
     "text": [
      "관우님: 2 + 3 = 5 입니다. \n"
     ]
    }
   ],
   "source": [
    "instance01 = Services(\"관우\") # 생성자에 init으로 썼기 떄문에 생성자 선언할때 name을 적어줘야 한다.\n",
    "instance01.sum(2,3)"
   ]
  },
  {
   "cell_type": "markdown",
   "metadata": {},
   "source": [
    "실습"
   ]
  },
  {
   "cell_type": "code",
   "execution_count": 22,
   "metadata": {},
   "outputs": [],
   "source": [
    "class Calc:\n",
    "    def setData(self, num1, num2):\n",
    "        self.num1 = num1 # self. 붙은거 자체가 전역변수\n",
    "        self.num2 = num2\n",
    "    def sum(self):\n",
    "        return self.num1 + self.num2 \n",
    "    def sub(self):\n",
    "        return self.num1 - self.num2\n",
    "    def mul(self):\n",
    "        return self.num1 * self.num2\n",
    "    def div(self):\n",
    "        return self.num1 / self.num2"
   ]
  },
  {
   "cell_type": "code",
   "execution_count": 23,
   "metadata": {},
   "outputs": [
    {
     "name": "stdout",
     "output_type": "stream",
     "text": [
      "덧셈 6\n",
      "곱셈 8\n",
      "뺄셈 2\n",
      "나눗셈 2.0\n"
     ]
    }
   ],
   "source": [
    "# 문제\n",
    "calc01 = Calc()\n",
    "calc01.setData(4,2)\n",
    "print(\"덧셈\" , calc01.sum())\n",
    "print(\"곱셈\" , calc01.mul())\n",
    "print(\"뺄셈\" , calc01.sub())\n",
    "print(\"나눗셈\" , calc01.div())"
   ]
  },
  {
   "cell_type": "code",
   "execution_count": 16,
   "metadata": {},
   "outputs": [],
   "source": [
    "class Calc:\n",
    "    num1 = 0\n",
    "    num2 = 0\n",
    "    def __init__(self, num1, num2):\n",
    "        self.num1 = num1\n",
    "        self.num2 = num2\n",
    "    def sum(self):\n",
    "        return self.num1 + self.num2\n",
    "    def mul(self):\n",
    "        return self.num1 * self.num2\n",
    "    def sub(self):\n",
    "        return self.num1 - self.num2\n",
    "    def div(self):\n",
    "        return self.num1 / self.num2"
   ]
  },
  {
   "cell_type": "code",
   "execution_count": 17,
   "metadata": {},
   "outputs": [
    {
     "name": "stdout",
     "output_type": "stream",
     "text": [
      "덧셈 8\n",
      "곱셈 15\n",
      "뺄셈 2\n",
      "나눗셈 1.6666666666666667\n"
     ]
    }
   ],
   "source": [
    "calc01 = Calc(5,3)\n",
    "print(\"덧셈\" , calc01.sum())\n",
    "print(\"곱셈\" , calc01.mul())\n",
    "print(\"뺄셈\" , calc01.sub())\n",
    "print(\"나눗셈\" , calc01.div())"
   ]
  },
  {
   "cell_type": "markdown",
   "metadata": {},
   "source": [
    "---"
   ]
  }
 ],
 "metadata": {
  "kernelspec": {
   "display_name": "Python 3.9.7 ('base')",
   "language": "python",
   "name": "python3"
  },
  "language_info": {
   "codemirror_mode": {
    "name": "ipython",
    "version": 3
   },
   "file_extension": ".py",
   "mimetype": "text/x-python",
   "name": "python",
   "nbconvert_exporter": "python",
   "pygments_lexer": "ipython3",
   "version": "3.9.7"
  },
  "orig_nbformat": 4,
  "vscode": {
   "interpreter": {
    "hash": "c34e8390e776d2ee205b71ed5a6130fee3cef8da5e87e926ce18e14f4a070d72"
   }
  }
 },
 "nbformat": 4,
 "nbformat_minor": 2
}
