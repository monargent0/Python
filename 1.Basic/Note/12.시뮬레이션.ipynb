{
 "cells": [
  {
   "cell_type": "markdown",
   "metadata": {},
   "source": [
    "# 몬테카를로 시뮬레이션\n",
    ": 자료가 없을 경우 난수를 통해서 가설 증명"
   ]
  },
  {
   "cell_type": "code",
   "execution_count": 1,
   "metadata": {},
   "outputs": [],
   "source": [
    "# 동전의 앞면과 뒷면이 나올 확률이 같다는 것을 증명"
   ]
  },
  {
   "cell_type": "code",
   "execution_count": 2,
   "metadata": {},
   "outputs": [],
   "source": [
    "import random"
   ]
  },
  {
   "cell_type": "code",
   "execution_count": 3,
   "metadata": {},
   "outputs": [
    {
     "data": {
      "text/plain": [
       "1"
      ]
     },
     "execution_count": 3,
     "metadata": {},
     "output_type": "execute_result"
    }
   ],
   "source": [
    "random.randint(1,10)"
   ]
  },
  {
   "cell_type": "code",
   "execution_count": 4,
   "metadata": {},
   "outputs": [],
   "source": [
    "def coinF(n):\n",
    "    coinFront = coinRear = 0\n",
    "    for i in range(1,n+1):\n",
    "        x = random.randint(1,2) # 앞면 뒷면\n",
    "        if x == 1:\n",
    "            coinFront += 1\n",
    "        else:\n",
    "            coinRear += 1\n",
    "    print(\"%7d번 시도시 동전의 앞면은 %6d번이고 동전의 뒷면은 %6d번 입니다\"%(n,coinFront,coinRear))"
   ]
  },
  {
   "cell_type": "code",
   "execution_count": 5,
   "metadata": {},
   "outputs": [
    {
     "name": "stdout",
     "output_type": "stream",
     "text": [
      "     10번 시도시 동전의 앞면은      5번이고 동전의 뒷면은      5번 입니다\n",
      "    100번 시도시 동전의 앞면은     59번이고 동전의 뒷면은     41번 입니다\n",
      "   1000번 시도시 동전의 앞면은    509번이고 동전의 뒷면은    491번 입니다\n",
      "  10000번 시도시 동전의 앞면은   4947번이고 동전의 뒷면은   5053번 입니다\n",
      " 100000번 시도시 동전의 앞면은  49920번이고 동전의 뒷면은  50080번 입니다\n",
      "1000000번 시도시 동전의 앞면은 499072번이고 동전의 뒷면은 500928번 입니다\n"
     ]
    }
   ],
   "source": [
    "coinF(10)\n",
    "coinF(100)\n",
    "coinF(1000)\n",
    "coinF(10000)\n",
    "coinF(100000)\n",
    "coinF(1000000)"
   ]
  },
  {
   "cell_type": "code",
   "execution_count": 6,
   "metadata": {},
   "outputs": [],
   "source": [
    "# 가위바위보\n",
    "def rspF(n):\n",
    "    rock = scissor = paper = 0\n",
    "    for i in range(1, n+1):\n",
    "        x = random.randint(1,3)\n",
    "        if x == 1 :\n",
    "            rock += 1\n",
    "        elif x == 2 :\n",
    "            scissor += 1\n",
    "        else :\n",
    "            paper += 1\n",
    "    print(\"%7d번 시도시 가위는 %6d번 이고 바위는 %6d번 이고 보는 %6d번 입니다.\"%(n , scissor , rock , paper))"
   ]
  },
  {
   "cell_type": "code",
   "execution_count": 7,
   "metadata": {},
   "outputs": [
    {
     "name": "stdout",
     "output_type": "stream",
     "text": [
      "     10번 시도시 가위는      2번 이고 바위는      4번 이고 보는      4번 입니다.\n",
      "    100번 시도시 가위는     31번 이고 바위는     40번 이고 보는     29번 입니다.\n",
      "   1000번 시도시 가위는    361번 이고 바위는    308번 이고 보는    331번 입니다.\n",
      "  10000번 시도시 가위는   3390번 이고 바위는   3266번 이고 보는   3344번 입니다.\n",
      " 100000번 시도시 가위는  33595번 이고 바위는  33111번 이고 보는  33294번 입니다.\n",
      "1000000번 시도시 가위는 333366번 이고 바위는 333293번 이고 보는 333341번 입니다.\n"
     ]
    }
   ],
   "source": [
    "rspF(10)\n",
    "rspF(100)\n",
    "rspF(1000)\n",
    "rspF(10000)\n",
    "rspF(100000)\n",
    "rspF(1000000)"
   ]
  },
  {
   "cell_type": "markdown",
   "metadata": {},
   "source": [
    "---"
   ]
  }
 ],
 "metadata": {
  "kernelspec": {
   "display_name": "Python 3.9.7 ('base')",
   "language": "python",
   "name": "python3"
  },
  "language_info": {
   "codemirror_mode": {
    "name": "ipython",
    "version": 3
   },
   "file_extension": ".py",
   "mimetype": "text/x-python",
   "name": "python",
   "nbconvert_exporter": "python",
   "pygments_lexer": "ipython3",
   "version": "3.9.7"
  },
  "orig_nbformat": 4,
  "vscode": {
   "interpreter": {
    "hash": "c34e8390e776d2ee205b71ed5a6130fee3cef8da5e87e926ce18e14f4a070d72"
   }
  }
 },
 "nbformat": 4,
 "nbformat_minor": 2
}
