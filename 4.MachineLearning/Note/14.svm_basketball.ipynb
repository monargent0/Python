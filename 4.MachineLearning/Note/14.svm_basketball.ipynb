{
 "cells": [
  {
   "cell_type": "markdown",
   "metadata": {},
   "source": [
    "# SVM (Support Vector Machine)\n",
    "- 선형 SVM : 커널을 사용하지 않고 데이터를 분류, 비용을 조절해서 마진의 크기를 조절\n",
    "- 커널 트릭 : 선형 분리가 주어진 차원에서 불가능할 경우 고차원으로 데이터를 옮기는 효과를 찾음. 비용(C)과 gamma(RBF 커널)을 조절해서 마진의 크기를 조절\n",
    "- 함수의 표준편차를 조정함으로써 결정 경계의 곡률을 조정하며 이 표준편차의 조정변수를 감마라고 한다."
   ]
  },
  {
   "cell_type": "markdown",
   "metadata": {},
   "source": [
    "### 파라미터 튜닝\n",
    ": 정확도를 높히기 위해 비용(C)과 감마의 수치를 조정함으로써 정확도를 높일 수 있음.\n",
    "- 비용 : 마진 너비 조절 변수, 클수록 마진 너비가 좁아지고, 작을수록 마진 너비가 넓어진다. (비용 : 오차)\n",
    "- 감마 : 커널의 표준편차 조절변수, 작을수록 데이터포인트의 영향이 커져서 경계가 완만해지고 (직선을 이루고),     \n",
    "클수록 데이터 포인트가 결정경계에 영향을 미쳐서 경계가 구부러진다.(곡선을 이룬다)\n",
    "        \n",
    "*커널이 너무 크면 과대적합이 된다. C와 감마를 잘 조절하는게 중요하다*\n"
   ]
  },
  {
   "cell_type": "code",
   "execution_count": 1,
   "metadata": {},
   "outputs": [],
   "source": [
    "import pandas as pd"
   ]
  },
  {
   "cell_type": "code",
   "execution_count": 2,
   "metadata": {},
   "outputs": [],
   "source": [
    "train = pd.read_csv('../Data/basketball_train.csv')\n",
    "test = pd.read_csv('../Data/basketball_test.csv')"
   ]
  },
  {
   "cell_type": "markdown",
   "metadata": {},
   "source": [
    "### GridSearch를 이용하여 C와 gamma 구하기"
   ]
  },
  {
   "cell_type": "code",
   "execution_count": 3,
   "metadata": {},
   "outputs": [],
   "source": [
    "from sklearn.svm import SVC\n",
    "from sklearn.model_selection import GridSearchCV"
   ]
  },
  {
   "cell_type": "code",
   "execution_count": 4,
   "metadata": {},
   "outputs": [],
   "source": [
    "def svc_param_selection(X, y, nfolds):\n",
    "    svm_parameters = [\n",
    "        {\n",
    "            'kernel' : ['rbf'], # kernel 이 linear이면 C Parameter만 사용(직선으로만 찾을거야) , rdf 면 C와 gamma를 모두 사용 (곡선까지 동원해서 찾을거야)\n",
    "            'gamma' : [0.00001, 0.0001, 0.001 , 0.01, 0.1, 1], # 범위\n",
    "            'C' : [0.01, 0.1, 1, 10, 100, 1000] #\n",
    "        }\n",
    "    ]\n",
    "    clf = GridSearchCV(\n",
    "        SVC(), # 무슨 모델 쓸거야\n",
    "        svm_parameters, # 옵션들 한번에 입력 \n",
    "        cv = nfolds # 교차검증 횟수 10번\n",
    "        )\n",
    "    clf.fit(X , y) # 학습\n",
    "    print(clf.best_params_) # best_params_ : 최적의 결과값\n",
    "    # 맨 끝에 _ 가 있는 변수는 함부로 쓰면 안됨\n",
    "    return clf"
   ]
  },
  {
   "cell_type": "code",
   "execution_count": 5,
   "metadata": {},
   "outputs": [
    {
     "name": "stdout",
     "output_type": "stream",
     "text": [
      "{'C': 1, 'gamma': 1, 'kernel': 'rbf'}\n"
     ]
    }
   ],
   "source": [
    "x_train = train[['3P' , 'BLK']]\n",
    "y_train = train['Pos']\n",
    "clf = svc_param_selection(x_train, y_train, 10) # 학습까지 완료 된것"
   ]
  },
  {
   "cell_type": "code",
   "execution_count": 6,
   "metadata": {},
   "outputs": [
    {
     "data": {
      "text/plain": [
       "0.95"
      ]
     },
     "execution_count": 6,
     "metadata": {},
     "output_type": "execute_result"
    }
   ],
   "source": [
    "x_test = test[['3P','BLK']]\n",
    "y_test = test['Pos']\n",
    "clf.score(x_test , y_test)"
   ]
  },
  {
   "cell_type": "markdown",
   "metadata": {},
   "source": [
    "---"
   ]
  }
 ],
 "metadata": {
  "kernelspec": {
   "display_name": "Python 3.9.7 ('base')",
   "language": "python",
   "name": "python3"
  },
  "language_info": {
   "codemirror_mode": {
    "name": "ipython",
    "version": 3
   },
   "file_extension": ".py",
   "mimetype": "text/x-python",
   "name": "python",
   "nbconvert_exporter": "python",
   "pygments_lexer": "ipython3",
   "version": "3.9.7"
  },
  "orig_nbformat": 4,
  "vscode": {
   "interpreter": {
    "hash": "c34e8390e776d2ee205b71ed5a6130fee3cef8da5e87e926ce18e14f4a070d72"
   }
  }
 },
 "nbformat": 4,
 "nbformat_minor": 2
}
