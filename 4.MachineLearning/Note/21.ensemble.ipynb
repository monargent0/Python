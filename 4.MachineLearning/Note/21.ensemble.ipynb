{
 "cells": [
  {
   "cell_type": "markdown",
   "metadata": {},
   "source": [
    "bagging : 기존 모델들을 조합    \n",
    "머신러닝은 앙상블이다 라고 생각해도 무방할정도로 중요하다"
   ]
  },
  {
   "cell_type": "markdown",
   "metadata": {},
   "source": [
    "# 앙상블\n",
    "- 여러개의 분류모델을 조합해서 더 나은 성능을 내는 방법"
   ]
  },
  {
   "cell_type": "markdown",
   "metadata": {},
   "source": [
    "## RandomForest\n",
    ": 의사결정트리 bagging(단일 모델 조합)해서 예측을 실행하는 모델"
   ]
  },
  {
   "cell_type": "code",
   "execution_count": 1,
   "metadata": {},
   "outputs": [],
   "source": [
    "from sklearn import datasets\n",
    "\n",
    "import numpy as np\n",
    "np.random.seed(5)"
   ]
  },
  {
   "cell_type": "code",
   "execution_count": 2,
   "metadata": {},
   "outputs": [],
   "source": [
    "# 손글씨 데이터\n",
    "mnist = datasets.load_digits()\n",
    "features , labels = mnist.data , mnist.target"
   ]
  },
  {
   "cell_type": "code",
   "execution_count": 4,
   "metadata": {},
   "outputs": [
    {
     "data": {
      "text/plain": [
       "1797"
      ]
     },
     "execution_count": 4,
     "metadata": {},
     "output_type": "execute_result"
    }
   ],
   "source": [
    "len(mnist.data) # array 로 들어가 있음"
   ]
  },
  {
   "cell_type": "code",
   "execution_count": 13,
   "metadata": {},
   "outputs": [
    {
     "data": {
      "text/plain": [
       "array([0, 1, 2, ..., 8, 9, 8])"
      ]
     },
     "execution_count": 13,
     "metadata": {},
     "output_type": "execute_result"
    }
   ],
   "source": [
    "labels"
   ]
  },
  {
   "cell_type": "code",
   "execution_count": 14,
   "metadata": {},
   "outputs": [
    {
     "data": {
      "text/plain": [
       "[0.8252731222842955,\n",
       " 0.823026070763501,\n",
       " 0.8319180633147113,\n",
       " 0.8230074487895717,\n",
       " 0.8263687150837988,\n",
       " 0.8319242706393544,\n",
       " 0.8291620111731843,\n",
       " 0.8341495965238982,\n",
       " 0.8296803227808814,\n",
       " 0.8219180633147113]"
      ]
     },
     "execution_count": 14,
     "metadata": {},
     "output_type": "execute_result"
    }
   ],
   "source": [
    "# 의사결정 나무를 이용한 10번의 교차 검증 10번 실시\n",
    "from sklearn import tree\n",
    "from sklearn.model_selection import cross_val_score\n",
    "\n",
    "cv_scores = []\n",
    "ct = tree.DecisionTreeClassifier()\n",
    "\n",
    "for i in range(10):\n",
    "    scores = cross_val_score(ct , features , labels , cv = 10 , scoring='accuracy') \n",
    "    cv_scores.append(scores.mean())\n",
    "\n",
    "cv_scores"
   ]
  },
  {
   "cell_type": "code",
   "execution_count": 15,
   "metadata": {},
   "outputs": [
    {
     "data": {
      "text/plain": [
       "[0.9465673494723774,\n",
       " 0.9476939788950961,\n",
       " 0.9510086902545002,\n",
       " 0.9549099937926753,\n",
       " 0.9471260086902544,\n",
       " 0.9454593420235877,\n",
       " 0.9510335195530726,\n",
       " 0.9499130974549969,\n",
       " 0.9488019863438858,\n",
       " 0.94768156424581]"
      ]
     },
     "execution_count": 15,
     "metadata": {},
     "output_type": "execute_result"
    }
   ],
   "source": [
    "# RandomForest를 이용한 교차검증(10회) 10번\n",
    "from sklearn.ensemble import RandomForestClassifier\n",
    "\n",
    "cv_scores = []\n",
    "rf = RandomForestClassifier()\n",
    "\n",
    "for i in range(10):\n",
    "    scores = cross_val_score(rf , features , labels , cv = 10 , scoring='accuracy')\n",
    "    cv_scores.append(scores.mean())\n",
    "\n",
    "cv_scores"
   ]
  },
  {
   "cell_type": "code",
   "execution_count": 20,
   "metadata": {},
   "outputs": [],
   "source": [
    "def cross_validation(model, X_train , y_train ):\n",
    "    list_scores = []\n",
    "    for i in range(10):\n",
    "        scores = cross_val_score( model , X_train , y_train , cv = 10 , scoring='accuracy')\n",
    "        list_scores.append(scores.mean())\n",
    "    return list_scores"
   ]
  },
  {
   "cell_type": "code",
   "execution_count": 21,
   "metadata": {},
   "outputs": [
    {
     "data": {
      "text/plain": [
       "[0.8291558038485413,\n",
       " 0.8219025450031037,\n",
       " 0.8219025450031037,\n",
       " 0.8341620111731844,\n",
       " 0.8369273743016759,\n",
       " 0.8241527001862197,\n",
       " 0.8335878336436995,\n",
       " 0.8229981378026071,\n",
       " 0.82967721911856,\n",
       " 0.8252234636871508]"
      ]
     },
     "execution_count": 21,
     "metadata": {},
     "output_type": "execute_result"
    }
   ],
   "source": [
    "# 의사결정나무\n",
    "dt_cv_scores = cross_validation( tree.DecisionTreeClassifier() , features , labels)\n",
    "dt_cv_scores"
   ]
  },
  {
   "cell_type": "code",
   "execution_count": 22,
   "metadata": {},
   "outputs": [
    {
     "data": {
      "text/plain": [
       "[0.9510211049037863,\n",
       " 0.9499006828057107,\n",
       " 0.9532495344506516,\n",
       " 0.9510273122284294,\n",
       " 0.9526908752327745,\n",
       " 0.9487988826815641,\n",
       " 0.946582867783985,\n",
       " 0.9499099937926753,\n",
       " 0.9526846679081314,\n",
       " 0.949366852886406]"
      ]
     },
     "execution_count": 22,
     "metadata": {},
     "output_type": "execute_result"
    }
   ],
   "source": [
    "# RandomForest\n",
    "rf_cv_scores = cross_validation( RandomForestClassifier(), features, labels)\n",
    "rf_cv_scores"
   ]
  },
  {
   "cell_type": "markdown",
   "metadata": {},
   "source": [
    "### 랜덤포레스트와 의사결정나무의 정확도 시각화"
   ]
  },
  {
   "cell_type": "code",
   "execution_count": 25,
   "metadata": {},
   "outputs": [
    {
     "data": {
      "image/png": "[encoded data removed]",
      "text/plain": [
       "<Figure size 432x288 with 1 Axes>"
      ]
     },
     "metadata": {
      "needs_background": "light"
     },
     "output_type": "display_data"
    }
   ],
   "source": [
    "import matplotlib.pyplot as plt\n",
    "import pandas as pd\n",
    "\n",
    "cv_list = {'random_forest' : rf_cv_scores, 'decision_tree' : dt_cv_scores}\n",
    "df = pd.DataFrame(cv_list)\n",
    "df.plot()\n",
    "plt.show()\n",
    "\n",
    "# 앙상블 한것(랜덤포레스트)과 안 한것(의사결정나무)의 차이"
   ]
  },
  {
   "cell_type": "markdown",
   "metadata": {},
   "source": [
    "---\n",
    "# 보팅(voting) 앙상블\n",
    ": 단일 모델을 앙상블하여 더 나은 예측을 하는 모델 생성  \n",
    "// 투표, 2~3개 모델 후보를 두고 그때그때 적합한 모델을 사용하게 한다"
   ]
  },
  {
   "cell_type": "code",
   "execution_count": 26,
   "metadata": {},
   "outputs": [],
   "source": [
    "from sklearn.model_selection import train_test_split\n",
    "X_train, X_test, y_train, y_test = train_test_split(features, labels, test_size= 0.2)"
   ]
  },
  {
   "cell_type": "markdown",
   "metadata": {},
   "source": [
    "### 단일 모델 정확도 특정"
   ]
  },
  {
   "cell_type": "code",
   "execution_count": 44,
   "metadata": {},
   "outputs": [
    {
     "name": "stdout",
     "output_type": "stream",
     "text": [
      "dtree : 0.8583333333333333\n"
     ]
    }
   ],
   "source": [
    "# 의사결정나무\n",
    "dtree = tree.DecisionTreeClassifier().fit(X_train, y_train)\n",
    "dtree_score = dtree.score(X_test, y_test)\n",
    "print(\"dtree :\", dtree_score)"
   ]
  },
  {
   "cell_type": "code",
   "execution_count": 45,
   "metadata": {},
   "outputs": [
    {
     "name": "stdout",
     "output_type": "stream",
     "text": [
      "KNN : 0.9944444444444445\n"
     ]
    }
   ],
   "source": [
    "# KNN\n",
    "from sklearn.neighbors import KNeighborsClassifier\n",
    "knn = KNeighborsClassifier().fit(X_train, y_train)\n",
    "knn_score = knn.score(X_test, y_test)\n",
    "print(\"KNN :\",knn_score)"
   ]
  },
  {
   "cell_type": "code",
   "execution_count": 46,
   "metadata": {},
   "outputs": [
    {
     "name": "stdout",
     "output_type": "stream",
     "text": [
      "SVM : 0.9944444444444445\n"
     ]
    }
   ],
   "source": [
    "# SVM\n",
    "from sklearn.svm import SVC\n",
    "svm = SVC(probability = True).fit(X_train, y_train) # probability=True 수치 내놓음\n",
    "svm_score = svm.score(X_test, y_test)\n",
    "print(\"SVM :\", svm_score)"
   ]
  },
  {
   "cell_type": "markdown",
   "metadata": {},
   "source": [
    "### 하드 보팅\n",
    ": 각각의 분류기의 예측값들을 모아, 가장 많은 득표를 받은 예측값으로 최종 결론을 내는 방식 입니다.   \n",
    "// count, "
   ]
  },
  {
   "cell_type": "code",
   "execution_count": 47,
   "metadata": {},
   "outputs": [
    {
     "data": {
      "text/plain": [
       "0.9944444444444445"
      ]
     },
     "execution_count": 47,
     "metadata": {},
     "output_type": "execute_result"
    }
   ],
   "source": [
    "from sklearn.ensemble import VotingClassifier\n",
    "voting_clf = VotingClassifier(\n",
    "    estimators = [('decision_tree', dtree) , ('knn',knn,), ('svm', svm)], # 위에서 단일 모델 학습시킨 것들\n",
    "    weights=[1,1,1], # (투표권한) 가중치 y^=wX+B에서 w(기울기)이다. knn, svm이 정확도가 더 높기 때문에 더 많이 줘야 하지만 지금은 1로 동일하게 줌,\n",
    "    voting= 'hard',\n",
    ").fit(X_train, y_train)\n",
    "\n",
    "voting_clf.score(X_test, y_test)"
   ]
  },
  {
   "cell_type": "markdown",
   "metadata": {},
   "source": [
    "### 소프트 보팅\n",
    ": 각각의 분류모델을 활용하여 모든 분류값들의 확률들을 더해서 가장 높은 점수를 획득한 분류값으로 최종결론을 내는 방식입니다.     \n",
    "// 확률 , 나중에 가면 좋음 . 과대적합이 안 생김"
   ]
  },
  {
   "cell_type": "code",
   "execution_count": 48,
   "metadata": {},
   "outputs": [
    {
     "data": {
      "text/plain": [
       "0.9861111111111112"
      ]
     },
     "execution_count": 48,
     "metadata": {},
     "output_type": "execute_result"
    }
   ],
   "source": [
    "from sklearn.ensemble import VotingClassifier\n",
    "voting_clf = VotingClassifier(\n",
    "    estimators = [('decision_tree', dtree) , ('knn',knn,), ('svm', svm)], # 위에서 단일 모델 학습시킨 것들\n",
    "    weights=[1,1,1], # (투표권한) 가중치 y^=wX+B에서 w(기울기)이다. knn, svm이 정확도가 더 높기 때문에 더 많이 줘야 하지만 지금은 1로 동일하게 줌,\n",
    "    voting= 'soft',\n",
    ").fit(X_train, y_train)\n",
    "\n",
    "voting_clf.score(X_test, y_test)"
   ]
  },
  {
   "cell_type": "markdown",
   "metadata": {},
   "source": [
    "---"
   ]
  }
 ],
 "metadata": {
  "kernelspec": {
   "display_name": "Python 3.9.7 ('base')",
   "language": "python",
   "name": "python3"
  },
  "language_info": {
   "codemirror_mode": {
    "name": "ipython",
    "version": 3
   },
   "file_extension": ".py",
   "mimetype": "text/x-python",
   "name": "python",
   "nbconvert_exporter": "python",
   "pygments_lexer": "ipython3",
   "version": "3.9.7"
  },
  "orig_nbformat": 4,
  "vscode": {
   "interpreter": {
    "hash": "c34e8390e776d2ee205b71ed5a6130fee3cef8da5e87e926ce18e14f4a070d72"
   }
  }
 },
 "nbformat": 4,
 "nbformat_minor": 2
}
