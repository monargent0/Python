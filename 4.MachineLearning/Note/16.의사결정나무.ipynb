{
 "cells": [
  {
   "cell_type": "markdown",
   "metadata": {},
   "source": [
    "# 의사결정나무\n",
    "주 장점(나무유형머신러닝) : 데이터를 정규화할 필요가 없다. 계속 구분하는것이기 때문\n",
    "- 데이터 분류 및 회귀에 사용되는 지도학습 알고리즘"
   ]
  },
  {
   "cell_type": "markdown",
   "metadata": {},
   "source": [
    "### 문제 정의\n",
    "서울 지역(구)의 경도와 위도 정보를 사용하여     \n",
    "임의로 입력된 지역(동)을 강동, 강서, 강남, 강북으로 분류해보는 예제"
   ]
  },
  {
   "cell_type": "code",
   "execution_count": 40,
   "metadata": {},
   "outputs": [],
   "source": [
    "import pandas as pd"
   ]
  },
  {
   "cell_type": "markdown",
   "metadata": {},
   "source": [
    "label : 서울을 동서남북 4등분한 기준 강동/강서/강남/강북"
   ]
  },
  {
   "cell_type": "code",
   "execution_count": 41,
   "metadata": {},
   "outputs": [
    {
     "data": {
      "text/html": [
       "<div>\n",
       "<style scoped>\n",
       "    .dataframe tbody tr th:only-of-type {\n",
       "        vertical-align: middle;\n",
       "    }\n",
       "\n",
       "    .dataframe tbody tr th {\n",
       "        vertical-align: top;\n",
       "    }\n",
       "\n",
       "    .dataframe thead th {\n",
       "        text-align: right;\n",
       "    }\n",
       "</style>\n",
       "<table border=\"1\" class=\"dataframe\">\n",
       "  <thead>\n",
       "    <tr style=\"text-align: right;\">\n",
       "      <th></th>\n",
       "      <th>district</th>\n",
       "      <th>longitude</th>\n",
       "      <th>latitude</th>\n",
       "      <th>label</th>\n",
       "    </tr>\n",
       "  </thead>\n",
       "  <tbody>\n",
       "    <tr>\n",
       "      <th>0</th>\n",
       "      <td>강서구</td>\n",
       "      <td>126.849500</td>\n",
       "      <td>37.551000</td>\n",
       "      <td>강서</td>\n",
       "    </tr>\n",
       "    <tr>\n",
       "      <th>1</th>\n",
       "      <td>양천구</td>\n",
       "      <td>126.855396</td>\n",
       "      <td>37.524240</td>\n",
       "      <td>강서</td>\n",
       "    </tr>\n",
       "    <tr>\n",
       "      <th>2</th>\n",
       "      <td>구로구</td>\n",
       "      <td>126.887400</td>\n",
       "      <td>37.495400</td>\n",
       "      <td>강서</td>\n",
       "    </tr>\n",
       "    <tr>\n",
       "      <th>3</th>\n",
       "      <td>금천구</td>\n",
       "      <td>126.902000</td>\n",
       "      <td>37.451900</td>\n",
       "      <td>강서</td>\n",
       "    </tr>\n",
       "    <tr>\n",
       "      <th>4</th>\n",
       "      <td>마포구</td>\n",
       "      <td>126.908728</td>\n",
       "      <td>37.560229</td>\n",
       "      <td>강서</td>\n",
       "    </tr>\n",
       "  </tbody>\n",
       "</table>\n",
       "</div>"
      ],
      "text/plain": [
       "  district   longitude   latitude label\n",
       "0      강서구  126.849500  37.551000    강서\n",
       "1      양천구  126.855396  37.524240    강서\n",
       "2      구로구  126.887400  37.495400    강서\n",
       "3      금천구  126.902000  37.451900    강서\n",
       "4      마포구  126.908728  37.560229    강서"
      ]
     },
     "execution_count": 41,
     "metadata": {},
     "output_type": "execute_result"
    }
   ],
   "source": [
    "train_df = pd.read_csv(\"../Data/seoul_district.csv\")\n",
    "train_df.head()"
   ]
  },
  {
   "cell_type": "code",
   "execution_count": 42,
   "metadata": {},
   "outputs": [
    {
     "data": {
      "text/html": [
       "<div>\n",
       "<style scoped>\n",
       "    .dataframe tbody tr th:only-of-type {\n",
       "        vertical-align: middle;\n",
       "    }\n",
       "\n",
       "    .dataframe tbody tr th {\n",
       "        vertical-align: top;\n",
       "    }\n",
       "\n",
       "    .dataframe thead th {\n",
       "        text-align: right;\n",
       "    }\n",
       "</style>\n",
       "<table border=\"1\" class=\"dataframe\">\n",
       "  <thead>\n",
       "    <tr style=\"text-align: right;\">\n",
       "      <th></th>\n",
       "      <th>dong</th>\n",
       "      <th>longitude</th>\n",
       "      <th>latitude</th>\n",
       "      <th>label</th>\n",
       "    </tr>\n",
       "  </thead>\n",
       "  <tbody>\n",
       "    <tr>\n",
       "      <th>0</th>\n",
       "      <td>개봉동</td>\n",
       "      <td>126.854547</td>\n",
       "      <td>37.489853</td>\n",
       "      <td>강서</td>\n",
       "    </tr>\n",
       "    <tr>\n",
       "      <th>1</th>\n",
       "      <td>고척동</td>\n",
       "      <td>126.859245</td>\n",
       "      <td>37.501394</td>\n",
       "      <td>강서</td>\n",
       "    </tr>\n",
       "    <tr>\n",
       "      <th>2</th>\n",
       "      <td>화곡동</td>\n",
       "      <td>126.847951</td>\n",
       "      <td>37.537759</td>\n",
       "      <td>강서</td>\n",
       "    </tr>\n",
       "    <tr>\n",
       "      <th>3</th>\n",
       "      <td>방화동</td>\n",
       "      <td>126.815719</td>\n",
       "      <td>37.575817</td>\n",
       "      <td>강서</td>\n",
       "    </tr>\n",
       "    <tr>\n",
       "      <th>4</th>\n",
       "      <td>상암동</td>\n",
       "      <td>126.891620</td>\n",
       "      <td>37.577039</td>\n",
       "      <td>강서</td>\n",
       "    </tr>\n",
       "  </tbody>\n",
       "</table>\n",
       "</div>"
      ],
      "text/plain": [
       "  dong   longitude   latitude label\n",
       "0  개봉동  126.854547  37.489853    강서\n",
       "1  고척동  126.859245  37.501394    강서\n",
       "2  화곡동  126.847951  37.537759    강서\n",
       "3  방화동  126.815719  37.575817    강서\n",
       "4  상암동  126.891620  37.577039    강서"
      ]
     },
     "execution_count": 42,
     "metadata": {},
     "output_type": "execute_result"
    }
   ],
   "source": [
    "test_df = pd.read_csv('../Data/seoul_dong.csv')\n",
    "test_df.head() "
   ]
  },
  {
   "cell_type": "code",
   "execution_count": 43,
   "metadata": {},
   "outputs": [
    {
     "data": {
      "text/plain": [
       "강서    5\n",
       "강남    5\n",
       "강북    5\n",
       "강동    5\n",
       "Name: label, dtype: int64"
      ]
     },
     "execution_count": 43,
     "metadata": {},
     "output_type": "execute_result"
    }
   ],
   "source": [
    "train_df.label.value_counts()"
   ]
  },
  {
   "cell_type": "code",
   "execution_count": 44,
   "metadata": {},
   "outputs": [
    {
     "data": {
      "text/plain": [
       "강서    5\n",
       "강남    5\n",
       "강북    5\n",
       "강동    5\n",
       "Name: label, dtype: int64"
      ]
     },
     "execution_count": 44,
     "metadata": {},
     "output_type": "execute_result"
    }
   ],
   "source": [
    "test_df.label.value_counts()"
   ]
  },
  {
   "cell_type": "markdown",
   "metadata": {},
   "source": [
    "### 데이터 전처리"
   ]
  },
  {
   "cell_type": "code",
   "execution_count": 45,
   "metadata": {},
   "outputs": [
    {
     "name": "stdout",
     "output_type": "stream",
     "text": [
      "<class 'pandas.core.frame.DataFrame'>\n",
      "RangeIndex: 20 entries, 0 to 19\n",
      "Data columns (total 4 columns):\n",
      " #   Column     Non-Null Count  Dtype  \n",
      "---  ------     --------------  -----  \n",
      " 0   district   20 non-null     object \n",
      " 1   longitude  20 non-null     float64\n",
      " 2   latitude   20 non-null     float64\n",
      " 3   label      20 non-null     object \n",
      "dtypes: float64(2), object(2)\n",
      "memory usage: 768.0+ bytes\n",
      "<class 'pandas.core.frame.DataFrame'>\n",
      "RangeIndex: 20 entries, 0 to 19\n",
      "Data columns (total 4 columns):\n",
      " #   Column     Non-Null Count  Dtype  \n",
      "---  ------     --------------  -----  \n",
      " 0   dong       20 non-null     object \n",
      " 1   longitude  20 non-null     float64\n",
      " 2   latitude   20 non-null     float64\n",
      " 3   label      20 non-null     object \n",
      "dtypes: float64(2), object(2)\n",
      "memory usage: 768.0+ bytes\n"
     ]
    }
   ],
   "source": [
    "train_df.info()\n",
    "test_df.info()"
   ]
  },
  {
   "cell_type": "code",
   "execution_count": 46,
   "metadata": {},
   "outputs": [
    {
     "data": {
      "text/html": [
       "<div>\n",
       "<style scoped>\n",
       "    .dataframe tbody tr th:only-of-type {\n",
       "        vertical-align: middle;\n",
       "    }\n",
       "\n",
       "    .dataframe tbody tr th {\n",
       "        vertical-align: top;\n",
       "    }\n",
       "\n",
       "    .dataframe thead th {\n",
       "        text-align: right;\n",
       "    }\n",
       "</style>\n",
       "<table border=\"1\" class=\"dataframe\">\n",
       "  <thead>\n",
       "    <tr style=\"text-align: right;\">\n",
       "      <th></th>\n",
       "      <th>longitude</th>\n",
       "      <th>latitude</th>\n",
       "    </tr>\n",
       "  </thead>\n",
       "  <tbody>\n",
       "    <tr>\n",
       "      <th>count</th>\n",
       "      <td>20.000000</td>\n",
       "      <td>20.000000</td>\n",
       "    </tr>\n",
       "    <tr>\n",
       "      <th>mean</th>\n",
       "      <td>126.999772</td>\n",
       "      <td>37.547909</td>\n",
       "    </tr>\n",
       "    <tr>\n",
       "      <th>std</th>\n",
       "      <td>0.089387</td>\n",
       "      <td>0.055086</td>\n",
       "    </tr>\n",
       "    <tr>\n",
       "      <th>min</th>\n",
       "      <td>126.849500</td>\n",
       "      <td>37.451900</td>\n",
       "    </tr>\n",
       "    <tr>\n",
       "      <th>25%</th>\n",
       "      <td>126.913481</td>\n",
       "      <td>37.510177</td>\n",
       "    </tr>\n",
       "    <tr>\n",
       "      <th>50%</th>\n",
       "      <td>127.028844</td>\n",
       "      <td>37.552597</td>\n",
       "    </tr>\n",
       "    <tr>\n",
       "      <th>75%</th>\n",
       "      <td>127.056458</td>\n",
       "      <td>37.573690</td>\n",
       "    </tr>\n",
       "    <tr>\n",
       "      <th>max</th>\n",
       "      <td>127.151405</td>\n",
       "      <td>37.668800</td>\n",
       "    </tr>\n",
       "  </tbody>\n",
       "</table>\n",
       "</div>"
      ],
      "text/plain": [
       "        longitude   latitude\n",
       "count   20.000000  20.000000\n",
       "mean   126.999772  37.547909\n",
       "std      0.089387   0.055086\n",
       "min    126.849500  37.451900\n",
       "25%    126.913481  37.510177\n",
       "50%    127.028844  37.552597\n",
       "75%    127.056458  37.573690\n",
       "max    127.151405  37.668800"
      ]
     },
     "execution_count": 46,
     "metadata": {},
     "output_type": "execute_result"
    }
   ],
   "source": [
    "# 경도와 위도의 평균과 편차\n",
    "train_df.describe()"
   ]
  },
  {
   "cell_type": "markdown",
   "metadata": {},
   "source": [
    "> 경도와 위도는 동일한 단위를 사용  \n",
    "> 의사결정나무는 각 특징을 독립적으로 사용하기 때문에 별다른 전처리 과정이 필요 없다    \n",
    "*정규화 하면 각 특징이 없어져서 구분을 못한다. 큰일남!*"
   ]
  },
  {
   "cell_type": "code",
   "execution_count": 47,
   "metadata": {},
   "outputs": [],
   "source": [
    "# 한글 폰트 문제 해결 \n",
    "# matplotlib은 한글 폰트를 지원하지 않음\n",
    "# os정보\n",
    "import matplotlib.pyplot as plt\n",
    "import platform\n",
    "\n",
    "# font_manager : 폰트 관리 모듈\n",
    "# rc : 폰트 변경 모듈\n",
    "from matplotlib import font_manager, rc\n",
    "# unicode 설정\n",
    "plt.rcParams['axes.unicode_minus'] = False\n",
    "\n",
    "if platform.system() == 'Darwin':\n",
    "    rc('font', family='AppleGothic') # os가 macos\n",
    "elif platform.system() == 'Windows':\n",
    "    path = 'c:/Windows/Fonts/malgun.ttf' # os가 windows\n",
    "    font_name = font_manager.FontProperties(fname=path).get_name()\n",
    "    rc('font', family=font_name)\n",
    "else:\n",
    "    print(\"Unknown System\")"
   ]
  },
  {
   "cell_type": "code",
   "execution_count": 48,
   "metadata": {},
   "outputs": [],
   "source": [
    "import seaborn as sns \n",
    "import warnings \n",
    "warnings.filterwarnings('ignore')"
   ]
  },
  {
   "cell_type": "code",
   "execution_count": 49,
   "metadata": {},
   "outputs": [
    {
     "data": {
      "image/png": "[encoded data removed]",
      "text/plain": [
       "<Figure size 416x360 with 1 Axes>"
      ]
     },
     "metadata": {
      "needs_background": "light"
     },
     "output_type": "display_data"
    }
   ],
   "source": [
    "# train_df의 경도와 위도에 해당하는 label을 시각화 하려고 한다.\n",
    "sns.lmplot(\n",
    "\n",
    "    'longitude',\n",
    "    'latitude',\n",
    "    data= train_df,\n",
    "    fit_reg=False,\n",
    "    markers = ['o','x','+','*'],\n",
    "    scatter_kws={'s':100}, #좌표상의 점의 크기\n",
    "    hue='label', #대상값\n",
    "\n",
    ")\n",
    "plt.title('경도와 위도에 따른 분류 그래프')\n",
    "plt.show()"
   ]
  },
  {
   "cell_type": "markdown",
   "metadata": {},
   "source": [
    "### 데이터 다듬기\n",
    "- train_df 에서 district 제거\n",
    "- test_df 에서 dong 제거\n",
    "- X_train = 위도와 경도\n",
    "- y_train = 라벨\n",
    "- X_test = 위도와 경도\n",
    "- y_test = 라벨"
   ]
  },
  {
   "cell_type": "code",
   "execution_count": 50,
   "metadata": {},
   "outputs": [],
   "source": [
    "# 필요없는 컬럼 삭제\n",
    "train_df.drop('district' , axis='columns' , inplace= True)\n",
    "test_df.drop('dong' , axis='columns' , inplace= True)"
   ]
  },
  {
   "cell_type": "code",
   "execution_count": 51,
   "metadata": {},
   "outputs": [],
   "source": [
    "# 학습 데이터를 문제와 정답으로 분류\n",
    "X_train = train_df[['longitude','latitude']]\n",
    "y_train = train_df['label']"
   ]
  },
  {
   "cell_type": "code",
   "execution_count": 52,
   "metadata": {},
   "outputs": [],
   "source": [
    "# 테스트 데이터를 문제와 정답으로 분류\n",
    "X_test = test_df[['longitude','latitude']]\n",
    "y_test = test_df['label']"
   ]
  },
  {
   "cell_type": "markdown",
   "metadata": {},
   "source": [
    "### 의사결정 나무로 학습시키기 (random_state = 35)"
   ]
  },
  {
   "cell_type": "code",
   "execution_count": 59,
   "metadata": {},
   "outputs": [
    {
     "name": "stdout",
     "output_type": "stream",
     "text": [
      "정답률 :  0.95\n"
     ]
    }
   ],
   "source": [
    "from sklearn.tree import DecisionTreeClassifier\n",
    "clf = DecisionTreeClassifier(random_state=35)\n",
    "clf.fit(X_train, y_train)\n",
    "print(\"정답률 : \" , clf.score(X_test, y_test))\n",
    "pred = clf.predict(X_test)\n",
    "pred"
   ]
  },
  {
   "cell_type": "code",
   "execution_count": null,
   "metadata": {},
   "outputs": [],
   "source": [
    "# import 하는 다른 방법 @\n",
    "from sklearn import tree\n",
    "clf = tree.DecisionTreeClassifier(random_state=35).fit(X_train, y_train)"
   ]
  },
  {
   "cell_type": "code",
   "execution_count": 62,
   "metadata": {},
   "outputs": [
    {
     "data": {
      "image/png": "[encoded data removed]",
      "text/plain": [
       "<Figure size 720x504 with 1 Axes>"
      ]
     },
     "metadata": {
      "needs_background": "light"
     },
     "output_type": "display_data"
    }
   ],
   "source": [
    "# 의사결정나무 그래프\n",
    "from sklearn.tree import plot_tree\n",
    "plt.figure(figsize = (10,7))\n",
    "plot_tree(clf)\n",
    "plt.show()\n",
    "# gini : 불순도 , 순수한게 좋음 , gini가 0인 곳이 최종 노드\n",
    "# samples : 데이터 갯수\n",
    "# value : 데이터 비율"
   ]
  },
  {
   "cell_type": "markdown",
   "metadata": {},
   "source": [
    "---"
   ]
  }
 ],
 "metadata": {
  "kernelspec": {
   "display_name": "Python 3.9.7 ('base')",
   "language": "python",
   "name": "python3"
  },
  "language_info": {
   "codemirror_mode": {
    "name": "ipython",
    "version": 3
   },
   "file_extension": ".py",
   "mimetype": "text/x-python",
   "name": "python",
   "nbconvert_exporter": "python",
   "pygments_lexer": "ipython3",
   "version": "3.9.7"
  },
  "orig_nbformat": 4,
  "vscode": {
   "interpreter": {
    "hash": "c34e8390e776d2ee205b71ed5a6130fee3cef8da5e87e926ce18e14f4a070d72"
   }
  }
 },
 "nbformat": 4,
 "nbformat_minor": 2
}
