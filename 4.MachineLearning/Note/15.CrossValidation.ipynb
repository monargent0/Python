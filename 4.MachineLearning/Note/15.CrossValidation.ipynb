{
 "cells": [
  {
   "cell_type": "markdown",
   "metadata": {},
   "source": [
    "# Cross Validation(교차 검증)\n",
    "특정 데이터를 훈현 전용 데이터와 테스트 전용 데이터로 분할 한 뒤 훈련데이터를 활용해 학습하고   \n",
    "\"훈련데이터를 검증데이터로 나누어 반복적인 검증방법을 통해 최적의 값을 유출하고\"    \n",
    "테스트 데이터로 테스트해서 학습의 타당성을 검증하는 방법입니다."
   ]
  },
  {
   "cell_type": "code",
   "execution_count": 1,
   "metadata": {},
   "outputs": [],
   "source": [
    "import pandas as pd\n",
    "csv = pd.read_csv('../Data/iris.csv')"
   ]
  },
  {
   "cell_type": "markdown",
   "metadata": {},
   "source": [
    "전체 데이터로 해보기"
   ]
  },
  {
   "cell_type": "code",
   "execution_count": 2,
   "metadata": {},
   "outputs": [],
   "source": [
    "data = csv[['SepalLength' , 'SepalWidth', 'PetalLength','PetalWidth']]\n",
    "label = csv['Name']"
   ]
  },
  {
   "cell_type": "code",
   "execution_count": 3,
   "metadata": {},
   "outputs": [],
   "source": [
    "from sklearn import svm , model_selection"
   ]
  },
  {
   "cell_type": "code",
   "execution_count": 4,
   "metadata": {},
   "outputs": [],
   "source": [
    "clf = svm.SVC() # 모델 가져오기 , 하이퍼파라미터를 따로 구해서 넣어도 됨"
   ]
  },
  {
   "cell_type": "code",
   "execution_count": 17,
   "metadata": {},
   "outputs": [
    {
     "name": "stdout",
     "output_type": "stream",
     "text": [
      "각각의 정답률 :  [0.96 1.   1.   0.92 1.   1.  ]\n"
     ]
    }
   ],
   "source": [
    "scores = model_selection.cross_val_score(clf , data, label, cv = 6) # 보통 5번 이상, 10번 미만(이하?)으로 사용\n",
    "# cross_val_score 자동으로 fit 하고 score를 내준다\n",
    "print('각각의 정답률 : ', scores) # 6번 교차검증 했으니 값이 6개 출력"
   ]
  },
  {
   "cell_type": "code",
   "execution_count": 11,
   "metadata": {},
   "outputs": [
    {
     "name": "stdout",
     "output_type": "stream",
     "text": [
      "평균 정답률 : 0.98\n"
     ]
    }
   ],
   "source": [
    "print('평균 정답률 :' , scores.mean())\n",
    "# 내가 학습시킨 머신러닝의 정답률을 얘기할땐 이 값으로 얘기해야 한다.\n",
    "# 그러므로 머신러닝을 할때에는 무조건 교차검증을 해야 한다."
   ]
  },
  {
   "cell_type": "markdown",
   "metadata": {},
   "source": [
    "---"
   ]
  }
 ],
 "metadata": {
  "kernelspec": {
   "display_name": "Python 3.9.7 ('base')",
   "language": "python",
   "name": "python3"
  },
  "language_info": {
   "codemirror_mode": {
    "name": "ipython",
    "version": 3
   },
   "file_extension": ".py",
   "mimetype": "text/x-python",
   "name": "python",
   "nbconvert_exporter": "python",
   "pygments_lexer": "ipython3",
   "version": "3.9.7"
  },
  "orig_nbformat": 4,
  "vscode": {
   "interpreter": {
    "hash": "c34e8390e776d2ee205b71ed5a6130fee3cef8da5e87e926ce18e14f4a070d72"
   }
  }
 },
 "nbformat": 4,
 "nbformat_minor": 2
}
