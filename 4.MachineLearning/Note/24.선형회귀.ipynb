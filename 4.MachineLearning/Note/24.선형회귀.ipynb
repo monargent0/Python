{
 "cells": [
  {
   "cell_type": "markdown",
   "metadata": {},
   "source": [
    "### 다항회귀: X값은 하나, 제곱이 들어가\n",
    "### 다중회귀: X값이 여러개 (X1, X2, X3)"
   ]
  },
  {
   "cell_type": "code",
   "execution_count": 31,
   "metadata": {},
   "outputs": [],
   "source": [
    "import numpy as np"
   ]
  },
  {
   "cell_type": "code",
   "execution_count": 32,
   "metadata": {},
   "outputs": [],
   "source": [
    "fish_length = np.array(\n",
    "    [8.4, 13.7, 15.0, 16.2, 17.4, 18.0, 18.7, 19.0, 19.6, 20.0, \n",
    "     21.0, 21.0, 21.0, 21.3, 22.0, 22.0, 22.0, 22.0, 22.0, 22.5, \n",
    "     22.5, 22.7, 23.0, 23.5, 24.0, 24.0, 24.6, 25.0, 25.6, 26.5, \n",
    "     27.3, 27.5, 27.5, 27.5, 28.0, 28.7, 30.0, 32.8, 34.5, 35.0, \n",
    "     36.5, 36.0, 37.0, 37.0, 39.0, 39.0, 39.0, 40.0, 40.0, 40.0, \n",
    "     40.0, 42.0, 43.0, 43.0, 43.5, 44.0]\n",
    "     )\n",
    "fish_weight = np.array(\n",
    "    [5.9, 32.0, 40.0, 51.5, 70.0, 100.0, 78.0, 80.0, 85.0, 85.0, \n",
    "     110.0, 115.0, 125.0, 130.0, 120.0, 120.0, 130.0, 135.0, 110.0, \n",
    "     130.0, 150.0, 145.0, 150.0, 170.0, 225.0, 145.0, 188.0, 180.0, \n",
    "     197.0, 218.0, 300.0, 260.0, 265.0, 250.0, 250.0, 300.0, 320.0, \n",
    "     514.0, 556.0, 840.0, 685.0, 700.0, 700.0, 690.0, 900.0, 650.0, \n",
    "     820.0, 850.0, 900.0, 1015.0, 820.0, 1100.0, 1000.0, 1100.0, \n",
    "     1000.0, 1000.0]\n",
    "     )"
   ]
  },
  {
   "cell_type": "code",
   "execution_count": 33,
   "metadata": {},
   "outputs": [],
   "source": [
    "# Train과 Test로 나누기\n",
    "from sklearn.model_selection import train_test_split"
   ]
  },
  {
   "cell_type": "code",
   "execution_count": 34,
   "metadata": {},
   "outputs": [],
   "source": [
    "train_input, test_input, train_target, test_target = train_test_split(\n",
    "    fish_length, fish_weight, test_size=0.2, random_state=42\n",
    ")"
   ]
  },
  {
   "cell_type": "code",
   "execution_count": 35,
   "metadata": {},
   "outputs": [
    {
     "data": {
      "text/plain": [
       "array([28. , 27.3, 19.6, 22. , 18.7, 17.4, 36. , 25. , 40. , 39. , 43. ,\n",
       "       22. , 20. , 22. , 24. , 27.5, 43. , 40. , 24. , 21. , 27.5, 40. ,\n",
       "       32.8, 26.5, 36.5, 13.7, 22.7, 15. , 37. , 35. , 28.7, 23.5, 39. ,\n",
       "       21. , 23. , 22. , 44. , 22.5, 19. , 37. , 22. , 25.6, 42. , 34.5])"
      ]
     },
     "execution_count": 35,
     "metadata": {},
     "output_type": "execute_result"
    }
   ],
   "source": [
    "train_input # 현재 1차원 배열 > sklearn에서는 2차원 배열로 변환해야 함. 인식 못 함."
   ]
  },
  {
   "cell_type": "code",
   "execution_count": 36,
   "metadata": {},
   "outputs": [],
   "source": [
    "train_input = train_input.reshape(-1, 1) # 행은 모르겠고 열은 1개로 맞춤\n",
    "test_input = test_input.reshape(-1, 1)"
   ]
  },
  {
   "cell_type": "code",
   "execution_count": 37,
   "metadata": {},
   "outputs": [],
   "source": [
    "# knn import\n",
    "from sklearn.neighbors import KNeighborsRegressor"
   ]
  },
  {
   "cell_type": "code",
   "execution_count": 38,
   "metadata": {},
   "outputs": [
    {
     "data": {
      "text/plain": [
       "KNeighborsRegressor(n_neighbors=3)"
      ]
     },
     "execution_count": 38,
     "metadata": {},
     "output_type": "execute_result"
    }
   ],
   "source": [
    "knr = KNeighborsRegressor(n_neighbors=3) # 23번에서 해보니 3이 괜찮은 것 같음\n",
    "knr.fit(train_input, train_target)"
   ]
  },
  {
   "cell_type": "markdown",
   "metadata": {},
   "source": [
    "---\n",
    "### 길이가 50cm인 생선의 무게를 예측"
   ]
  },
  {
   "cell_type": "code",
   "execution_count": 39,
   "metadata": {},
   "outputs": [
    {
     "data": {
      "text/plain": [
       "array([1033.33333333])"
      ]
     },
     "execution_count": 39,
     "metadata": {},
     "output_type": "execute_result"
    }
   ],
   "source": [
    "knr.predict([[50]])"
   ]
  },
  {
   "cell_type": "markdown",
   "metadata": {},
   "source": [
    "---\n",
    "### 기존 데이터로 무게 확인"
   ]
  },
  {
   "cell_type": "code",
   "execution_count": 40,
   "metadata": {},
   "outputs": [
    {
     "name": "stdout",
     "output_type": "stream",
     "text": [
      "1100.0\n",
      "44.0\n"
     ]
    }
   ],
   "source": [
    "print(train_target.max())\n",
    "print(train_input.max())\n",
    "# 44cm인 것이 1100 > 예측이 이상함"
   ]
  },
  {
   "cell_type": "markdown",
   "metadata": {},
   "source": [
    "### 산점도로 이웃을 구해서 확인해보기"
   ]
  },
  {
   "cell_type": "code",
   "execution_count": 41,
   "metadata": {},
   "outputs": [],
   "source": [
    "import matplotlib.pyplot as plt"
   ]
  },
  {
   "cell_type": "code",
   "execution_count": 42,
   "metadata": {},
   "outputs": [
    {
     "data": {
      "image/png": "[encoded data removed]",
      "text/plain": [
       "<Figure size 1080x576 with 1 Axes>"
      ]
     },
     "metadata": {
      "needs_background": "light"
     },
     "output_type": "display_data"
    }
   ],
   "source": [
    "# 50cm인 이웃을 구함\n",
    "distance, indices = knr.kneighbors([[50]])\n",
    "\n",
    "plt.figure(figsize=(15, 8))\n",
    "\n",
    "# 훈련세트의 산점도를 표시\n",
    "plt.scatter(train_input, train_target, label='train')\n",
    "\n",
    "# 위에서 구한 이웃 샘플만 다시 표시\n",
    "plt.scatter(train_input[indices], train_target[indices], label='neighbors', c='r')\n",
    "\n",
    "# 50cm 생선의 예측값을 표시\n",
    "plt.scatter(50, knr.predict([[50]]), label='prediction', c='g')\n",
    "\n",
    "plt.show()"
   ]
  },
  {
   "cell_type": "markdown",
   "metadata": {},
   "source": [
    "### 결론: 주변 데이터로 예측하는 KNR로 이걸 예측할 수는 없다"
   ]
  },
  {
   "cell_type": "markdown",
   "metadata": {},
   "source": [
    "---\n",
    "# 선형회귀\n",
    ": 직선이나 고선의 함수식(y = aX + b)을 이용하여 구하는 방식. 로지스틱 회귀분석이나 인공신경망의 기초가 되었다."
   ]
  },
  {
   "cell_type": "code",
   "execution_count": 43,
   "metadata": {},
   "outputs": [],
   "source": [
    "from sklearn.linear_model import LinearRegression"
   ]
  },
  {
   "cell_type": "code",
   "execution_count": 44,
   "metadata": {},
   "outputs": [],
   "source": [
    "lr = LinearRegression()"
   ]
  },
  {
   "cell_type": "code",
   "execution_count": 45,
   "metadata": {},
   "outputs": [
    {
     "data": {
      "text/plain": [
       "LinearRegression()"
      ]
     },
     "execution_count": 45,
     "metadata": {},
     "output_type": "execute_result"
    }
   ],
   "source": [
    "lr.fit(train_input, train_target)"
   ]
  },
  {
   "cell_type": "code",
   "execution_count": 46,
   "metadata": {},
   "outputs": [
    {
     "data": {
      "text/plain": [
       "array([1238.3175398])"
      ]
     },
     "execution_count": 46,
     "metadata": {},
     "output_type": "execute_result"
    }
   ],
   "source": [
    "lr.predict([[50]])"
   ]
  },
  {
   "cell_type": "code",
   "execution_count": 47,
   "metadata": {},
   "outputs": [
    {
     "name": "stdout",
     "output_type": "stream",
     "text": [
      "a : [39.05365447]\n",
      "b : -714.3651839448929\n"
     ]
    }
   ],
   "source": [
    "# y = aX + b 에서 a, b를 찾아보자 (Deep Learning에서는 Weight와 Bias로 불림)\n",
    "print('a :', lr.coef_)\n",
    "print('b :', lr.intercept_)\n",
    "# 언더바로 끝나는 애들은 함수에서 만들어낸 변수들이다."
   ]
  },
  {
   "cell_type": "markdown",
   "metadata": {},
   "source": [
    "#### a는 list, b는 int로 나누는 이유\n",
    "- 다항식에서 a1X1 + a2X2 등 a는 많아질 수 있기 때문\n",
    "- b는 딥러닝에 가도 하나뿐"
   ]
  },
  {
   "cell_type": "markdown",
   "metadata": {},
   "source": [
    "### 산점도 그려보기"
   ]
  },
  {
   "cell_type": "code",
   "execution_count": 48,
   "metadata": {},
   "outputs": [
    {
     "data": {
      "image/png": "[encoded data removed]",
      "text/plain": [
       "<Figure size 1080x576 with 1 Axes>"
      ]
     },
     "metadata": {
      "needs_background": "light"
     },
     "output_type": "display_data"
    }
   ],
   "source": [
    "plt.figure(figsize=(15, 8))\n",
    "\n",
    "# 훈련세트의 scatter plot 그려보기\n",
    "plt.scatter(train_input, train_target, label='train')\n",
    "\n",
    "# # 예측값을 그려보기\n",
    "# plt.plot(train_input, lr.predict(train_input), label='prediction', c='r')\n",
    "\n",
    "# 15~ 50cm 생선의 예측값을 그려보기\n",
    "plt.plot(\n",
    "  [15, 50],\n",
    "  [lr.predict([[15]])[0], lr.predict([[50]])[0]],\n",
    "  label='prediction', c='r'\n",
    ")\n",
    "\n",
    "# 50cm 생선의 예측값을 표시\n",
    "plt.scatter(50, lr.predict([[50]]), label='prediction', c='g')\n",
    "\n",
    "plt.show()"
   ]
  },
  {
   "cell_type": "markdown",
   "metadata": {},
   "source": [
    "### 절편이 음수 > 길이가 작아지면 무게가 음수가 발생 가능"
   ]
  },
  {
   "cell_type": "code",
   "execution_count": 49,
   "metadata": {},
   "outputs": [
    {
     "name": "stdout",
     "output_type": "stream",
     "text": [
      "0.9363463656327585\n",
      "0.8359630155975613\n"
     ]
    }
   ],
   "source": [
    "print(lr.score(train_input, train_target))\n",
    "print(lr.score(test_input, test_target))"
   ]
  },
  {
   "cell_type": "markdown",
   "metadata": {},
   "source": [
    "### 현재 매우 과대적합 상태"
   ]
  },
  {
   "cell_type": "code",
   "execution_count": 50,
   "metadata": {},
   "outputs": [
    {
     "data": {
      "image/png": "[encoded data removed]",
      "text/plain": [
       "<Figure size 1080x576 with 1 Axes>"
      ]
     },
     "metadata": {
      "needs_background": "light"
     },
     "output_type": "display_data"
    }
   ],
   "source": [
    "plt.figure(figsize=(15, 8))\n",
    "\n",
    "# 훈련세트의 scatter plot 그려보기\n",
    "plt.scatter(train_input, train_target, label='train')\n",
    "\n",
    "# Test세트의 scatter plot 그려보기\n",
    "plt.scatter(test_input, test_target, label='test')\n",
    "\n",
    "# 15~ 50cm 생선의 예측값을 그려보기\n",
    "plt.plot(\n",
    "  [15, 50],\n",
    "  [lr.predict([[15]])[0], lr.predict([[50]])[0]],\n",
    "  label='prediction', c='r'\n",
    ")\n",
    "\n",
    "# 50cm 생선의 예측값을 표시\n",
    "plt.scatter(50, lr.predict([[50]]), label='prediction', c='g')\n",
    "\n",
    "plt.show()"
   ]
  },
  {
   "cell_type": "markdown",
   "metadata": {},
   "source": [
    "### 해결하기 위해\n",
    "- 다항회귀를 사용해 그래프를 휘어보자(R에서는 못함)"
   ]
  },
  {
   "cell_type": "markdown",
   "metadata": {},
   "source": [
    "---\n",
    "### 다항 회귀 \n",
    "Y = $ax^2$ +bX +C \n",
    "- 항이 여러개 있고 feature가 하나인 것을 이미 \n",
    "- feature가 여러개인것은 다중회귀"
   ]
  },
  {
   "cell_type": "code",
   "execution_count": 51,
   "metadata": {},
   "outputs": [],
   "source": [
    "# feature를 제곱한 column을 생성하여 기존의 column에 붙인다.\n",
    "train_poly = np.column_stack((train_input **2 , train_input))\n",
    "# ax^2\n",
    "test_poly = np.column_stack((test_input **2 , test_input)) # ???"
   ]
  },
  {
   "cell_type": "code",
   "execution_count": 52,
   "metadata": {},
   "outputs": [
    {
     "name": "stdout",
     "output_type": "stream",
     "text": [
      "(44, 2) (12, 1)\n"
     ]
    }
   ],
   "source": [
    "print(train_poly.shape, test_input.shape)"
   ]
  },
  {
   "cell_type": "code",
   "execution_count": 53,
   "metadata": {},
   "outputs": [
    {
     "data": {
      "text/plain": [
       "array([1579.0440311])"
      ]
     },
     "execution_count": 53,
     "metadata": {},
     "output_type": "execute_result"
    }
   ],
   "source": [
    "# 모델 적용\n",
    "lr = LinearRegression()\n",
    "# 학습\n",
    "lr.fit(train_poly , train_target)\n",
    "# 50cm 생선에 대한 예측 (기존의 예측값 1238.3175398)\n",
    "lr.predict([[50**2,50]])"
   ]
  },
  {
   "cell_type": "code",
   "execution_count": 54,
   "metadata": {},
   "outputs": [
    {
     "name": "stdout",
     "output_type": "stream",
     "text": [
      "[  1.03238928 -22.63525541] 129.83360652841554\n"
     ]
    }
   ],
   "source": [
    "# 기울기와 절편\n",
    "print(lr.coef_ , lr.intercept_)"
   ]
  },
  {
   "cell_type": "code",
   "execution_count": 55,
   "metadata": {},
   "outputs": [
    {
     "data": {
      "text/plain": [
       "LinearRegression()"
      ]
     },
     "execution_count": 55,
     "metadata": {},
     "output_type": "execute_result"
    }
   ],
   "source": [
    "lr.fit(train_poly, train_target)"
   ]
  },
  {
   "cell_type": "code",
   "execution_count": 56,
   "metadata": {},
   "outputs": [
    {
     "data": {
      "text/plain": [
       "array([1579.0440311])"
      ]
     },
     "execution_count": 56,
     "metadata": {},
     "output_type": "execute_result"
    }
   ],
   "source": [
    "lr.predict([[50**2, 50]])"
   ]
  },
  {
   "cell_type": "code",
   "execution_count": 57,
   "metadata": {},
   "outputs": [],
   "source": [
    "# 구간별 직선 그리기(15~49까지 정수)\n",
    "points = np.arange(15, 50)"
   ]
  },
  {
   "cell_type": "code",
   "execution_count": 58,
   "metadata": {},
   "outputs": [
    {
     "data": {
      "image/png": "[encoded data removed]",
      "text/plain": [
       "<Figure size 1080x576 with 1 Axes>"
      ]
     },
     "metadata": {
      "needs_background": "light"
     },
     "output_type": "display_data"
    }
   ],
   "source": [
    "# 훈련 세트의 산점도 그리기\n",
    "plt.figure(figsize=(15, 8))\n",
    "plt.scatter(train_input, train_target, label='train')\n",
    "# 테스트 세트의 산점도 그리기\n",
    "plt.scatter(test_input, test_target, label='test')\n",
    "\n",
    "# points에 대한 예측값을 그려보기\n",
    "plt.plot(points, lr.predict(np.column_stack((points ** 2, points))), label='prediction', c='r')\n",
    "# plt.plot(\n",
    "#   points,\n",
    "#   1.03 * points ** 2 - 22.6 * points + 129,\n",
    "#   label='prediction', c='r'\n",
    "# )\n",
    "\n",
    "# 50cm 생선의 예측값을 표시\n",
    "plt.scatter(50, lr.predict([[50**2, 50]]), label='prediction', c='g')\n",
    "\n",
    "plt.show()"
   ]
  },
  {
   "cell_type": "code",
   "execution_count": 59,
   "metadata": {},
   "outputs": [
    {
     "name": "stdout",
     "output_type": "stream",
     "text": [
      "0.9701854947585989\n",
      "0.9801885585527479\n"
     ]
    }
   ],
   "source": [
    "# 과대적합, 과소적합 확인\n",
    "print(lr.score(train_poly, train_target))\n",
    "print(lr.score(test_poly, test_target))\n",
    "\n",
    "# 약간의 과소적합이 발생하지만 훨씬 낫다\n",
    "# 3%까지는 용납 가능"
   ]
  },
  {
   "cell_type": "markdown",
   "metadata": {},
   "source": [
    "---"
   ]
  }
 ],
 "metadata": {
  "kernelspec": {
   "display_name": "Python 3.9.7 ('base')",
   "language": "python",
   "name": "python3"
  },
  "language_info": {
   "codemirror_mode": {
    "name": "ipython",
    "version": 3
   },
   "file_extension": ".py",
   "mimetype": "text/x-python",
   "name": "python",
   "nbconvert_exporter": "python",
   "pygments_lexer": "ipython3",
   "version": "3.9.7"
  },
  "orig_nbformat": 4,
  "vscode": {
   "interpreter": {
    "hash": "c34e8390e776d2ee205b71ed5a6130fee3cef8da5e87e926ce18e14f4a070d72"
   }
  }
 },
 "nbformat": 4,
 "nbformat_minor": 2
}
