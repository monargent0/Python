{
 "cells": [
  {
   "cell_type": "code",
   "execution_count": 2,
   "metadata": {},
   "outputs": [
    {
     "name": "stdout",
     "output_type": "stream",
     "text": [
      "[<a class=\"link_txt\" data-tiara-custom=\"contentUniqueKey=hamny-20220708143955533\" data-tiara-id=\"20220708143955533\" data-tiara-layer=\"article_main\" data-tiara-ordnum=\"1\" data-tiara-type=\"harmony\" href=\"https://v.daum.net/v/20220708143955533\">\n",
      "                                    MB 처남 부인, 다스 관련 9억원대 증여세 소송 2심도 승소\n",
      "                                </a>, <a class=\"link_txt\" data-tiara-custom=\"contentUniqueKey=hamny-20220708145443960\" data-tiara-id=\"20220708145443960\" data-tiara-layer=\"article_main\" data-tiara-ordnum=\"2\" data-tiara-type=\"harmony\" href=\"https://v.daum.net/v/20220708145443960\">\n",
      "                                    세계 지도자들 충격·슬픔..블링컨 미 국무 \"아베 위해 기도\"\n",
      "                                </a>, <a class=\"link_txt\" data-tiara-custom=\"contentUniqueKey=hamny-20220708142752118\" data-tiara-id=\"20220708142752118\" data-tiara-layer=\"article_main\" data-tiara-ordnum=\"3\" data-tiara-type=\"harmony\" href=\"https://v.daum.net/v/20220708142752118\">\n",
      "                                    '민주당 경선 개입 의혹'..전북도 전 공무원 구속영장\n",
      "                                </a>, <a class=\"link_txt\" data-tiara-custom=\"contentUniqueKey=hamny-20220708145315901\" data-tiara-id=\"20220708145315901\" data-tiara-layer=\"article_main\" data-tiara-ordnum=\"4\" data-tiara-type=\"harmony\" href=\"https://v.daum.net/v/20220708145315901\">\n",
      "                                    尹대통령·김건희 여사 고발한 시민단체..\"직권 남용했다\"\n",
      "                                </a>, <a class=\"link_txt\" data-tiara-custom=\"contentUniqueKey=hamny-20220708144729718\" data-tiara-id=\"20220708144729718\" data-tiara-layer=\"article_main\" data-tiara-ordnum=\"5\" data-tiara-type=\"harmony\" href=\"https://v.daum.net/v/20220708144729718\">\n",
      "                                    소수 하청노동자 파업에 대우조선 마비..노-노 갈등 비화 조짐\n",
      "                                </a>, <a class=\"link_txt\" data-tiara-custom=\"contentUniqueKey=hamny-20220708142511008\" data-tiara-id=\"20220708142511008\" data-tiara-layer=\"article_main\" data-tiara-ordnum=\"6\" data-tiara-type=\"harmony\" href=\"https://v.daum.net/v/20220708142511008\">\n",
      "                                    총격 피습 아베..최장수 총리 재임한 일본 우익 상징적 정치인\n",
      "                                </a>, <a class=\"link_txt\" data-tiara-custom=\"contentUniqueKey=hamny-20220708144626694\" data-tiara-id=\"20220708144626694\" data-tiara-layer=\"article_main\" data-tiara-ordnum=\"7\" data-tiara-type=\"harmony\" href=\"https://v.daum.net/v/20220708144626694\">\n",
      "                                    中왕이, 박진 외교장관 만나 \"냉전 사고가 되살아 나는 것 막아야\"\n",
      "                                </a>, <a class=\"link_txt\" data-tiara-custom=\"contentUniqueKey=hamny-20220708144954784\" data-tiara-id=\"20220708144954784\" data-tiara-layer=\"article_main\" data-tiara-ordnum=\"8\" data-tiara-type=\"harmony\" href=\"https://v.daum.net/v/20220708144954784\">\n",
      "                                    오세훈 \"文, '서해 피살' 보고에도 지시 안했다니..충격\"\n",
      "                                </a>, <a class=\"link_txt\" data-tiara-custom=\"contentUniqueKey=hamny-20220708144930768\" data-tiara-id=\"20220708144930768\" data-tiara-layer=\"article_main\" data-tiara-ordnum=\"9\" data-tiara-type=\"harmony\" href=\"https://v.daum.net/v/20220708144930768\">\n",
      "                                    박진, 日 하야시 만나 \"아베 피격에 매우 충격..쾌유 기원\"\n",
      "                                </a>, <a class=\"link_txt\" data-tiara-custom=\"contentUniqueKey=hamny-20220708143921516\" data-tiara-id=\"20220708143921516\" data-tiara-layer=\"article_main\" data-tiara-ordnum=\"10\" data-tiara-type=\"harmony\" href=\"https://v.daum.net/v/20220708143921516\">\n",
      "                                    \"삼성, 반도체 앞선 것 같아도 실태는 달라..TSMC와 격차 벌어져\"\n",
      "                                </a>, <a class=\"link_txt\" data-tiara-custom=\"contentUniqueKey=hamny-20220708144910761\" data-tiara-id=\"20220708144910761\" data-tiara-layer=\"article_main\" data-tiara-ordnum=\"11\" data-tiara-type=\"harmony\" href=\"https://v.daum.net/v/20220708144910761\">\n",
      "                                    대통령실 앞으로 간 민주당 \"비선외교·대통령실 사유화 규탄\"..정부·여당에 반격\n",
      "                                </a>, <a class=\"link_txt\" data-tiara-custom=\"contentUniqueKey=hamny-20220708143643424\" data-tiara-id=\"20220708143643424\" data-tiara-layer=\"article_main\" data-tiara-ordnum=\"12\" data-tiara-type=\"harmony\" href=\"https://v.daum.net/v/20220708143643424\">\n",
      "                                    베이징, 오미크론 변이에 맞서 中 본토서 첫 백신 접종 의무화\n",
      "                                </a>, <a class=\"link_txt\" data-tiara-custom=\"contentUniqueKey=hamny-20220708142123890\" data-tiara-id=\"20220708142123890\" data-tiara-layer=\"article_main\" data-tiara-ordnum=\"13\" data-tiara-type=\"harmony\" href=\"https://v.daum.net/v/20220708142123890\">\n",
      "                                    \"재택근무는 노동자 권리\"..네덜란드 법제화 눈앞\n",
      "                                </a>, <a class=\"link_txt\" data-tiara-custom=\"contentUniqueKey=hamny-20220708144656702\" data-tiara-id=\"20220708144656702\" data-tiara-layer=\"article_main\" data-tiara-ordnum=\"14\" data-tiara-type=\"harmony\" href=\"https://v.daum.net/v/20220708144656702\">\n",
      "                                    \"최소 인원만..팬데믹이 올림픽 탄소배출량 줄였다\"\n",
      "                                </a>, <a class=\"link_txt\" data-tiara-custom=\"contentUniqueKey=hamny-20220708144501663\" data-tiara-id=\"20220708144501663\" data-tiara-layer=\"article_main\" data-tiara-ordnum=\"15\" data-tiara-type=\"harmony\" href=\"https://v.daum.net/v/20220708144501663\">\n",
      "                                    \"가족친화 직장환경 만들기 위해 힘쓸 것\"[저출생극복제주]\n",
      "                                </a>, <a class=\"link_txt\" data-tiara-custom=\"contentUniqueKey=hamny-20220708141647738\" data-tiara-id=\"20220708141647738\" data-tiara-layer=\"article_main\" data-tiara-ordnum=\"16\" data-tiara-type=\"harmony\" href=\"https://v.daum.net/v/20220708141647738\">\n",
      "                                    尹, 장관만 원탁서 '압박면접형' 업무보고..부처 기강잡기\n",
      "                                </a>, <a class=\"link_txt\" data-tiara-custom=\"contentUniqueKey=hamny-20220708144038562\" data-tiara-id=\"20220708144038562\" data-tiara-layer=\"article_main\" data-tiara-ordnum=\"17\" data-tiara-type=\"harmony\" href=\"https://v.daum.net/v/20220708144038562\">\n",
      "                                    고리원전 찾은 산업차관..\"원전 역할 무엇보다 중요\"\n",
      "                                </a>, <a class=\"link_txt\" data-tiara-custom=\"contentUniqueKey=hamny-20220708144008545\" data-tiara-id=\"20220708144008545\" data-tiara-layer=\"article_main\" data-tiara-ordnum=\"18\" data-tiara-type=\"harmony\" href=\"https://v.daum.net/v/20220708144008545\">\n",
      "                                    과다노출 금지가 서울시 퀴어축제 '조건'이래..핫팬츠 안돼?\n",
      "                                </a>, <a class=\"link_txt\" data-tiara-custom=\"contentUniqueKey=hamny-20220708144017551\" data-tiara-id=\"20220708144017551\" data-tiara-layer=\"article_main\" data-tiara-ordnum=\"19\" data-tiara-type=\"harmony\" href=\"https://v.daum.net/v/20220708144017551\">\n",
      "                                    고리2호기 찾은 산업차관 \"계속운전 절차 차질없는 추진 당부\"\n",
      "                                </a>, <a class=\"link_txt\" data-tiara-custom=\"contentUniqueKey=hamny-20220708141304647\" data-tiara-id=\"20220708141304647\" data-tiara-layer=\"article_main\" data-tiara-ordnum=\"20\" data-tiara-type=\"harmony\" href=\"https://v.daum.net/v/20220708141304647\">\n",
      "                                    장호권 광복회장 작심 인터뷰 \"무차별 의혹 제기에 굴하지 않고 반드시 개혁\"\n",
      "                                </a>, <a class=\"link_txt\" data-tiara-custom=\"contentUniqueKey=hamny-20220708144052567\" data-tiara-id=\"20220708144052567\" data-tiara-layer=\"article\" data-tiara-ordnum=\"1\" data-tiara-type=\"harmony\" href=\"https://v.daum.net/v/20220708144052567\">\n",
      "                                    [사건의재구성]아베, 11시30분쯤 총성 울리자 쓰러져(상보)\n",
      "                                </a>, <a class=\"link_txt\" data-tiara-custom=\"contentUniqueKey=hamny-20220708144801733\" data-tiara-id=\"20220708144801733\" data-tiara-layer=\"article\" data-tiara-ordnum=\"2\" data-tiara-type=\"harmony\" href=\"https://v.daum.net/v/20220708144801733\">\n",
      "                                    \"지리산 산악관광 열차, 공론화과정 거쳐 사업모델 찾아야\"\n",
      "                                </a>, <a class=\"link_txt\" data-tiara-custom=\"contentUniqueKey=hamny-20220708142606039\" data-tiara-id=\"20220708142606039\" data-tiara-layer=\"article\" data-tiara-ordnum=\"3\" data-tiara-type=\"harmony\" href=\"https://v.daum.net/v/20220708142606039\">\n",
      "                                    [임병선의 메멘토 모리] 아들이 부고 기고 \"악(惡)은 결국 죽는다\"\n",
      "                                </a>, <a class=\"link_txt\" data-tiara-custom=\"contentUniqueKey=hamny-20220708142606040\" data-tiara-id=\"20220708142606040\" data-tiara-layer=\"article\" data-tiara-ordnum=\"4\" data-tiara-type=\"harmony\" href=\"https://v.daum.net/v/20220708142606040\">\n",
      "                                    [데일리 북한] 김일성 주석 사망 28주기..차분한 추모 분위기\n",
      "                                </a>, <a class=\"link_txt\" data-tiara-custom=\"contentUniqueKey=hamny-20220708143921515\" data-tiara-id=\"20220708143921515\" data-tiara-layer=\"article\" data-tiara-ordnum=\"5\" data-tiara-type=\"harmony\" href=\"https://v.daum.net/v/20220708143921515\">\n",
      "                                    '6개월 징계' 받은 이준석..극심한 '내홍' 직면한 여당\n",
      "                                </a>, <a class=\"link_txt\" data-tiara-custom=\"contentUniqueKey=hamny-20220708143704437\" data-tiara-id=\"20220708143704437\" data-tiara-layer=\"article\" data-tiara-ordnum=\"6\" data-tiara-type=\"harmony\" href=\"https://v.daum.net/v/20220708143704437\">\n",
      "                                    [이앤피] \"尹 민간인 해외순방 동행, 친인척 채용 비선 논란 外\"\n",
      "                                </a>, <a class=\"link_txt\" data-tiara-custom=\"contentUniqueKey=hamny-20220708142303933\" data-tiara-id=\"20220708142303933\" data-tiara-layer=\"article\" data-tiara-ordnum=\"7\" data-tiara-type=\"harmony\" href=\"https://v.daum.net/v/20220708142303933\">\n",
      "                                    '당원권 정지 2년' 이준석 최측근 김철근은 누구?\n",
      "                                </a>, <a class=\"link_txt\" data-tiara-custom=\"contentUniqueKey=hamny-20220708142023854\" data-tiara-id=\"20220708142023854\" data-tiara-layer=\"article\" data-tiara-ordnum=\"8\" data-tiara-type=\"harmony\" href=\"https://v.daum.net/v/20220708142023854\">\n",
      "                                    [영상] \"용서 못할 테러·민주주의에 도전\"..아베 피격에 일본 열도 충격 [나우,어스]\n",
      "                                </a>, <a class=\"link_txt\" data-tiara-custom=\"contentUniqueKey=hamny-20220708145334910\" data-tiara-id=\"20220708145334910\" data-tiara-ordnum=\"1\" data-tiara-type=\"harmony\" href=\"https://gallery.v.daum.net/p/viewer/5024184/VipoPSFLC8\">아베 전 총리 추정 인물, 의료 헬기로 인근 병원 이송 </a>, <a class=\"link_txt\" data-tiara-custom=\"contentUniqueKey=hamny-20220708144316634\" data-tiara-id=\"20220708144316634\" data-tiara-ordnum=\"2\" data-tiara-type=\"harmony\" href=\"https://gallery.v.daum.net/p/viewer/5573600/5kaTRWUN0k\">아베 전 총리 피격 소식 전하는 호외판 신문</a>, <a class=\"link_txt\" data-tiara-custom=\"contentUniqueKey=hamny-20220708143001185\" data-tiara-id=\"20220708143001185\" data-tiara-ordnum=\"3\" data-tiara-type=\"harmony\" href=\"https://gallery.v.daum.net/p/viewer/31583/fvmKiXqkA1\">류준열, 랄프 로렌 공식 후원 2022 윔블던 챔피언십 초청 '폴로 랄프 로렌' 꾸안꾸 공항패션</a>, <a class=\"link_txt\" data-tiara-custom=\"contentUniqueKey=hamny-20220708141825798\" data-tiara-id=\"20220708141825798\" data-tiara-ordnum=\"4\" data-tiara-type=\"harmony\" href=\"https://gallery.v.daum.net/p/viewer/111971/GDtScU8CzP\">아름다운 제주 금능해변</a>, <a class=\"link_txt #direct_newshome\" data-tiara-layer=\"direct_newshome\" href=\"/\">뉴스홈</a>, <a class=\"link_txt #direct_society\" data-tiara-layer=\"direct_society\" href=\"/society\">사회</a>, <a class=\"link_txt #direct_politics\" data-tiara-layer=\"direct_politics\" href=\"/politics\">정치</a>, <a class=\"link_txt #direct_economic\" data-tiara-layer=\"direct_economic\" href=\"/economic\">경제</a>, <a class=\"link_txt #direct_foreign\" data-tiara-layer=\"direct_foreign\" href=\"/foreign\">국제</a>, <a class=\"link_txt #direct_culture\" data-tiara-layer=\"direct_culture\" href=\"/culture\">문화</a>, <a class=\"link_txt #direct_digital\" data-tiara-layer=\"direct_digital\" href=\"/digital\">IT</a>, <a class=\"link_txt #direct_photo\" data-tiara-layer=\"direct_photo\" href=\"/photo\">포토</a>, <a class=\"link_txt #direct_media\" data-tiara-layer=\"direct_media\" href=\"/cp\">언론사별 뉴스</a>, <a class=\"link_txt #direct_history\" data-tiara-layer=\"direct_history\" href=\"/newsbox\">배열이력</a>, <a class=\"link_txt #direct_all\" data-tiara-layer=\"direct_all\" href=\"/breakingnews\">전체뉴스</a>, <a class=\"link_txt #direct_series\" data-tiara-layer=\"direct_series\" href=\"/series\">연재</a>, <a class=\"link_txt #direct_factcheck\" data-tiara-layer=\"direct_factcheck\" href=\"https://focus.daum.net/ch/news/factcheck\">팩트체크</a>]\n"
     ]
    }
   ],
   "source": [
    "# 라이브러리 불러오기\n",
    "from bs4 import BeautifulSoup\n",
    "import urllib.request as req\n",
    "\n",
    "# Site Address\n",
    "url = \"https://news.daum.net\"\n",
    "\n",
    "# urlOpen\n",
    "res = req.urlopen(url)\n",
    "\n",
    "# BeautifulSoup으로 분석하기 (BS한테 일 시키기)\n",
    "soup = BeautifulSoup(res, \"html.parser\")\n",
    "\n",
    "news = soup.select(\".link_txt\")\n",
    "print(news)"
   ]
  },
  {
   "cell_type": "code",
   "execution_count": 7,
   "metadata": {},
   "outputs": [
    {
     "name": "stdout",
     "output_type": "stream",
     "text": [
      "MB 처남 부인, 다스 관련 9억원대 증여세 소송 2심도 승소 https://v.daum.net/v/20220708143955533\n",
      "세계 지도자들 충격·슬픔..블링컨 미 국무 \"아베 위해 기도\" https://v.daum.net/v/20220708145443960\n",
      "'민주당 경선 개입 의혹'..전북도 전 공무원 구속영장 https://v.daum.net/v/20220708142752118\n",
      "尹대통령·김건희 여사 고발한 시민단체..\"직권 남용했다\" https://v.daum.net/v/20220708145315901\n",
      "소수 하청노동자 파업에 대우조선 마비..노-노 갈등 비화 조짐 https://v.daum.net/v/20220708144729718\n",
      "총격 피습 아베..최장수 총리 재임한 일본 우익 상징적 정치인 https://v.daum.net/v/20220708142511008\n",
      "中왕이, 박진 외교장관 만나 \"냉전 사고가 되살아 나는 것 막아야\" https://v.daum.net/v/20220708144626694\n",
      "오세훈 \"文, '서해 피살' 보고에도 지시 안했다니..충격\" https://v.daum.net/v/20220708144954784\n",
      "박진, 日 하야시 만나 \"아베 피격에 매우 충격..쾌유 기원\" https://v.daum.net/v/20220708144930768\n",
      "\"삼성, 반도체 앞선 것 같아도 실태는 달라..TSMC와 격차 벌어져\" https://v.daum.net/v/20220708143921516\n",
      "대통령실 앞으로 간 민주당 \"비선외교·대통령실 사유화 규탄\"..정부·여당에 반격 https://v.daum.net/v/20220708144910761\n",
      "베이징, 오미크론 변이에 맞서 中 본토서 첫 백신 접종 의무화 https://v.daum.net/v/20220708143643424\n",
      "\"재택근무는 노동자 권리\"..네덜란드 법제화 눈앞 https://v.daum.net/v/20220708142123890\n",
      "\"최소 인원만..팬데믹이 올림픽 탄소배출량 줄였다\" https://v.daum.net/v/20220708144656702\n",
      "\"가족친화 직장환경 만들기 위해 힘쓸 것\"[저출생극복제주] https://v.daum.net/v/20220708144501663\n",
      "尹, 장관만 원탁서 '압박면접형' 업무보고..부처 기강잡기 https://v.daum.net/v/20220708141647738\n",
      "고리원전 찾은 산업차관..\"원전 역할 무엇보다 중요\" https://v.daum.net/v/20220708144038562\n",
      "과다노출 금지가 서울시 퀴어축제 '조건'이래..핫팬츠 안돼? https://v.daum.net/v/20220708144008545\n",
      "고리2호기 찾은 산업차관 \"계속운전 절차 차질없는 추진 당부\" https://v.daum.net/v/20220708144017551\n",
      "장호권 광복회장 작심 인터뷰 \"무차별 의혹 제기에 굴하지 않고 반드시 개혁\" https://v.daum.net/v/20220708141304647\n",
      "[사건의재구성]아베, 11시30분쯤 총성 울리자 쓰러져(상보) https://v.daum.net/v/20220708144052567\n",
      "\"지리산 산악관광 열차, 공론화과정 거쳐 사업모델 찾아야\" https://v.daum.net/v/20220708144801733\n",
      "[임병선의 메멘토 모리] 아들이 부고 기고 \"악(惡)은 결국 죽는다\" https://v.daum.net/v/20220708142606039\n",
      "[데일리 북한] 김일성 주석 사망 28주기..차분한 추모 분위기 https://v.daum.net/v/20220708142606040\n",
      "'6개월 징계' 받은 이준석..극심한 '내홍' 직면한 여당 https://v.daum.net/v/20220708143921515\n",
      "[이앤피] \"尹 민간인 해외순방 동행, 친인척 채용 비선 논란 外\" https://v.daum.net/v/20220708143704437\n",
      "'당원권 정지 2년' 이준석 최측근 김철근은 누구? https://v.daum.net/v/20220708142303933\n",
      "[영상] \"용서 못할 테러·민주주의에 도전\"..아베 피격에 일본 열도 충격 [나우,어스] https://v.daum.net/v/20220708142023854\n",
      "아베 전 총리 추정 인물, 의료 헬기로 인근 병원 이송 https://gallery.v.daum.net/p/viewer/5024184/VipoPSFLC8\n",
      "아베 전 총리 피격 소식 전하는 호외판 신문 https://gallery.v.daum.net/p/viewer/5573600/5kaTRWUN0k\n",
      "류준열, 랄프 로렌 공식 후원 2022 윔블던 챔피언십 초청 '폴로 랄프 로렌' 꾸안꾸 공항패션 https://gallery.v.daum.net/p/viewer/31583/fvmKiXqkA1\n",
      "아름다운 제주 금능해변 https://gallery.v.daum.net/p/viewer/111971/GDtScU8CzP\n",
      "뉴스홈 /\n",
      "사회 /society\n",
      "정치 /politics\n",
      "경제 /economic\n",
      "국제 /foreign\n",
      "문화 /culture\n",
      "IT /digital\n",
      "포토 /photo\n",
      "언론사별 뉴스 /cp\n",
      "배열이력 /newsbox\n",
      "전체뉴스 /breakingnews\n",
      "연재 /series\n",
      "팩트체크 https://focus.daum.net/ch/news/factcheck\n"
     ]
    }
   ],
   "source": [
    "for i in news:\n",
    "   print(i.string.strip() , i[\"href\"].strip() )"
   ]
  },
  {
   "cell_type": "code",
   "execution_count": 3,
   "metadata": {},
   "outputs": [],
   "source": [
    "import pymysql"
   ]
  },
  {
   "cell_type": "code",
   "execution_count": 6,
   "metadata": {},
   "outputs": [],
   "source": [
    "# pymysql을 사용하여 데이터베이스 연결하기\n",
    "conn = pymysql.connect(\n",
    "    host='127.0.0.1',\n",
    "    user='root',\n",
    "    passwd='qwer1234',\n",
    "    db='daum',\n",
    "    charset='utf8',)"
   ]
  },
  {
   "cell_type": "code",
   "execution_count": 7,
   "metadata": {},
   "outputs": [],
   "source": [
    "# connection 으로 부터 커서 생성\n",
    "curs = conn.cursor()"
   ]
  },
  {
   "cell_type": "code",
   "execution_count": 8,
   "metadata": {},
   "outputs": [],
   "source": [
    "# sql 문장\n",
    "sql = \"insert into news (ntitle, nhref) values (%s, %s)\""
   ]
  },
  {
   "cell_type": "code",
   "execution_count": 9,
   "metadata": {},
   "outputs": [],
   "source": [
    "# insert \n",
    "\n",
    "for i in news:\n",
    "    curs.execute(sql,(i.string , i[\"href\"]))"
   ]
  },
  {
   "cell_type": "code",
   "execution_count": 11,
   "metadata": {},
   "outputs": [],
   "source": [
    "conn.commit() # SQL 커밋"
   ]
  },
  {
   "cell_type": "code",
   "execution_count": 12,
   "metadata": {},
   "outputs": [],
   "source": [
    "conn.close() # 연결 종료"
   ]
  }
 ],
 "metadata": {
  "kernelspec": {
   "display_name": "Python 3.9.7 ('base')",
   "language": "python",
   "name": "python3"
  },
  "language_info": {
   "codemirror_mode": {
    "name": "ipython",
    "version": 3
   },
   "file_extension": ".py",
   "mimetype": "text/x-python",
   "name": "python",
   "nbconvert_exporter": "python",
   "pygments_lexer": "ipython3",
   "version": "3.9.7"
  },
  "orig_nbformat": 4,
  "vscode": {
   "interpreter": {
    "hash": "c34e8390e776d2ee205b71ed5a6130fee3cef8da5e87e926ce18e14f4a070d72"
   }
  }
 },
 "nbformat": 4,
 "nbformat_minor": 2
}
